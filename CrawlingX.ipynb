{
 "cells": [
  {
   "cell_type": "code",
   "execution_count": 2,
   "metadata": {},
   "outputs": [
    {
     "name": "stdout",
     "output_type": "stream",
     "text": [
      "Requirement already satisfied: apify-client in c:\\users\\pudin\\anaconda3\\lib\\site-packages (1.8.1)\n",
      "Requirement already satisfied: apify-shared>=1.1.2 in c:\\users\\pudin\\anaconda3\\lib\\site-packages (from apify-client) (1.2.1)\n",
      "Requirement already satisfied: httpx>=0.25.0 in c:\\users\\pudin\\anaconda3\\lib\\site-packages (from apify-client) (0.27.0)\n",
      "Requirement already satisfied: more_itertools>=10.0.0 in c:\\users\\pudin\\anaconda3\\lib\\site-packages (from apify-client) (10.3.0)\n",
      "Requirement already satisfied: anyio in c:\\users\\pudin\\anaconda3\\lib\\site-packages (from httpx>=0.25.0->apify-client) (4.2.0)\n",
      "Requirement already satisfied: certifi in c:\\users\\pudin\\anaconda3\\lib\\site-packages (from httpx>=0.25.0->apify-client) (2024.8.30)\n",
      "Requirement already satisfied: httpcore==1.* in c:\\users\\pudin\\anaconda3\\lib\\site-packages (from httpx>=0.25.0->apify-client) (1.0.2)\n",
      "Requirement already satisfied: idna in c:\\users\\pudin\\anaconda3\\lib\\site-packages (from httpx>=0.25.0->apify-client) (3.7)\n",
      "Requirement already satisfied: sniffio in c:\\users\\pudin\\anaconda3\\lib\\site-packages (from httpx>=0.25.0->apify-client) (1.3.0)\n",
      "Requirement already satisfied: h11<0.15,>=0.13 in c:\\users\\pudin\\anaconda3\\lib\\site-packages (from httpcore==1.*->httpx>=0.25.0->apify-client) (0.14.0)\n"
     ]
    }
   ],
   "source": [
    "!pip install apify-client"
   ]
  },
  {
   "cell_type": "code",
   "execution_count": 8,
   "metadata": {},
   "outputs": [],
   "source": [
    "# import Apify client\n",
    "from apify_client import ApifyClient\n",
    "\n",
    "# Please enter your API token\n",
    "api_token = 'YOUR_TOKEN'"
   ]
  },
  {
   "cell_type": "code",
   "execution_count": 7,
   "metadata": {},
   "outputs": [
    {
     "name": "stdout",
     "output_type": "stream",
     "text": [
      "{'noResults': True}\n"
     ]
    }
   ],
   "source": [
    "from apify_client import ApifyClient\n",
    "\n",
    "# Initialize the ApifyClient with your API token\n",
    "client = ApifyClient(api_token)\n",
    "\n",
    "# Prepare the Actor input\n",
    "run_input = {\n",
    "    \"startUrls\": [\n",
    "        \"https://x.com/Cristiano\",\n",
    "    ],\n",
    "    \"searchTerms\": [\n",
    "        \"web scraping\",\n",
    "        \"scraping from:apify\",\n",
    "    ],\n",
    "    \"maxItems\": 1000,\n",
    "    \"sort\": \"Latest\",\n",
    "    \"tweetLanguage\": \"en\",\n",
    "    \"author\": \"apify\",\n",
    "    \"inReplyTo\": \"webexpo\",\n",
    "    \"mentioning\": \"elonmusk\",\n",
    "    \"geotaggedNear\": \"Los Angeles\",\n",
    "    \"withinRadius\": \"15km\",\n",
    "    \"geocode\": \"37.7764685,-122.4172004,10km\",\n",
    "    \"placeObjectId\": \"96683cc9126741d1\",\n",
    "    \"minimumRetweets\": 5,\n",
    "    \"minimumFavorites\": 5,\n",
    "    \"minimumReplies\": 5,\n",
    "    \"start\": \"2021-07-01\",\n",
    "    \"end\": \"2021-07-02\",\n",
    "    \"customMapFunction\": \"(object) => { return {...object} }\",\n",
    "}\n",
    "\n",
    "# Run the Actor and wait for it to finish\n",
    "# Please enter your Actor ID\n",
    "run = client.actor(\"61RPP7dywgiy0JPD0\").call(run_input=run_input)\n",
    "\n",
    "# Fetch and print Actor results from the run's dataset (if there are any)\n",
    "for item in client.dataset(run[\"defaultDatasetId\"]).iterate_items():\n",
    "    print(item)"
   ]
  }
 ],
 "metadata": {
  "kernelspec": {
   "display_name": "base",
   "language": "python",
   "name": "python3"
  },
  "language_info": {
   "codemirror_mode": {
    "name": "ipython",
    "version": 3
   },
   "file_extension": ".py",
   "mimetype": "text/x-python",
   "name": "python",
   "nbconvert_exporter": "python",
   "pygments_lexer": "ipython3",
   "version": "3.12.7"
  }
 },
 "nbformat": 4,
 "nbformat_minor": 2
}
