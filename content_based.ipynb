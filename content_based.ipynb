{
  "nbformat": 4,
  "nbformat_minor": 0,
  "metadata": {
    "colab": {
      "provenance": [],
      "authorship_tag": "ABX9TyMPnBG5MIk95zZ8q/kCFEAY",
      "include_colab_link": true
    },
    "kernelspec": {
      "name": "python3",
      "display_name": "Python 3"
    },
    "language_info": {
      "name": "python"
    }
  },
  "cells": [
    {
      "cell_type": "markdown",
      "metadata": {
        "id": "view-in-github",
        "colab_type": "text"
      },
      "source": [
        "<a href=\"https://colab.research.google.com/github/tpgus2603/DataMining/blob/main/content_based.ipynb\" target=\"_parent\"><img src=\"https://colab.research.google.com/assets/colab-badge.svg\" alt=\"Open In Colab\"/></a>"
      ]
    },
    {
      "cell_type": "code",
      "execution_count": 1,
      "metadata": {
        "colab": {
          "base_uri": "https://localhost:8080/"
        },
        "id": "5lgz0JbmNwxv",
        "outputId": "d176f301-b120-46e5-e6e7-fa6240b1d13e"
      },
      "outputs": [
        {
          "output_type": "stream",
          "name": "stdout",
          "text": [
            "Mounted at /content/drive\n"
          ]
        }
      ],
      "source": [
        "from google.colab import drive\n",
        "drive.mount('/content/drive')"
      ]
    },
    {
      "cell_type": "code",
      "source": [
        "cd ./drive/MyDrive/json_csv_files"
      ],
      "metadata": {
        "colab": {
          "base_uri": "https://localhost:8080/"
        },
        "id": "Byt5hvPQRjam",
        "outputId": "4b848971-084b-4a85-a0ec-cf64d8c97e3b"
      },
      "execution_count": 4,
      "outputs": [
        {
          "output_type": "stream",
          "name": "stdout",
          "text": [
            "/content/drive/MyDrive/json_csv_files\n"
          ]
        }
      ]
    },
    {
      "cell_type": "code",
      "source": [],
      "metadata": {
        "colab": {
          "base_uri": "https://localhost:8080/"
        },
        "id": "E81f4al4Sfpl",
        "outputId": "974b46f4-906c-4c59-f9cd-98ceb29d0ab9"
      },
      "execution_count": 6,
      "outputs": [
        {
          "output_type": "stream",
          "name": "stdout",
          "text": [
            "/content/drive/MyDrive/json_csv_files/amazon_review2\n"
          ]
        }
      ]
    },
    {
      "cell_type": "code",
      "source": [],
      "metadata": {
        "colab": {
          "base_uri": "https://localhost:8080/",
          "height": 35
        },
        "id": "UbU8FdwNvU9T",
        "outputId": "330c26ad-8855-4ab1-f721-773e49bf988e"
      },
      "execution_count": 8,
      "outputs": [
        {
          "output_type": "execute_result",
          "data": {
            "text/plain": [
              "'/content/drive/MyDrive/json_csv_files/amazon_review2'"
            ],
            "application/vnd.google.colaboratory.intrinsic+json": {
              "type": "string"
            }
          },
          "metadata": {},
          "execution_count": 8
        }
      ]
    },
    {
      "cell_type": "code",
      "source": [
        "import pandas as pd\n",
        "import numpy as np\n",
        "import matplotlib.pyplot as plt\n",
        "import seaborn as sns\n",
        "from ast import literal_eval\n",
        "from sklearn.feature_extraction.text import TfidfVectorizer\n",
        "from sklearn.feature_extraction.text import CountVectorizer\n",
        "from sklearn.metrics.pairwise import cosine_similarity"
      ],
      "metadata": {
        "id": "lOsGxzuFTMus"
      },
      "execution_count": null,
      "outputs": []
    },
    {
      "cell_type": "code",
      "source": [
        "# 라이브러리 설치 (필요시)\n",
        "!pip install pandas scikit-learn\n",
        "\n",
        "# 라이브러리 임포트\n",
        "import pandas as pd\n",
        "from sklearn.feature_extraction.text import TfidfVectorizer\n",
        "from sklearn.metrics.pairwise import cosine_similarity"
      ],
      "metadata": {
        "colab": {
          "base_uri": "https://localhost:8080/"
        },
        "id": "8kdze4FbYyzm",
        "outputId": "9c0be33a-cc71-49c9-8845-bc75b2fd1b2e"
      },
      "execution_count": 9,
      "outputs": [
        {
          "output_type": "stream",
          "name": "stdout",
          "text": [
            "Requirement already satisfied: pandas in /usr/local/lib/python3.10/dist-packages (2.2.2)\n",
            "Requirement already satisfied: scikit-learn in /usr/local/lib/python3.10/dist-packages (1.5.2)\n",
            "Requirement already satisfied: numpy>=1.22.4 in /usr/local/lib/python3.10/dist-packages (from pandas) (1.26.4)\n",
            "Requirement already satisfied: python-dateutil>=2.8.2 in /usr/local/lib/python3.10/dist-packages (from pandas) (2.8.2)\n",
            "Requirement already satisfied: pytz>=2020.1 in /usr/local/lib/python3.10/dist-packages (from pandas) (2024.2)\n",
            "Requirement already satisfied: tzdata>=2022.7 in /usr/local/lib/python3.10/dist-packages (from pandas) (2024.2)\n",
            "Requirement already satisfied: scipy>=1.6.0 in /usr/local/lib/python3.10/dist-packages (from scikit-learn) (1.13.1)\n",
            "Requirement already satisfied: joblib>=1.2.0 in /usr/local/lib/python3.10/dist-packages (from scikit-learn) (1.4.2)\n",
            "Requirement already satisfied: threadpoolctl>=3.1.0 in /usr/local/lib/python3.10/dist-packages (from scikit-learn) (3.5.0)\n",
            "Requirement already satisfied: six>=1.5 in /usr/local/lib/python3.10/dist-packages (from python-dateutil>=2.8.2->pandas) (1.16.0)\n"
          ]
        }
      ]
    },
    {
      "cell_type": "code",
      "source": [
        "# 상품 데이터 파일 경로\n",
        "products_file_path = './combined_data2.json'  # 실제 파일 경로로 변경하세요\n",
        "\n",
        "# 상품 데이터 로드 (JSON Lines 형식)\n",
        "products_df = pd.read_json(products_file_path, lines=True)\n",
        "\n",
        "# 원하는 카테고리 목록\n",
        "desired_categories = ['Beauty', 'Car', 'Fashion', 'Grocery_Gourmet_Food', 'Sports_Outdoors']\n",
        "\n",
        "# 카테고리 필터링\n",
        "filtered_products_df = products_df[products_df['category'].isin(desired_categories)].copy()\n",
        "\n",
        "# 필요 없는 열 제거\n",
        "filtered_products_df = filtered_products_df[['rating', 'title', 'text', 'helpful_vote', 'verified_purchase', 'product_title', 'category', 'parent_asin']]\n",
        "\n",
        "print(\"Filtered Products DataFrame:\")\n",
        "print(filtered_products_df.head())"
      ],
      "metadata": {
        "colab": {
          "base_uri": "https://localhost:8080/"
        },
        "id": "0z_XUFWuugKi",
        "outputId": "b968b768-258b-4656-8f22-996760513dc7"
      },
      "execution_count": 17,
      "outputs": [
        {
          "output_type": "stream",
          "name": "stdout",
          "text": [
            "Filtered Products DataFrame:\n",
            "      rating                      title  \\\n",
            "5321       5                 Excellent!   \n",
            "5322       5         Perfect repair kit   \n",
            "5323       5           Awesome leathers   \n",
            "5324       4  Nice product, sizing off!   \n",
            "5325       4             Mixed feelings   \n",
            "\n",
            "                                                   text  helpful_vote  \\\n",
            "5321                                 I love it. Pretty!             0   \n",
            "5322  I have a great Weaver halter. Recently, the Ch...             0   \n",
            "5323  These are amazing. My trainer noticed right aw...             6   \n",
            "5324  Product is well made, but sizing seems way off...             1   \n",
            "5325  I loved this chalk bag online, but in person, ...             0   \n",
            "\n",
            "      verified_purchase                                      product_title  \\\n",
            "5321                  1             CamelBak eddy Glass Water Bottle, 24oz   \n",
            "5322                  1     Weaver Leather Breakaway Fuse (3-Pack) , Brown   \n",
            "5323                  0  Total Saddle Fit Stability Stirrup Leathers Ju...   \n",
            "5324                  1  ScubaMax 3mm Snorkeling, Scuba Diving Fin Low ...   \n",
            "5325                  1                              prAna Hemp Chalk Bags   \n",
            "\n",
            "             category parent_asin  \n",
            "5321  Sports_Outdoors  B00NXQLFQQ  \n",
            "5322  Sports_Outdoors  B00IET8S80  \n",
            "5323  Sports_Outdoors  B07NJ2SZQX  \n",
            "5324  Sports_Outdoors  B00GAG0LDO  \n",
            "5325  Sports_Outdoors  B001D08ZBW  \n"
          ]
        }
      ]
    },
    {
      "cell_type": "code",
      "source": [
        "# 사용자 리뷰 데이터 파일 경로\n",
        "user_reviews_file_path = './user_reviews.json'  # 실제 파일 경로로 변경하세요\n",
        "\n",
        "# 사용자 리뷰 데이터 로드 (JSON Lines 형식)\n",
        "user_reviews_df = pd.read_json(user_reviews_file_path, lines=True)\n",
        "\n",
        "# 필요 없는 열 제거\n",
        "user_reviews_df = user_reviews_df[['title', 'text', 'helpful_vote', 'verified_purchase', 'product_title', 'category', 'parent_asin']]\n",
        "\n",
        "# 원하는 카테고리만 필터링 (상품 데이터와 일치시킴)\n",
        "user_reviews_df = user_reviews_df[user_reviews_df['category'].isin(desired_categories)].copy()\n",
        "\n",
        "print(\"User Reviews DataFrame:\")\n",
        "print(user_reviews_df.head())"
      ],
      "metadata": {
        "colab": {
          "base_uri": "https://localhost:8080/"
        },
        "id": "hmbnUc_2ug3K",
        "outputId": "0cfdb429-c7c4-4e4d-df89-50cd09dfae72"
      },
      "execution_count": 18,
      "outputs": [
        {
          "output_type": "stream",
          "name": "stdout",
          "text": [
            "User Reviews DataFrame:\n",
            "                                           title  \\\n",
            "0                                   clip rollers   \n",
            "1  They smell good. They are just the right size   \n",
            "2                       replacement filing discs   \n",
            "3                           halo hair extensions   \n",
            "4           30ft 50Amp heavy duty extension cord   \n",
            "\n",
            "                                                text  helpful_vote  \\\n",
            "0  I purchased these to see if I could set my mom...             0   \n",
            "1  I'm a BIG wet nap fan.  Always have been.  The...             4   \n",
            "2  I purchased the tool for my 80 year old mom be...             1   \n",
            "3  This halo hair extension is simply put, garbag...             4   \n",
            "4  30 ft 50Amp heavy duty extension cord - husban...             0   \n",
            "\n",
            "   verified_purchase                                      product_title  \\\n",
            "0                  1             1/8 inch Snap On Rollers 8 Pack (Pink)   \n",
            "1                  1             Wet-Nap Moist Towelette (case of 1000)   \n",
            "2                  1  Replacement Discs for Bellasonic 4-in-1 Rechar...   \n",
            "3                  1  Halo Hair Extensions Thick Invisible Wire Hair...   \n",
            "4                  1  Miady 30ft 50Amp Heavy Duty RV/EV Extension Co...   \n",
            "\n",
            "  category parent_asin  \n",
            "0   Beauty  B00946HGLW  \n",
            "1   Beauty  B0020MKBNW  \n",
            "2   Beauty  B082FLP15V  \n",
            "3   Beauty  B0BFR5WF1R  \n",
            "4      Car  B07H7Y916X  \n"
          ]
        }
      ]
    },
    {
      "cell_type": "code",
      "source": [
        "def combine_text(df):\n",
        "    return df['title'].fillna('') + ' ' + df['text'].fillna('') + ' ' + df['product_title'].fillna('')\n",
        "\n",
        "# 평가 기준 설정 (rating == 5.0)\n",
        "rating_threshold = 5.0"
      ],
      "metadata": {
        "id": "jyH8MaUw97XC"
      },
      "execution_count": 19,
      "outputs": []
    },
    {
      "cell_type": "code",
      "source": [
        "def get_recommendations_based_on_high_rating(user_reviews_df, high_rating_products_df, tfidf_matrix, asin_to_index, category_df, top_n=5):\n",
        "    recommendations = []\n",
        "    reviewed_asins = set(user_reviews_df['parent_asin'])\n",
        "    for _, review in user_reviews_df.iterrows():\n",
        "        asin = review['parent_asin']\n",
        "        if asin not in asin_to_index:\n",
        "            continue\n",
        "        idx = asin_to_index[asin]\n",
        "        cosine_sim = cosine_similarity(tfidf_matrix[idx], tfidf_matrix).flatten()\n",
        "        similar_indices = cosine_sim.argsort()[::-1][1:top_n+1]\n",
        "\n",
        "        similar_products_all = category_df.iloc[similar_indices]\n",
        "        similar_products = similar_products_all[similar_products_all['rating'] == 5.0]\n",
        "        recommendations.append(similar_products)\n",
        "\n",
        "    if recommendations:\n",
        "        recommendations_df = pd.concat(recommendations).drop_duplicates()\n",
        "        recommendations_df = recommendations_df[~recommendations_df['parent_asin'].isin(reviewed_asins)]\n",
        "        # 여기서 상위 5개로 결과 제한\n",
        "        recommendations_df = recommendations_df.head(top_n)\n",
        "        return recommendations_df\n",
        "    else:\n",
        "        return pd.DataFrame()\n",
        "\n",
        "\n",
        "def get_recommendations_based_on_similarity(user_tfidf, tfidf_matrix, category_df, user_reviews_df, asin_to_index, top_n=5):\n",
        "    cosine_sim_user = cosine_similarity(user_tfidf, tfidf_matrix).flatten()\n",
        "    user_asins = user_reviews_df['parent_asin'].tolist()\n",
        "    user_indices = [asin_to_index[asin] for asin in user_asins if asin in asin_to_index]\n",
        "    sorted_indices = cosine_sim_user.argsort()[::-1]\n",
        "    sorted_indices = [idx for idx in sorted_indices if idx not in user_indices]\n",
        "    top_indices = sorted_indices[:top_n]\n",
        "    recommended_products = category_df.iloc[top_indices]\n",
        "    # 필요하다면 여기서도 head(top_n) 적용 가능 (이미 top_n 갯수로 제한되어 있으므로 불필요)\n",
        "    return recommended_products.head(top_n)\n"
      ],
      "metadata": {
        "id": "IqzuTpmzvIq3"
      },
      "execution_count": 23,
      "outputs": []
    },
    {
      "cell_type": "code",
      "source": [
        "# 5개 카테고리에 대해 반복 수행\n",
        "for target_category in desired_categories:\n",
        "    print(\"\\n\" + \"=\"*50)\n",
        "    print(f\"Category: {target_category}\")\n",
        "    print(\"=\"*50)\n",
        "\n",
        "    # 해당 카테고리만 필터링\n",
        "    category_df = filtered_products_df[filtered_products_df['category'] == target_category].copy()\n",
        "    category_df['combined_text'] = combine_text(category_df)\n",
        "    user_reviews_df['combined_text'] = combine_text(user_reviews_df)\n",
        "\n",
        "    # TF-IDF 계산\n",
        "    tfidf = TfidfVectorizer(stop_words='english', max_features=5000)\n",
        "    tfidf_matrix = tfidf.fit_transform(category_df['combined_text'])\n",
        "\n",
        "    category_df = category_df.reset_index(drop=True)\n",
        "    category_df['index'] = category_df.index\n",
        "    asin_to_index = pd.Series(category_df.index, index=category_df['parent_asin']).to_dict()\n",
        "\n",
        "    print(\"TF-IDF Matrix Shape:\", tfidf_matrix.shape)\n",
        "\n",
        "    high_rating_products_df = category_df[category_df['rating'] == rating_threshold].copy()\n",
        "    print(f\"Number of products with rating {rating_threshold} in {target_category}: {len(high_rating_products_df)}\")\n",
        "\n",
        "    # rating 기반 추천\n",
        "    recommended_products_rating = get_recommendations_based_on_high_rating(user_reviews_df, high_rating_products_df, tfidf_matrix, asin_to_index, category_df, top_n=5)\n",
        "    print(\"평가 +유사도  추천 상품:\")\n",
        "    print(recommended_products_rating[['parent_asin', 'product_title', 'category']])\n",
        "\n",
        "    # 유사도 기반 추천\n",
        "    user_query = ' '.join(user_reviews_df['combined_text'].tolist())\n",
        "    user_tfidf = tfidf.transform([user_query])\n",
        "    recommended_products_similarity = get_recommendations_based_on_similarity(user_tfidf, tfidf_matrix, category_df, user_reviews_df, asin_to_index, top_n=5)\n",
        "    print(\"순수 유사도 기반 추천 상품:\")\n",
        "    print(recommended_products_similarity[['parent_asin', 'product_title', 'category']])"
      ],
      "metadata": {
        "colab": {
          "base_uri": "https://localhost:8080/"
        },
        "id": "VbknjHvVvKhd",
        "outputId": "9b615616-367b-453e-bb50-3c50de976e34"
      },
      "execution_count": 24,
      "outputs": [
        {
          "output_type": "stream",
          "name": "stdout",
          "text": [
            "\n",
            "==================================================\n",
            "Category: Beauty\n",
            "==================================================\n",
            "TF-IDF Matrix Shape: (9236, 5000)\n",
            "Number of products with rating 5.0 in Beauty: 5437\n",
            "평가 +유사도  추천 상품:\n",
            "     parent_asin                                      product_title category\n",
            "9048  B00FVHCR1M                 Denture Brush, 2 Count (Pack of 1)   Beauty\n",
            "1511  B07RBKHKGV  150pcs 2 Inch Hair Clips No Slip Metal Hair Cl...   Beauty\n",
            "8468  B071CK69W2  Women's Hair Bun Maker French Twist Hair Fold ...   Beauty\n",
            "5004  B07N8HJGHW  doTERRA 2019 Essential Oil Cap Sticker Labels ...   Beauty\n",
            "637   B003DLQNI6  Papier Poudre Oil Blotting Papers - Rachel 1 B...   Beauty\n",
            "순수 유사도 기반 추천 상품:\n",
            "     parent_asin                                      product_title category\n",
            "2262  B09VB59RFG                            LOVE CINEMA Mascara 222   Beauty\n",
            "7502  B00TXGZFHU  Beard/Stache Nutrients for Men: Beard Growth P...   Beauty\n",
            "4759  B08JP8NKQT  Ombre Blonde Yellow Afro Curly Synthetic Wig w...   Beauty\n",
            "7503  B00O965C0O  Natural 4D Silk Fiber Lash Mascara, Lengthenin...   Beauty\n",
            "6533  B077D4921Z  Magnet Eyelashes-Dual Magnetic False Eyelashes...   Beauty\n",
            "\n",
            "==================================================\n",
            "Category: Car\n",
            "==================================================\n",
            "TF-IDF Matrix Shape: (6188, 5000)\n",
            "Number of products with rating 5.0 in Car: 4178\n",
            "평가 +유사도  추천 상품:\n",
            "     parent_asin                                      product_title category\n",
            "5429  B09PB9KLZG  Yumpanda 30 Amp RV Extension Cord 25 Feet 3-Pr...      Car\n",
            "3728  B07NY4L8ZW  Mophorn 25Ft 50 Amp RV Extension Cord Durable ...      Car\n",
            "4658  B07KLBR996  Road Power 65039701 6/8 Gauge 30 ft. Extra Hea...      Car\n",
            "3577  B07KZPSLDT  AstroAI 12Ft/12V Cigarette Lighter Extension C...      Car\n",
            "2584  B000MCZKIS  LUMAX LX-1602 Black 16 oz. (480 mL) Plastic Fu...      Car\n",
            "순수 유사도 기반 추천 상품:\n",
            "    parent_asin                                      product_title category\n",
            "84   B0007ZHTTS  Bondo All-Purpose Putty, Designed for Interior...      Car\n",
            "81   B0B21D7L6J  MARSBASE Rivet Nut Tool, 13\" Hand Nut Riveter ...      Car\n",
            "102  B00J4XMJ7Q  DormCo The Iron Brick® Trunk - Strongest USA M...      Car\n",
            "100  B00J7XSOLS  Colourlock Leather & Textile Cleaning Brush | ...      Car\n",
            "87   B07XG483WV  StickerTalk Right Arrow Deliveries to Back Doo...      Car\n",
            "\n",
            "==================================================\n",
            "Category: Fashion\n",
            "==================================================\n",
            "TF-IDF Matrix Shape: (11837, 5000)\n",
            "Number of products with rating 5.0 in Fashion: 6352\n",
            "평가 +유사도  추천 상품:\n",
            "      parent_asin                                      product_title category\n",
            "6193   B0B7RYHWG1  Halloween Witch Hat for Halloween Decoration, ...  Fashion\n",
            "5656   B07GRQDQPX  FAERLIIRY Halloween Drop Earrings Set Devil Gh...  Fashion\n",
            "11733  B08SVW4LWM  Dacomfy Women's Casual Summer Shoes Comfortabl...  Fashion\n",
            "5614   B08SVW4LWM  Dacomfy Women's Casual Summer Shoes Comfortabl...  Fashion\n",
            "68     B07CXM43WL  Magnificent Rainbow Abalone Shell Flower Clip ...  Fashion\n",
            "순수 유사도 기반 추천 상품:\n",
            "   parent_asin                                      product_title category\n",
            "46  B098NYMTYH  WONFAITH [3 Packs] Adjustable Elastic Watch Ba...  Fashion\n",
            "74  B00OFB4TMK  Womens Vintage Cat Eye Sunglasses Black Frame ...  Fashion\n",
            "64  B01ARUW0FA  SIEFERSN Fashion Design Women's Lambskin Touch...  Fashion\n",
            "71  B01MU3HEGW  Meaneor Women's Plus Size Long Sleeve Lace Up ...  Fashion\n",
            "63  B07FL1QWX4  Little Boys Sleepwear Snug-Fit Cotton Summer P...  Fashion\n",
            "\n",
            "==================================================\n",
            "Category: Grocery_Gourmet_Food\n",
            "==================================================\n",
            "TF-IDF Matrix Shape: (4862, 5000)\n",
            "Number of products with rating 5.0 in Grocery_Gourmet_Food: 3187\n",
            "평가 +유사도  추천 상품:\n",
            "    parent_asin                                      product_title  \\\n",
            "526  B00WI0T4HU  Kraft Original Easy Microwavable Macaroni and ...   \n",
            "524  B005F7SQKO  Peppadew Peppers - Mild - Value Bundle of 6 (8...   \n",
            "533  B01MQRSTKC  BUSH'S BEST Canned Reduced Sodium Black Beans ...   \n",
            "535  B0B75QKL5C  Make Your Day Variety, Pop Tarts Frosted Brown...   \n",
            "532  B01M7NO582  Kraft Chicken Stove Top Stuffing Mix (6 oz. bo...   \n",
            "\n",
            "                 category  \n",
            "526  Grocery_Gourmet_Food  \n",
            "524  Grocery_Gourmet_Food  \n",
            "533  Grocery_Gourmet_Food  \n",
            "535  Grocery_Gourmet_Food  \n",
            "532  Grocery_Gourmet_Food  \n",
            "순수 유사도 기반 추천 상품:\n",
            "    parent_asin                                      product_title  \\\n",
            "533  B01MQRSTKC  BUSH'S BEST Canned Reduced Sodium Black Beans ...   \n",
            "526  B00WI0T4HU  Kraft Original Easy Microwavable Macaroni and ...   \n",
            "520  B06XKSFW4P  Saltverk Flaky Sea Salt, 3.17 Ounces of Handcr...   \n",
            "524  B005F7SQKO  Peppadew Peppers - Mild - Value Bundle of 6 (8...   \n",
            "532  B01M7NO582  Kraft Chicken Stove Top Stuffing Mix (6 oz. bo...   \n",
            "\n",
            "                 category  \n",
            "533  Grocery_Gourmet_Food  \n",
            "526  Grocery_Gourmet_Food  \n",
            "520  Grocery_Gourmet_Food  \n",
            "524  Grocery_Gourmet_Food  \n",
            "532  Grocery_Gourmet_Food  \n",
            "\n",
            "==================================================\n",
            "Category: Sports_Outdoors\n",
            "==================================================\n",
            "TF-IDF Matrix Shape: (4864, 5000)\n",
            "Number of products with rating 5.0 in Sports_Outdoors: 3241\n",
            "평가 +유사도  추천 상품:\n",
            "     parent_asin                                      product_title  \\\n",
            "83    B07H843VM4  SAN LIKE Baitcasting Fishing Rods Lightweight ...   \n",
            "3349  B08543S2BR  ODDSPRO Fishing Rod Socks 67inches/74.8inches ...   \n",
            "2153  B01FPUFE3M  Streetwise Security Products SMKM20PK Streetwi...   \n",
            "155   B01932FB9K  Olympiad Yoga Strap Belt for Stretching | Meta...   \n",
            "154   B0012QZTU2  Kershaw 1600VIB Ken Onion Rainbow Chive Pocket...   \n",
            "\n",
            "             category  \n",
            "83    Sports_Outdoors  \n",
            "3349  Sports_Outdoors  \n",
            "2153  Sports_Outdoors  \n",
            "155   Sports_Outdoors  \n",
            "154   Sports_Outdoors  \n",
            "순수 유사도 기반 추천 상품:\n",
            "    parent_asin                                      product_title  \\\n",
            "131  B01L8MUHIS  SHARPAL 101N 6-In-1 Pocket Knife Sharpener & S...   \n",
            "155  B01932FB9K  Olympiad Yoga Strap Belt for Stretching | Meta...   \n",
            "149  B01N2GHEBE  GWHOLE Military Lensatic Sighting Clinometer C...   \n",
            "135  B08HLJLMJ4  Venture Pal Large 1 Gallon/128oz Motivational ...   \n",
            "150  B0009K4EEY             Learning Resources Directional Compass   \n",
            "\n",
            "            category  \n",
            "131  Sports_Outdoors  \n",
            "155  Sports_Outdoors  \n",
            "149  Sports_Outdoors  \n",
            "135  Sports_Outdoors  \n",
            "150  Sports_Outdoors  \n"
          ]
        }
      ]
    }
  ]
}