{
 "cells": [
  {
   "cell_type": "code",
   "execution_count": 4,
   "metadata": {
    "colab": {
     "base_uri": "https://localhost:8080/"
    },
    "id": "ay6Ao3xBAsqe",
    "outputId": "12ad1be6-7e69-4d6f-e0c9-0bb493d1116e"
   },
   "outputs": [],
   "source": [
    "# local에 padnas, numpy, matplotlib 설치필요\n",
    "import pandas as pd\n",
    "import numpy as np\n",
    "import matplotlib.pyplot as plt\n",
    "%matplotlib inline"
   ]
  },
  {
   "cell_type": "markdown",
   "metadata": {
    "id": "1NPRwxMPT1pL"
   },
   "source": [
    "# 1. Amazon Data"
   ]
  },
  {
   "cell_type": "markdown",
   "metadata": {
    "id": "Y03QwxMbd5kJ"
   },
   "source": [
    "**1-1. Used Data**\n",
    "\n",
    "*   https://amazon-reviews-2023.github.io/\n",
    "\n",
    "\n",
    "\n",
    "\n"
   ]
  },
  {
   "cell_type": "markdown",
   "metadata": {},
   "source": [
    "Item Based CF"
   ]
  },
  {
   "cell_type": "code",
   "execution_count": 5,
   "metadata": {
    "id": "fyhGAnbHyY62"
   },
   "outputs": [],
   "source": [
    "def preprocess_review(review_path):\n",
    "    try:\n",
    "      review_df = pd.read_json(review_path,lines=True)\n",
    "      filtered_review_df = review_df[[\"asin\", \"rating\", \"user_id\", \"title\", \"category\"]]\n",
    "      distinct_review_df = filtered_review_df.drop_duplicates(subset=[\"user_id\", \"asin\"])\n",
    "      return distinct_review_df\n",
    "    except Exception as e:\n",
    "        print(f\"Error in preprocess_review: {e}\")\n",
    "        raise"
   ]
  },
  {
   "cell_type": "code",
   "execution_count": 6,
   "metadata": {
    "colab": {
     "base_uri": "https://localhost:8080/"
    },
    "id": "Y4zAQdgFT0mO",
    "outputId": "ec2bd5e8-87d4-4055-8b8d-bab6ec88a7ca"
   },
   "outputs": [],
   "source": [
    "import os\n",
    "\n",
    "# 로컬 파일 경로 지정\n",
    "review_path = os.path.abspath(\"./Data/Amazon/Review/combined_data2.json\")\n",
    "review_df = preprocess_review(review_path)"
   ]
  },
  {
   "cell_type": "code",
   "execution_count": 7,
   "metadata": {},
   "outputs": [],
   "source": [
    "# 입력한 카테고리에서 인기 상품을 추천하는 함수\n",
    "def CategoryBasedRecommend(review_df, targetCategory, top_n=5):\n",
    "    \n",
    "    filtered_df = review_df[review_df[\"category\"] == targetCategory]\n",
    "    \n",
    "    if filtered_df.empty:\n",
    "        print(f\"카테고리 '{targetCategory}'에 해당하는 데이터가 없습니다.\")\n",
    "        return pd.DataFrame()\n",
    "\n",
    "    popular_items = (\n",
    "        filtered_df.groupby([\"asin\", \"category\"])\n",
    "        .agg(avg_rating=(\"rating\", \"mean\"), num_reviews=(\"user_id\", \"count\"))\n",
    "        .reset_index()\n",
    "        .sort_values(by=[\"num_reviews\", \"avg_rating\"], ascending=[False, False])\n",
    "    )\n",
    "    top_items = popular_items.head(top_n)\n",
    "    return top_items"
   ]
  },
  {
   "cell_type": "code",
   "execution_count": 8,
   "metadata": {},
   "outputs": [
    {
     "name": "stdout",
     "output_type": "stream",
     "text": [
      "Electronics의 상위 5개 상품 : \n",
      "            asin     category  avg_rating  num_reviews\n",
      "3090  B0791TX5P5  Electronics    5.000000           15\n",
      "3427  B07HZLHPKP  Electronics    4.090909           11\n",
      "1686  B00OQVZDJM  Electronics    4.125000            8\n",
      "756   B006GWO5WK  Electronics    5.000000            7\n",
      "630   B0051VVOB2  Electronics    4.857143            7\n",
      "\n",
      "\n",
      "Movies_TV의 상위 5개 상품 : \n",
      "            asin   category  avg_rating  num_reviews\n",
      "5343  B00RSGIVVO  Movies_TV    4.235294           17\n",
      "6496  B01J4SRJFW  Movies_TV    4.615385           13\n",
      "4707  B00I3MQNWG  Movies_TV    4.583333           12\n",
      "6151  B01AB17IGQ  Movies_TV    5.000000           11\n",
      "2319  B003AZCYCE  Movies_TV    4.909091           11\n",
      "\n",
      "\n",
      "Sports_Outdoors의 상위 5개 상품 : \n",
      "            asin         category  avg_rating  num_reviews\n",
      "1483  B00NPLSZF8  Sports_Outdoors    5.000000           10\n",
      "2023  B01C5QSENQ  Sports_Outdoors    4.833333            6\n",
      "917   B008BTHDQQ  Sports_Outdoors    4.500000            6\n",
      "613   B003XPISEO  Sports_Outdoors    5.000000            5\n",
      "1078  B00BGO0Q9O  Sports_Outdoors    4.400000            5\n",
      "\n",
      "\n",
      "Video_Games의 상위 5개 상품 : \n",
      "            asin     category  avg_rating  num_reviews\n",
      "2245  B01N3ASPNV  Video_Games    4.782609           23\n",
      "972   B004RMK5QG  Video_Games    5.000000           22\n",
      "1391  B00E4MQODC  Video_Games    3.352941           17\n",
      "1326  B00BGA9WK2  Video_Games    4.916667           12\n",
      "2092  B01GW3H3U8  Video_Games    4.333333           12\n",
      "\n",
      "\n",
      "Software의 상위 5개 상품 : \n",
      "            asin  category  avg_rating  num_reviews\n",
      "3808  B07T771SPH  Software    4.436893          103\n",
      "1806  B00KDSGIPK  Software    4.079545           88\n",
      "501   B005ZXWMUS  Software    4.404762           84\n",
      "906   B0094BB4TW  Software    3.841463           82\n",
      "2580  B017250D16  Software    3.291139           79\n",
      "\n",
      "\n",
      "Fashion의 상위 5개 상품 : \n",
      "            asin category  avg_rating  num_reviews\n",
      "77    B0045H0L1W  Fashion         4.5            6\n",
      "5313  B07W1KHP15  Fashion         5.0            5\n",
      "6284  B0856TH4LK  Fashion         4.8            5\n",
      "3947  B07GPTHY4K  Fashion         4.2            5\n",
      "5974  B081ZDLRWH  Fashion         4.2            5\n",
      "\n",
      "\n",
      "Grocery_Gourmet_Food의 상위 5개 상품 : \n",
      "            asin              category  avg_rating  num_reviews\n",
      "2005  B079TRNVHX  Grocery_Gourmet_Food    4.383142         1044\n",
      "2008  B079TSJ1TF  Grocery_Gourmet_Food    4.545455           22\n",
      "2017  B079V3BX9N  Grocery_Gourmet_Food    4.750000           16\n",
      "2796  B0872ZMXBG  Grocery_Gourmet_Food    4.500000            8\n",
      "2013  B079V1D53Z  Grocery_Gourmet_Food    5.000000            6\n",
      "\n",
      "\n",
      "Car의 상위 5개 상품 : \n",
      "            asin category  avg_rating  num_reviews\n",
      "1805  B00BYH6C1E      Car    4.846154           13\n",
      "4049  B07HNHC828      Car    5.000000            7\n",
      "1426  B006Z907TY      Car    5.000000            6\n",
      "2900  B01D42TYFC      Car    4.833333            6\n",
      "4525  B07W46BX31      Car    4.000000            6\n",
      "\n",
      "\n",
      "Beauty의 상위 5개 상품 : \n",
      "            asin category  avg_rating  num_reviews\n",
      "1451  B012Q9NGE4   Beauty    4.550000           20\n",
      "1391  B0107QYW14   Beauty    4.222222           18\n",
      "1107  B00R1TAN7I   Beauty    3.722222           18\n",
      "1601  B0171UQIUW   Beauty    4.176471           17\n",
      "3319  B07C533XCW   Beauty    4.058824           17\n",
      "\n",
      "\n",
      "Music의 상위 5개 상품 : \n",
      "            asin category  avg_rating  num_reviews\n",
      "187   5559166928    Music    4.666667           30\n",
      "241   B0000041CD    Music    4.629630           27\n",
      "6019  B014QI0FI8    Music    4.954545           22\n",
      "443   B00003CXKT    Music    3.954545           22\n",
      "4547  B00A44I5M2    Music    4.900000           20\n",
      "\n",
      "\n"
     ]
    }
   ],
   "source": [
    "categories = [\n",
    "    \"Electronics\",\n",
    "    \"Movies_TV\",\n",
    "    \"Sports_Outdoors\",\n",
    "    \"Video_Games\",\n",
    "    \"Software\",\n",
    "    \"Fashion\",\n",
    "    \"Grocery_Gourmet_Food\",\n",
    "    \"Car\",\n",
    "    \"Beauty\",\n",
    "    \"Music\"\n",
    "    ]\n",
    "\n",
    "top_n_product = []\n",
    "\n",
    "for targetCategory in categories:\n",
    "    result = CategoryBasedRecommend(review_df,targetCategory)\n",
    "    print(targetCategory+\"의 상위 5개 상품 : \")\n",
    "    print(result)\n",
    "    print(\"\\n\")\n",
    "    top_n_product.append(result)"
   ]
  }
 ],
 "metadata": {
  "accelerator": "GPU",
  "colab": {
   "collapsed_sections": [
    "psvfGRIXC_xq"
   ],
   "gpuType": "T4",
   "provenance": []
  },
  "kernelspec": {
   "display_name": "base",
   "language": "python",
   "name": "python3"
  },
  "language_info": {
   "codemirror_mode": {
    "name": "ipython",
    "version": 3
   },
   "file_extension": ".py",
   "mimetype": "text/x-python",
   "name": "python",
   "nbconvert_exporter": "python",
   "pygments_lexer": "ipython3",
   "version": "3.12.7"
  }
 },
 "nbformat": 4,
 "nbformat_minor": 0
}
