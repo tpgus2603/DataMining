{
 "cells": [
  {
   "cell_type": "code",
   "execution_count": 1,
   "metadata": {
    "colab": {
     "base_uri": "https://localhost:8080/"
    },
    "id": "ay6Ao3xBAsqe",
    "outputId": "12ad1be6-7e69-4d6f-e0c9-0bb493d1116e"
   },
   "outputs": [],
   "source": [
    "# local에 padnas, numpy, matplotlib 설치필요\n",
    "import pandas as pd\n",
    "import numpy as np\n",
    "import matplotlib.pyplot as plt\n",
    "%matplotlib inline"
   ]
  },
  {
   "cell_type": "markdown",
   "metadata": {
    "id": "1NPRwxMPT1pL"
   },
   "source": [
    "# 1. Amazon Data"
   ]
  },
  {
   "cell_type": "markdown",
   "metadata": {
    "id": "Y03QwxMbd5kJ"
   },
   "source": [
    "**1-1. Used Data**\n",
    "\n",
    "*   https://amazon-reviews-2023.github.io/\n",
    "\n",
    "\n",
    "\n",
    "\n"
   ]
  },
  {
   "cell_type": "markdown",
   "metadata": {},
   "source": [
    "Item Based CF"
   ]
  },
  {
   "cell_type": "code",
   "execution_count": 2,
   "metadata": {
    "id": "fyhGAnbHyY62"
   },
   "outputs": [],
   "source": [
    "def preprocess_review(review_path):\n",
    "    try:\n",
    "      review_df = pd.read_json(review_path)\n",
    "      filtered_review_df = review_df[[\"asin\", \"rating\", \"user_id\", \"title\", \"category\"]]\n",
    "      distinct_review_df = filtered_review_df.drop_duplicates(subset=[\"user_id\", \"asin\"])\n",
    "      return distinct_review_df\n",
    "    except Exception as e:\n",
    "        print(f\"Error in preprocess_review: {e}\")\n",
    "        raise"
   ]
  },
  {
   "cell_type": "code",
   "execution_count": 3,
   "metadata": {
    "colab": {
     "base_uri": "https://localhost:8080/"
    },
    "id": "Y4zAQdgFT0mO",
    "outputId": "ec2bd5e8-87d4-4055-8b8d-bab6ec88a7ca"
   },
   "outputs": [],
   "source": [
    "import os\n",
    "\n",
    "# 로컬 파일 경로 지정\n",
    "review_path = os.path.abspath(\"./Data/Amazon/Review/Total_Review.json\")\n",
    "review_df = preprocess_review(review_path)"
   ]
  },
  {
   "cell_type": "code",
   "execution_count": 13,
   "metadata": {},
   "outputs": [],
   "source": [
    "# 입력한 카테고리에서 인기 상품을 추천하는 함수\n",
    "def CategoryBasedRecommend(review_df, targetCategory, top_n=5):\n",
    "    \n",
    "    filtered_df = review_df[review_df[\"category\"] == targetCategory]\n",
    "    \n",
    "    if filtered_df.empty:\n",
    "        print(f\"카테고리 '{targetCategory}'에 해당하는 데이터가 없습니다.\")\n",
    "        return pd.DataFrame()\n",
    "\n",
    "    popular_items = (\n",
    "        filtered_df.groupby([\"asin\", \"title\", \"category\"])\n",
    "        .agg(avg_rating=(\"rating\", \"mean\"), num_reviews=(\"user_id\", \"count\"))\n",
    "        .reset_index()\n",
    "        .sort_values(by=[\"num_reviews\", \"avg_rating\"], ascending=[False, False])\n",
    "    )\n",
    "    top_items = popular_items.head(top_n)\n",
    "    return top_items"
   ]
  },
  {
   "cell_type": "code",
   "execution_count": 15,
   "metadata": {},
   "outputs": [
    {
     "name": "stdout",
     "output_type": "stream",
     "text": [
      "Electronics의 상위 5개 상품 : \n",
      "            asin       title     category  avg_rating  num_reviews\n",
      "3087  B00TSUGXKE  Five Stars  Electronics         5.0            3\n",
      "3467  B013TMNKAW  Five Stars  Electronics         5.0            3\n",
      "4018  B01DFKC2SO  Five Stars  Electronics         5.0            3\n",
      "1654  B0095PZHPE  Five Stars  Electronics         5.0            2\n",
      "2120  B00EL94Z4I  Five Stars  Electronics         5.0            2\n",
      "\n",
      "\n",
      "Movies_TV의 상위 5개 상품 : \n",
      "            asin       title   category  avg_rating  num_reviews\n",
      "5634  B00MR9UY8A  Five Stars  Movies_TV         5.0            4\n",
      "5829  B00PSLQYWE  Five Stars  Movies_TV         5.0            4\n",
      "6977  B01AB17IGQ  Five Stars  Movies_TV         5.0            4\n",
      "5948  B00RSGHX3Q  Five Stars  Movies_TV         5.0            3\n",
      "5956  B00RSGIVVO  Five Stars  Movies_TV         5.0            3\n",
      "\n",
      "\n",
      "Sports_Outdoors의 상위 5개 상품 : \n",
      "            asin       title         category  avg_rating  num_reviews\n",
      "308   B000J2J3X4  Five Stars  Sports_Outdoors         5.0            2\n",
      "2608  B00JP9AJC6  Five Stars  Sports_Outdoors         5.0            2\n",
      "1     B00002SVEQ     Awesome  Sports_Outdoors         5.0            1\n",
      "2     B00004T11T  Five Stars  Sports_Outdoors         5.0            1\n",
      "4     B00004YTQ2  Five Stars  Sports_Outdoors         5.0            1\n",
      "\n",
      "\n",
      "Video_Games의 상위 5개 상품 : \n",
      "            asin       title     category  avg_rating  num_reviews\n",
      "5122  B01MY7GHKJ  Five Stars  Video_Games         5.0            6\n",
      "3402  B00KI2OZ9M  Five Stars  Video_Games         5.0            4\n",
      "1706  B0042TVKZY  Five Stars  Video_Games         5.0            3\n",
      "1856  B004QRKWLA  Five Stars  Video_Games         5.0            3\n",
      "1875  B004RMK5QG  Five Stars  Video_Games         5.0            3\n",
      "\n",
      "\n",
      "Software의 상위 5개 상품 : \n",
      "            asin       title  category  avg_rating  num_reviews\n",
      "4792  B00N28818A  Five Stars  Software         5.0           16\n",
      "981   B005ZXWMUS  Five Stars  Software         5.0           14\n",
      "7407  B01N0BP507  Five Stars  Software         5.0           12\n",
      "2109  B0094BB4TW  Five Stars  Software         5.0           10\n",
      "395   B004FRX0MY  Five Stars  Software         5.0            9\n",
      "\n",
      "\n",
      "Fashion의 상위 5개 상품 : \n",
      "            asin       title category  avg_rating  num_reviews\n",
      "12    B000FIS5U4  Five Stars  Fashion         5.0            3\n",
      "315   B00AO9JUFI  Five Stars  Fashion         5.0            3\n",
      "828   B00S1VBULS  Five Stars  Fashion         5.0            2\n",
      "1040  B00YC4ISA4  Five Stars  Fashion         5.0            2\n",
      "1432  B017HOEGKG  Five Stars  Fashion         5.0            2\n",
      "\n",
      "\n",
      "Grocery_Gourmet_Food의 상위 5개 상품 : \n",
      "            asin       title              category  avg_rating  num_reviews\n",
      "5465  B079TRNVHX   Delicious  Grocery_Gourmet_Food    4.979167           48\n",
      "6106  B079TRNVHX       Yummy  Grocery_Gourmet_Food    4.909091           22\n",
      "5484  B079TRNVHX  Delicious!  Grocery_Gourmet_Food    5.000000           18\n",
      "6094  B079TRNVHX         Yum  Grocery_Gourmet_Food    5.000000            9\n",
      "5943  B079TRNVHX       Tasty  Grocery_Gourmet_Food    4.375000            8\n",
      "\n",
      "\n",
      "Car의 상위 5개 상품 : \n",
      "           asin       title category  avg_rating  num_reviews\n",
      "153  B00068XCQU  Five Stars      Car         5.0            2\n",
      "201  B0007ZJ1IK  Five Stars      Car         5.0            2\n",
      "266  B0009V1WS4  Five Stars      Car         5.0            2\n",
      "387  B000C1LW0E  Five Stars      Car         5.0            2\n",
      "399  B000C31KQS  Five Stars      Car         5.0            2\n",
      "\n",
      "\n",
      "Beauty의 상위 5개 상품 : \n",
      "            asin       title category  avg_rating  num_reviews\n",
      "1129  B00EEN2HCS  Five Stars   Beauty         5.0            6\n",
      "737   B007IAE5WY  Five Stars   Beauty         5.0            4\n",
      "2257  B0107QYW14  Five Stars   Beauty         5.0            4\n",
      "275   B001B9S416  Five Stars   Beauty         5.0            3\n",
      "631   B005IYYF5E  Five Stars   Beauty         5.0            3\n",
      "\n",
      "\n",
      "Music의 상위 5개 상품 : \n",
      "            asin       title category  avg_rating  num_reviews\n",
      "7098  B014QI0FI8  Five Stars    Music         5.0            8\n",
      "236   5559166928  Five Stars    Music         5.0            6\n",
      "351   B0000041CD  Five Stars    Music         5.0            6\n",
      "808   B00005J9UN  Five Stars    Music         5.0            4\n",
      "3455  B00274SHZW  Five Stars    Music         5.0            4\n",
      "\n",
      "\n"
     ]
    }
   ],
   "source": [
    "categories = [\n",
    "    \"Electronics\",\n",
    "    \"Movies_TV\",\n",
    "    \"Sports_Outdoors\",\n",
    "    \"Video_Games\",\n",
    "    \"Software\",\n",
    "    \"Fashion\",\n",
    "    \"Grocery_Gourmet_Food\",\n",
    "    \"Car\",\n",
    "    \"Beauty\",\n",
    "    \"Music\"\n",
    "    ]\n",
    "\n",
    "top_n_product = []\n",
    "\n",
    "for targetCategory in categories:\n",
    "    result = CategoryBasedRecommend(review_df,targetCategory)\n",
    "    print(targetCategory+\"의 상위 5개 상품 : \")\n",
    "    print(result)\n",
    "    print(\"\\n\")\n",
    "    top_n_product.append(result)"
   ]
  }
 ],
 "metadata": {
  "accelerator": "GPU",
  "colab": {
   "collapsed_sections": [
    "psvfGRIXC_xq"
   ],
   "gpuType": "T4",
   "provenance": []
  },
  "kernelspec": {
   "display_name": "base",
   "language": "python",
   "name": "python3"
  },
  "language_info": {
   "codemirror_mode": {
    "name": "ipython",
    "version": 3
   },
   "file_extension": ".py",
   "mimetype": "text/x-python",
   "name": "python",
   "nbconvert_exporter": "python",
   "pygments_lexer": "ipython3",
   "version": "3.12.7"
  }
 },
 "nbformat": 4,
 "nbformat_minor": 0
}
