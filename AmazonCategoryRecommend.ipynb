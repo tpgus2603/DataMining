{
 "cells": [
  {
   "cell_type": "code",
   "execution_count": 1,
   "metadata": {
    "colab": {
     "base_uri": "https://localhost:8080/"
    },
    "id": "ay6Ao3xBAsqe",
    "outputId": "12ad1be6-7e69-4d6f-e0c9-0bb493d1116e"
   },
   "outputs": [],
   "source": [
    "# local에 padnas, numpy, matplotlib 설치필요\n",
    "import pandas as pd\n",
    "import numpy as np\n",
    "import matplotlib.pyplot as plt\n",
    "%matplotlib inline"
   ]
  },
  {
   "cell_type": "markdown",
   "metadata": {
    "id": "1NPRwxMPT1pL"
   },
   "source": [
    "# 1. Amazon Data"
   ]
  },
  {
   "cell_type": "markdown",
   "metadata": {
    "id": "Y03QwxMbd5kJ"
   },
   "source": [
    "**1-1. Used Data**\n",
    "\n",
    "*   https://amazon-reviews-2023.github.io/\n",
    "\n",
    "\n",
    "\n",
    "\n"
   ]
  },
  {
   "cell_type": "markdown",
   "metadata": {},
   "source": [
    "Item Based CF"
   ]
  },
  {
   "cell_type": "code",
   "execution_count": 2,
   "metadata": {
    "id": "fyhGAnbHyY62"
   },
   "outputs": [],
   "source": [
    "def preprocess_review(review_path):\n",
    "    try:\n",
    "      review_df = pd.read_json(review_path)\n",
    "      filtered_review_df = review_df[[\"asin\", \"rating\", \"user_id\", \"title\", \"category\"]]\n",
    "      distinct_review_df = filtered_review_df.drop_duplicates(subset=[\"user_id\", \"asin\"])\n",
    "      return distinct_review_df\n",
    "    except Exception as e:\n",
    "        print(f\"Error in preprocess_review: {e}\")\n",
    "        raise"
   ]
  },
  {
   "cell_type": "code",
   "execution_count": 3,
   "metadata": {
    "colab": {
     "base_uri": "https://localhost:8080/"
    },
    "id": "Y4zAQdgFT0mO",
    "outputId": "ec2bd5e8-87d4-4055-8b8d-bab6ec88a7ca"
   },
   "outputs": [],
   "source": [
    "import os\n",
    "\n",
    "# 로컬 파일 경로 지정\n",
    "review_path = os.path.abspath(\"./Data/Amazon/Review/Total_Review.json\")\n",
    "review_df = preprocess_review(review_path)"
   ]
  },
  {
   "cell_type": "code",
   "execution_count": 16,
   "metadata": {},
   "outputs": [],
   "source": [
    "# 입력한 카테고리에서 인기 상품을 추천하는 함수\n",
    "def CategoryBasedRecommend(review_df, targetCategory, top_n=5):\n",
    "    \n",
    "    filtered_df = review_df[review_df[\"category\"] == targetCategory]\n",
    "    \n",
    "    if filtered_df.empty:\n",
    "        print(f\"카테고리 '{targetCategory}'에 해당하는 데이터가 없습니다.\")\n",
    "        return pd.DataFrame()\n",
    "\n",
    "    popular_items = (\n",
    "        filtered_df.groupby([\"asin\", \"category\"])\n",
    "        .agg(avg_rating=(\"rating\", \"mean\"), num_reviews=(\"user_id\", \"count\"))\n",
    "        .reset_index()\n",
    "        .sort_values(by=[\"num_reviews\", \"avg_rating\"], ascending=[False, False])\n",
    "    )\n",
    "    top_items = popular_items.head(top_n)\n",
    "    return top_items"
   ]
  },
  {
   "cell_type": "code",
   "execution_count": 17,
   "metadata": {},
   "outputs": [
    {
     "name": "stdout",
     "output_type": "stream",
     "text": [
      "Electronics의 상위 5개 상품 : \n",
      "            asin     category  avg_rating  num_reviews\n",
      "2946  B00ZV9RDKK  Electronics    4.323529           34\n",
      "5405  B07FZ8S74R  Electronics    4.551724           29\n",
      "5031  B079QHML21  Electronics    4.500000           26\n",
      "3541  B01DFKC2SO  Electronics    4.458333           24\n",
      "4066  B01MZEEFNX  Electronics    4.608696           23\n",
      "\n",
      "\n",
      "Movies_TV의 상위 5개 상품 : \n",
      "            asin   category  avg_rating  num_reviews\n",
      "5345  B00RSGIVVO  Movies_TV    4.235294           17\n",
      "6498  B01J4SRJFW  Movies_TV    4.615385           13\n",
      "4709  B00I3MQNWG  Movies_TV    4.583333           12\n",
      "6153  B01AB17IGQ  Movies_TV    5.000000           11\n",
      "2320  B003AZCYCE  Movies_TV    4.909091           11\n",
      "\n",
      "\n",
      "Sports_Outdoors의 상위 5개 상품 : \n",
      "            asin         category  avg_rating  num_reviews\n",
      "3367  B018L2WM86  Sports_Outdoors    5.000000           11\n",
      "2600  B00NPLSZF8  Sports_Outdoors    5.000000           10\n",
      "1039  B003FO2B5U  Sports_Outdoors    5.000000            9\n",
      "3459  B01AVDVHTI  Sports_Outdoors    4.125000            8\n",
      "2175  B00FTEUTMQ  Sports_Outdoors    4.285714            7\n",
      "\n",
      "\n",
      "Video_Games의 상위 5개 상품 : \n",
      "            asin     category  avg_rating  num_reviews\n",
      "3738  B01N3ASPNV  Video_Games    4.782609           23\n",
      "1485  B004RMK5QG  Video_Games    5.000000           22\n",
      "3483  B01H6GUCCQ  Video_Games    4.047619           21\n",
      "4883  B07KXQX3S3  Video_Games    4.941176           17\n",
      "3780  B01NAWKYZ0  Video_Games    4.823529           17\n",
      "\n",
      "\n",
      "Software의 상위 5개 상품 : \n",
      "            asin  category  avg_rating  num_reviews\n",
      "4042  B07T771SPH  Software    4.436893          103\n",
      "1929  B00KDSGIPK  Software    4.079545           88\n",
      "568   B005ZXWMUS  Software    4.404762           84\n",
      "988   B0094BB4TW  Software    3.841463           82\n",
      "2748  B017250D16  Software    3.291139           79\n",
      "\n",
      "\n",
      "Fashion의 상위 5개 상품 : \n",
      "            asin category  avg_rating  num_reviews\n",
      "11    B000FIS5U4  Fashion       4.900           10\n",
      "12    B000GAWSDG  Fashion       4.625            8\n",
      "90    B0045H0L1W  Fashion       4.500            6\n",
      "5791  B07W1KHP15  Fashion       5.000            5\n",
      "6825  B0856TH4LK  Fashion       4.800            5\n",
      "\n",
      "\n",
      "Grocery_Gourmet_Food의 상위 5개 상품 : \n",
      "            asin              category  avg_rating  num_reviews\n",
      "4710  B079TRNVHX  Grocery_Gourmet_Food    4.383142         1044\n",
      "4716  B079TSJ1TF  Grocery_Gourmet_Food    4.545455           22\n",
      "4726  B079V3BX9N  Grocery_Gourmet_Food    4.750000           16\n",
      "4714  B079TSHR6B  Grocery_Gourmet_Food    4.600000           15\n",
      "2490  B00LM3G7IS  Grocery_Gourmet_Food    5.000000            8\n",
      "\n",
      "\n",
      "Car의 상위 5개 상품 : \n",
      "            asin category  avg_rating  num_reviews\n",
      "4815  B06ZY896ZM      Car    4.000000           15\n",
      "2550  B00BYH6C1E      Car    4.846154           13\n",
      "4419  B01L9WSTEG      Car    4.875000            8\n",
      "6132  B07LHB3B2Q      Car    3.125000            8\n",
      "5915  B07HNHC828      Car    5.000000            7\n",
      "\n",
      "\n",
      "Beauty의 상위 5개 상품 : \n",
      "            asin category  avg_rating  num_reviews\n",
      "464   B007IAE5WY   Beauty    4.735294           34\n",
      "710   B00EEN2HCS   Beauty    4.080000           25\n",
      "1567  B012Q9NGE4   Beauty    4.550000           20\n",
      "537   B0092MCQZ4   Beauty    3.400000           20\n",
      "4618  B07TK2PSJF   Beauty    4.500000           18\n",
      "\n",
      "\n",
      "Music의 상위 5개 상품 : \n",
      "            asin category  avg_rating  num_reviews\n",
      "187   5559166928    Music    4.666667           30\n",
      "241   B0000041CD    Music    4.629630           27\n",
      "6019  B014QI0FI8    Music    4.954545           22\n",
      "443   B00003CXKT    Music    3.954545           22\n",
      "4547  B00A44I5M2    Music    4.900000           20\n",
      "\n",
      "\n"
     ]
    }
   ],
   "source": [
    "categories = [\n",
    "    \"Electronics\",\n",
    "    \"Movies_TV\",\n",
    "    \"Sports_Outdoors\",\n",
    "    \"Video_Games\",\n",
    "    \"Software\",\n",
    "    \"Fashion\",\n",
    "    \"Grocery_Gourmet_Food\",\n",
    "    \"Car\",\n",
    "    \"Beauty\",\n",
    "    \"Music\"\n",
    "    ]\n",
    "\n",
    "top_n_product = []\n",
    "\n",
    "for targetCategory in categories:\n",
    "    result = CategoryBasedRecommend(review_df,targetCategory)\n",
    "    print(targetCategory+\"의 상위 5개 상품 : \")\n",
    "    print(result)\n",
    "    print(\"\\n\")\n",
    "    top_n_product.append(result)"
   ]
  }
 ],
 "metadata": {
  "accelerator": "GPU",
  "colab": {
   "collapsed_sections": [
    "psvfGRIXC_xq"
   ],
   "gpuType": "T4",
   "provenance": []
  },
  "kernelspec": {
   "display_name": "base",
   "language": "python",
   "name": "python3"
  },
  "language_info": {
   "codemirror_mode": {
    "name": "ipython",
    "version": 3
   },
   "file_extension": ".py",
   "mimetype": "text/x-python",
   "name": "python",
   "nbconvert_exporter": "python",
   "pygments_lexer": "ipython3",
   "version": "3.12.7"
  }
 },
 "nbformat": 4,
 "nbformat_minor": 0
}
