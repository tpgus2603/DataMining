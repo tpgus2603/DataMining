{
 "cells": [
  {
   "cell_type": "code",
   "execution_count": 39,
   "metadata": {
    "colab": {
     "base_uri": "https://localhost:8080/"
    },
    "id": "ay6Ao3xBAsqe",
    "outputId": "12ad1be6-7e69-4d6f-e0c9-0bb493d1116e"
   },
   "outputs": [],
   "source": [
    "# local에 padnas, numpy, matplotlib 설치필요\n",
    "import pandas as pd\n",
    "import numpy as np\n",
    "import matplotlib.pyplot as plt\n",
    "%matplotlib inline"
   ]
  },
  {
   "cell_type": "markdown",
   "metadata": {
    "id": "1NPRwxMPT1pL"
   },
   "source": [
    "# 1. Amazon Data"
   ]
  },
  {
   "cell_type": "markdown",
   "metadata": {
    "id": "Y03QwxMbd5kJ"
   },
   "source": [
    "**1-1. Used Data**\n",
    "\n",
    "*   https://amazon-reviews-2023.github.io/\n",
    "\n",
    "\n",
    "\n",
    "\n"
   ]
  },
  {
   "cell_type": "markdown",
   "metadata": {},
   "source": [
    "Item Based CF"
   ]
  },
  {
   "cell_type": "code",
   "execution_count": 16,
   "metadata": {
    "id": "fyhGAnbHyY62"
   },
   "outputs": [],
   "source": [
    "def preprocess_review(review_path):\n",
    "    try:\n",
    "      review_df = pd.read_json(review_path)\n",
    "      filtered_review_df = review_df[[\"asin\", \"rating\", \"user_id\", \"title\", \"category\"]]\n",
    "      distinct_review_df = filtered_review_df.drop_duplicates(subset=[\"user_id\", \"asin\"])\n",
    "      return distinct_review_df\n",
    "    except Exception as e:\n",
    "        print(f\"Error in preprocess_review: {e}\")\n",
    "        raise"
   ]
  },
  {
   "cell_type": "code",
   "execution_count": 17,
   "metadata": {
    "colab": {
     "base_uri": "https://localhost:8080/"
    },
    "id": "Y4zAQdgFT0mO",
    "outputId": "ec2bd5e8-87d4-4055-8b8d-bab6ec88a7ca"
   },
   "outputs": [],
   "source": [
    "import os\n",
    "\n",
    "# 로컬 파일 경로 지정\n",
    "review_path = os.path.abspath(\"./Data/Amazon/Review/Total_Review.json\")\n",
    "review_df = preprocess_review(review_path)"
   ]
  },
  {
   "cell_type": "code",
   "execution_count": 18,
   "metadata": {},
   "outputs": [
    {
     "name": "stdout",
     "output_type": "stream",
     "text": [
      "<class 'pandas.core.frame.DataFrame'>\n",
      "Index: 99917 entries, 0 to 102994\n",
      "Data columns (total 5 columns):\n",
      " #   Column    Non-Null Count  Dtype  \n",
      "---  ------    --------------  -----  \n",
      " 0   asin      99916 non-null  object \n",
      " 1   rating    99916 non-null  float64\n",
      " 2   user_id   99915 non-null  object \n",
      " 3   title     99916 non-null  object \n",
      " 4   category  99917 non-null  object \n",
      "dtypes: float64(1), object(4)\n",
      "memory usage: 4.6+ MB\n"
     ]
    }
   ],
   "source": [
    "review_df.info()"
   ]
  },
  {
   "cell_type": "code",
   "execution_count": null,
   "metadata": {},
   "outputs": [
    {
     "data": {
      "text/html": [
       "<div>\n",
       "<style scoped>\n",
       "    .dataframe tbody tr th:only-of-type {\n",
       "        vertical-align: middle;\n",
       "    }\n",
       "\n",
       "    .dataframe tbody tr th {\n",
       "        vertical-align: top;\n",
       "    }\n",
       "\n",
       "    .dataframe thead th {\n",
       "        text-align: right;\n",
       "    }\n",
       "</style>\n",
       "<table border=\"1\" class=\"dataframe\">\n",
       "  <thead>\n",
       "    <tr style=\"text-align: right;\">\n",
       "      <th></th>\n",
       "      <th>asin</th>\n",
       "      <th>user_id</th>\n",
       "      <th>title</th>\n",
       "      <th>category</th>\n",
       "    </tr>\n",
       "  </thead>\n",
       "  <tbody>\n",
       "    <tr>\n",
       "      <th>count</th>\n",
       "      <td>99916</td>\n",
       "      <td>99915</td>\n",
       "      <td>99916</td>\n",
       "      <td>99917</td>\n",
       "    </tr>\n",
       "    <tr>\n",
       "      <th>unique</th>\n",
       "      <td>80416</td>\n",
       "      <td>23142</td>\n",
       "      <td>69175</td>\n",
       "      <td>10</td>\n",
       "    </tr>\n",
       "    <tr>\n",
       "      <th>top</th>\n",
       "      <td>B079TRNVHX</td>\n",
       "      <td>AFZUK3MTBIBEDQOPAK3OATUOUKLA</td>\n",
       "      <td>Five Stars</td>\n",
       "      <td>Electronics</td>\n",
       "    </tr>\n",
       "    <tr>\n",
       "      <th>freq</th>\n",
       "      <td>1044</td>\n",
       "      <td>1531</td>\n",
       "      <td>6570</td>\n",
       "      <td>10000</td>\n",
       "    </tr>\n",
       "  </tbody>\n",
       "</table>\n",
       "</div>"
      ],
      "text/plain": [
       "              asin                       user_id       title     category\n",
       "count        99916                         99915       99916        99917\n",
       "unique       80416                         23142       69175           10\n",
       "top     B079TRNVHX  AFZUK3MTBIBEDQOPAK3OATUOUKLA  Five Stars  Electronics\n",
       "freq          1044                          1531        6570        10000"
      ]
     },
     "execution_count": 30,
     "metadata": {},
     "output_type": "execute_result"
    }
   ],
   "source": [
    "# object 타입 컬럼에 대해 요약 통계 계산\n",
    "review_df[[\"asin\",\"user_id\",\"title\",\"category\"]].describe()"
   ]
  },
  {
   "cell_type": "code",
   "execution_count": 31,
   "metadata": {},
   "outputs": [
    {
     "data": {
      "text/html": [
       "<div>\n",
       "<style scoped>\n",
       "    .dataframe tbody tr th:only-of-type {\n",
       "        vertical-align: middle;\n",
       "    }\n",
       "\n",
       "    .dataframe tbody tr th {\n",
       "        vertical-align: top;\n",
       "    }\n",
       "\n",
       "    .dataframe thead th {\n",
       "        text-align: right;\n",
       "    }\n",
       "</style>\n",
       "<table border=\"1\" class=\"dataframe\">\n",
       "  <thead>\n",
       "    <tr style=\"text-align: right;\">\n",
       "      <th></th>\n",
       "      <th>rating</th>\n",
       "    </tr>\n",
       "  </thead>\n",
       "  <tbody>\n",
       "    <tr>\n",
       "      <th>count</th>\n",
       "      <td>99916.000000</td>\n",
       "    </tr>\n",
       "    <tr>\n",
       "      <th>mean</th>\n",
       "      <td>4.248379</td>\n",
       "    </tr>\n",
       "    <tr>\n",
       "      <th>std</th>\n",
       "      <td>1.230690</td>\n",
       "    </tr>\n",
       "    <tr>\n",
       "      <th>min</th>\n",
       "      <td>1.000000</td>\n",
       "    </tr>\n",
       "    <tr>\n",
       "      <th>25%</th>\n",
       "      <td>4.000000</td>\n",
       "    </tr>\n",
       "    <tr>\n",
       "      <th>50%</th>\n",
       "      <td>5.000000</td>\n",
       "    </tr>\n",
       "    <tr>\n",
       "      <th>75%</th>\n",
       "      <td>5.000000</td>\n",
       "    </tr>\n",
       "    <tr>\n",
       "      <th>max</th>\n",
       "      <td>5.000000</td>\n",
       "    </tr>\n",
       "  </tbody>\n",
       "</table>\n",
       "</div>"
      ],
      "text/plain": [
       "             rating\n",
       "count  99916.000000\n",
       "mean       4.248379\n",
       "std        1.230690\n",
       "min        1.000000\n",
       "25%        4.000000\n",
       "50%        5.000000\n",
       "75%        5.000000\n",
       "max        5.000000"
      ]
     },
     "execution_count": 31,
     "metadata": {},
     "output_type": "execute_result"
    }
   ],
   "source": [
    "# float64 타입 컬럼에 대해 요약 통계 계산\n",
    "review_df[[\"rating\"]].describe()"
   ]
  },
  {
   "cell_type": "code",
   "execution_count": 32,
   "metadata": {},
   "outputs": [
    {
     "name": "stdout",
     "output_type": "stream",
     "text": [
      "상위 30개의 인기 아이템:\n",
      "             asin  num_reviews\n",
      "49956  B079TRNVHX         1044\n",
      "59935  B07T771SPH          103\n",
      "26423  B00KDSGIPK           88\n",
      "15857  B005ZXWMUS           84\n",
      "18950  B0094BB4TW           82\n",
      "34573  B017250D16           79\n",
      "23321  B00FAPF5U0           74\n",
      "42367  B01N0BP507           68\n",
      "28751  B00P03D4D2           67\n",
      "27844  B00N28818A           60\n",
      "18712  B008XG1X18           60\n",
      "35200  B018IOV40E           46\n",
      "30564  B00UB76290           46\n",
      "27263  B00LV4D70O           45\n",
      "15932  B0063IH60K           44\n",
      "40976  B01LXZLEMN           42\n",
      "16021  B0066TUXU6           40\n",
      "32745  B01248YO8E           39\n",
      "18369  B008K6HN8I           38\n",
      "36706  B01CBV2K8U           37\n",
      "50466  B07BKPFXTJ           37\n",
      "13325  B004FRX0MY           37\n",
      "29423  B00QW8TYWO           35\n",
      "22680  B00E5NH46Q           35\n",
      "32225  B00ZV9RDKK           34\n",
      "17085  B007IAE5WY           34\n",
      "45633  B0739V781Z           33\n",
      "45399  B072M565NX           31\n",
      "17945  B00881VLCE           31\n",
      "323    5559166928           30\n"
     ]
    }
   ],
   "source": [
    "popular_items = (\n",
    "    review_df.groupby(\"asin\")[\"user_id\"]\n",
    "    .count()\n",
    "    .reset_index(name=\"num_reviews\")\n",
    "    .sort_values(by=\"num_reviews\", ascending=False)\n",
    ")\n",
    "\n",
    "# 상위 30개의 결과 출력\n",
    "print(\"상위 30개의 인기 아이템:\")\n",
    "print(popular_items.head(30))"
   ]
  },
  {
   "cell_type": "code",
   "execution_count": 33,
   "metadata": {},
   "outputs": [
    {
     "data": {
      "image/png": "[encoded data removed]",
      "text/plain": [
       "<Figure size 640x480 with 1 Axes>"
      ]
     },
     "metadata": {},
     "output_type": "display_data"
    }
   ],
   "source": [
    "popular_items['num_reviews'].hist(bins=1000)\n",
    "plt.title(\"Distribution of Number of Reviews per Item\")\n",
    "plt.xlim(0, 100)\n",
    "plt.xlabel(\"Number of Reviews\")\n",
    "plt.ylabel(\"Count of Items\")\n",
    "plt.show()"
   ]
  },
  {
   "cell_type": "code",
   "execution_count": 35,
   "metadata": {},
   "outputs": [
    {
     "name": "stdout",
     "output_type": "stream",
     "text": [
      "상위 20명의 사용자 활동:\n",
      "                            user_id  num_reviews\n",
      "11432  AFZUK3MTBIBEDQOPAK3OATUOUKLA         1531\n",
      "8474   AFJBKPK5W56XWSNPQU2WW66ISWYQ         1074\n",
      "22279  AHV6QCNBJNSGLATP56JAWJ3C4G2A          949\n",
      "10983  AFXF3EGQTQDXMRLDWFU7UBFQZB7Q          878\n",
      "12404  AG73BVBKUOH22USSFJA5ZWL7AKXA          675\n",
      "8710   AFKMX6JZ655VPVYHBTATZQS4IBOQ          638\n",
      "21270  AHPOHKN4PU4W3V5PGFL7AGTAD2AA          600\n",
      "9817   AFQQQ5LGNSQUEBGDCYBAZZE5T3DA          471\n",
      "17345  AGZZXSMMS4WRHHJRBUJZI4FZDHKQ          454\n",
      "8946   AFLX66DKF6R3H6OEOC3TIVAYXZIQ          400\n",
      "7873   AFFZVSTUS3U2ZD22A2NPZSKOCPGQ          377\n",
      "18601  AHATA6X6MYTC3VNBFJ3WIYVK257A          362\n",
      "20170  AHJQPUQLSQZE6LMIUMY7WNRXCQQQ          326\n",
      "16092  AGSXMEKFKM2HDFZ4UNE676O6D5LQ          315\n",
      "21226  AHPFHP43AXWRYZZ4HPNCW7I7J3ZQ          307\n",
      "5415   AEYGPUCRKH7G4VM22FM3VAKSQ23Q          306\n",
      "7423   AFDMZ4TRX3HXQQUGWAHJQTIF65BQ          281\n",
      "5758   AF2BLE54TEMGZ546U763ZHZRXC4A          278\n",
      "2490   AEICZD35OTDYVWA2KPYWN4PDZ2SA          267\n",
      "11763  AG3S4FROO422V5KP7DJCBXVUQLJQ          259\n"
     ]
    }
   ],
   "source": [
    "# user_id별 asin 개수를 집계하고 num_reviews 컬럼으로 이름 설정\n",
    "user_activity_df = (\n",
    "    review_df.groupby(\"user_id\")[\"asin\"]\n",
    "    .count()\n",
    "    .reset_index(name=\"num_reviews\")\n",
    "    .sort_values(by=\"num_reviews\", ascending=False)\n",
    ")\n",
    "\n",
    "# 상위 20개 결과 출력\n",
    "print(\"상위 20명의 사용자 활동:\")\n",
    "print(user_activity_df.head(20))\n"
   ]
  },
  {
   "cell_type": "code",
   "execution_count": 36,
   "metadata": {},
   "outputs": [
    {
     "name": "stdout",
     "output_type": "stream",
     "text": [
      "rating별 리뷰 개수:\n",
      "   rating  count\n",
      "0     1.0   7441\n",
      "1     2.0   4559\n",
      "2     3.0   8016\n",
      "3     4.0  15626\n",
      "4     5.0  64274\n"
     ]
    }
   ],
   "source": [
    "# rating별 개수를 집계하고 정렬\n",
    "rating_counts = (\n",
    "    review_df.groupby(\"rating\")\n",
    "    .size()  # 각 그룹의 개수를 계산\n",
    "    .reset_index(name=\"count\")  # 결과를 데이터프레임으로 변환\n",
    "    .sort_values(by=\"rating\")  # rating 기준으로 정렬\n",
    ")\n",
    "\n",
    "# 결과 출력\n",
    "print(\"rating별 리뷰 개수:\")\n",
    "print(rating_counts)"
   ]
  },
  {
   "cell_type": "code",
   "execution_count": 38,
   "metadata": {},
   "outputs": [
    {
     "data": {
      "image/png": "[encoded data removed]",
      "text/plain": [
       "<Figure size 1000x600 with 1 Axes>"
      ]
     },
     "metadata": {},
     "output_type": "display_data"
    }
   ],
   "source": [
    "def visualize_category_distribution(result_df):\n",
    "    \"\"\"\n",
    "    result_df에서 고유한 category의 분포를 시각화.\n",
    "    \"\"\"\n",
    "    # 카테고리별 개수 집계 및 정렬\n",
    "    category_counts = (\n",
    "        result_df.groupby(\"category\")\n",
    "        .size()\n",
    "        .reset_index(name=\"count\")\n",
    "        .sort_values(by=\"count\", ascending=False)\n",
    "    )\n",
    "\n",
    "    # 시각화\n",
    "    plt.figure(figsize=(10, 6))\n",
    "    plt.barh(category_counts[\"category\"], category_counts[\"count\"], color=\"skyblue\")\n",
    "    plt.xlabel(\"Number of Items\")\n",
    "    plt.ylabel(\"Main Category\")\n",
    "    plt.title(\"Distribution of Main Categories\")\n",
    "    plt.gca().invert_yaxis()  # 카테고리를 내림차순으로 정렬\n",
    "    plt.tight_layout()\n",
    "    plt.show()\n",
    "\n",
    "# 함수 호출\n",
    "visualize_category_distribution(review_df)"
   ]
  }
 ],
 "metadata": {
  "accelerator": "GPU",
  "colab": {
   "collapsed_sections": [
    "psvfGRIXC_xq"
   ],
   "gpuType": "T4",
   "provenance": []
  },
  "kernelspec": {
   "display_name": "base",
   "language": "python",
   "name": "python3"
  },
  "language_info": {
   "codemirror_mode": {
    "name": "ipython",
    "version": 3
   },
   "file_extension": ".py",
   "mimetype": "text/x-python",
   "name": "python",
   "nbconvert_exporter": "python",
   "pygments_lexer": "ipython3",
   "version": "3.12.7"
  }
 },
 "nbformat": 4,
 "nbformat_minor": 0
}
