{
  "cells": [
    {
      "cell_type": "markdown",
      "metadata": {
        "colab_type": "text",
        "id": "view-in-github"
      },
      "source": [
        "<a href=\"https://colab.research.google.com/github/tpgus2603/DataMining/blob/main/AmazonDataAnalysis.ipynb\" target=\"_parent\"><img src=\"https://colab.research.google.com/assets/colab-badge.svg\" alt=\"Open In Colab\"/></a>"
      ]
    },
    {
      "cell_type": "code",
      "execution_count": 2,
      "metadata": {
        "colab": {
          "base_uri": "https://localhost:8080/"
        },
        "id": "UPs2AxAN5SzV",
        "outputId": "e705e3be-2a82-4978-fa48-479dea52e7e8"
      },
      "outputs": [
        {
          "name": "stdout",
          "output_type": "stream",
          "text": [
            "Mounted at /content/drive\n"
          ]
        }
      ],
      "source": [
        "from google.colab import drive\n",
        "drive.mount('/content/drive')"
      ]
    },
    {
      "cell_type": "code",
      "execution_count": 3,
      "metadata": {
        "colab": {
          "base_uri": "https://localhost:8080/"
        },
        "id": "umRkQXmd5TVa",
        "outputId": "21954096-e2ae-4f31-85be-f72e3a440b54"
      },
      "outputs": [
        {
          "name": "stdout",
          "output_type": "stream",
          "text": [
            "/content/drive/MyDrive/json_csv_files/amazon_review2\n"
          ]
        }
      ],
      "source": [
        "cd ./drive/MyDrive/json_csv_files/amazon_review2"
      ]
    },
    {
      "cell_type": "code",
      "execution_count": 4,
      "metadata": {
        "colab": {
          "base_uri": "https://localhost:8080/"
        },
        "id": "UrgdD1wu5Tfs",
        "outputId": "fd944b0e-086d-4fcf-d800-0b44a7c06c96"
      },
      "outputs": [
        {
          "name": "stdout",
          "output_type": "stream",
          "text": [
            "[Errno 2] No such file or directory: 'amazon_review2/'\n",
            "/content/drive/MyDrive/json_csv_files/amazon_review2\n"
          ]
        }
      ],
      "source": [
        "cd amazon_review2/"
      ]
    },
    {
      "cell_type": "code",
      "execution_count": 5,
      "metadata": {
        "id": "ay6Ao3xBAsqe"
      },
      "outputs": [],
      "source": [
        "# local에 padnas, numpy, matplotlib 설치필요\n",
        "import pandas as pd\n",
        "import numpy as np\n",
        "import matplotlib.pyplot as plt\n",
        "%matplotlib inline"
      ]
    },
    {
      "cell_type": "markdown",
      "metadata": {
        "id": "1NPRwxMPT1pL"
      },
      "source": [
        "# 1. Amazon Data"
      ]
    },
    {
      "cell_type": "markdown",
      "metadata": {
        "id": "Y03QwxMbd5kJ"
      },
      "source": [
        "**1-1. Used Data**\n",
        "\n",
        "*   https://amazon-reviews-2023.github.io/\n",
        "\n",
        "\n",
        "\n",
        "\n"
      ]
    },
    {
      "cell_type": "code",
      "execution_count": 6,
      "metadata": {
        "id": "fyhGAnbHyY62"
      },
      "outputs": [],
      "source": [
        "def preprocess_review(review_path, min_user_cnt=1, min_review_cnt=1):\n",
        "    review_df = pd.read_json(review_path, lines=True)\n",
        "    filtered_review_df = review_df[[\"parent_asin\", \"rating\", \"user_id\", \"title\", \"category\", \"product_title\"]]\n",
        "    distinct_review_df = filtered_review_df.drop_duplicates(subset=[\"user_id\", \"parent_asin\"])\n",
        "\n",
        "    review_counts = distinct_review_df[\"parent_asin\"].value_counts()\n",
        "    user_counts = distinct_review_df['user_id'].value_counts()\n",
        "\n",
        "    result_df = distinct_review_df[(\n",
        "        (distinct_review_df['user_id'].isin(user_counts[user_counts >= min_user_cnt].index)) &\n",
        "        (distinct_review_df['parent_asin'].isin(review_counts[review_counts >= min_review_cnt].index))\n",
        "    )]\n",
        "\n",
        "    return result_df"
      ]
    },
    {
      "cell_type": "code",
      "execution_count": 7,
      "metadata": {
        "colab": {
          "base_uri": "https://localhost:8080/"
        },
        "id": "Y4zAQdgFT0mO",
        "outputId": "98287ea7-847e-47ff-ffc7-21e732ea3002"
      },
      "outputs": [
        {
          "name": "stdout",
          "output_type": "stream",
          "text": [
            "<class 'pandas.core.frame.DataFrame'>\n",
            "RangeIndex: 100000 entries, 0 to 99999\n",
            "Data columns (total 11 columns):\n",
            " #   Column             Non-Null Count   Dtype         \n",
            "---  ------             --------------   -----         \n",
            " 0   rating             100000 non-null  int64         \n",
            " 1   title              100000 non-null  object        \n",
            " 2   text               100000 non-null  object        \n",
            " 3   images             100000 non-null  object        \n",
            " 4   parent_asin        100000 non-null  object        \n",
            " 5   user_id            100000 non-null  object        \n",
            " 6   timestamp          100000 non-null  datetime64[ns]\n",
            " 7   helpful_vote       100000 non-null  int64         \n",
            " 8   verified_purchase  100000 non-null  bool          \n",
            " 9   category           100000 non-null  object        \n",
            " 10  product_title      95194 non-null   object        \n",
            "dtypes: bool(1), datetime64[ns](1), int64(2), object(7)\n",
            "memory usage: 7.7+ MB\n"
          ]
        }
      ],
      "source": [
        "import os\n",
        "\n",
        "review_path = './combined_data.json'\n",
        "raw_df = pd.read_json(review_path,lines=\"true\")\n",
        "raw_df.info()"
      ]
    },
    {
      "cell_type": "code",
      "execution_count": 8,
      "metadata": {
        "id": "aBw17YznTptP"
      },
      "outputs": [],
      "source": [
        "review_df = preprocess_review(review_path)"
      ]
    },
    {
      "cell_type": "code",
      "execution_count": 9,
      "metadata": {
        "colab": {
          "base_uri": "https://localhost:8080/"
        },
        "id": "bWxKbjUt5NYw",
        "outputId": "ca09737b-aa8f-4b61-b742-13f62557e8dc"
      },
      "outputs": [
        {
          "name": "stdout",
          "output_type": "stream",
          "text": [
            "<class 'pandas.core.frame.DataFrame'>\n",
            "Index: 99520 entries, 0 to 99999\n",
            "Data columns (total 6 columns):\n",
            " #   Column         Non-Null Count  Dtype \n",
            "---  ------         --------------  ----- \n",
            " 0   parent_asin    99520 non-null  object\n",
            " 1   rating         99520 non-null  int64 \n",
            " 2   user_id        99520 non-null  object\n",
            " 3   title          99520 non-null  object\n",
            " 4   category       99520 non-null  object\n",
            " 5   product_title  94714 non-null  object\n",
            "dtypes: int64(1), object(5)\n",
            "memory usage: 5.3+ MB\n"
          ]
        }
      ],
      "source": [
        "review_df.info()"
      ]
    },
    {
      "cell_type": "code",
      "execution_count": 10,
      "metadata": {
        "colab": {
          "base_uri": "https://localhost:8080/",
          "height": 175
        },
        "id": "uODNEI1b5NYw",
        "outputId": "569e3961-f1ee-47aa-82f0-12454bba8af7"
      },
      "outputs": [
        {
          "data": {
            "application/vnd.google.colaboratory.intrinsic+json": {
              "summary": "{\n  \"name\": \"review_df[[\\\"parent_asin\\\",\\\"user_id\\\",\\\"title\\\",\\\"category\\\",\\\"product_title\\\"]]\",\n  \"rows\": 4,\n  \"fields\": [\n    {\n      \"column\": \"parent_asin\",\n      \"properties\": {\n        \"dtype\": \"string\",\n        \"num_unique_values\": 4,\n        \"samples\": [\n          77190,\n          \"1044\",\n          \"99520\"\n        ],\n        \"semantic_type\": \"\",\n        \"description\": \"\"\n      }\n    },\n    {\n      \"column\": \"user_id\",\n      \"properties\": {\n        \"dtype\": \"string\",\n        \"num_unique_values\": 4,\n        \"samples\": [\n          23142,\n          \"1492\",\n          \"99520\"\n        ],\n        \"semantic_type\": \"\",\n        \"description\": \"\"\n      }\n    },\n    {\n      \"column\": \"title\",\n      \"properties\": {\n        \"dtype\": \"string\",\n        \"num_unique_values\": 4,\n        \"samples\": [\n          68921,\n          \"6555\",\n          \"99520\"\n        ],\n        \"semantic_type\": \"\",\n        \"description\": \"\"\n      }\n    },\n    {\n      \"column\": \"category\",\n      \"properties\": {\n        \"dtype\": \"string\",\n        \"num_unique_values\": 4,\n        \"samples\": [\n          10,\n          \"10000\",\n          \"99520\"\n        ],\n        \"semantic_type\": \"\",\n        \"description\": \"\"\n      }\n    },\n    {\n      \"column\": \"product_title\",\n      \"properties\": {\n        \"dtype\": \"string\",\n        \"num_unique_values\": 4,\n        \"samples\": [\n          72541,\n          \"1049\",\n          \"94714\"\n        ],\n        \"semantic_type\": \"\",\n        \"description\": \"\"\n      }\n    }\n  ]\n}",
              "type": "dataframe"
            },
            "text/html": [
              "\n",
              "  <div id=\"df-98c20792-cf36-4435-9c81-ff3427f66cce\" class=\"colab-df-container\">\n",
              "    <div>\n",
              "<style scoped>\n",
              "    .dataframe tbody tr th:only-of-type {\n",
              "        vertical-align: middle;\n",
              "    }\n",
              "\n",
              "    .dataframe tbody tr th {\n",
              "        vertical-align: top;\n",
              "    }\n",
              "\n",
              "    .dataframe thead th {\n",
              "        text-align: right;\n",
              "    }\n",
              "</style>\n",
              "<table border=\"1\" class=\"dataframe\">\n",
              "  <thead>\n",
              "    <tr style=\"text-align: right;\">\n",
              "      <th></th>\n",
              "      <th>parent_asin</th>\n",
              "      <th>user_id</th>\n",
              "      <th>title</th>\n",
              "      <th>category</th>\n",
              "      <th>product_title</th>\n",
              "    </tr>\n",
              "  </thead>\n",
              "  <tbody>\n",
              "    <tr>\n",
              "      <th>count</th>\n",
              "      <td>99520</td>\n",
              "      <td>99520</td>\n",
              "      <td>99520</td>\n",
              "      <td>99520</td>\n",
              "      <td>94714</td>\n",
              "    </tr>\n",
              "    <tr>\n",
              "      <th>unique</th>\n",
              "      <td>77190</td>\n",
              "      <td>23142</td>\n",
              "      <td>68921</td>\n",
              "      <td>10</td>\n",
              "      <td>72541</td>\n",
              "    </tr>\n",
              "    <tr>\n",
              "      <th>top</th>\n",
              "      <td>B079TRNVHX</td>\n",
              "      <td>AFZUK3MTBIBEDQOPAK3OATUOUKLA</td>\n",
              "      <td>Five Stars</td>\n",
              "      <td>Movies_TV</td>\n",
              "      <td>Tara's All Natural Handcrafted Gourmet Sea Sal...</td>\n",
              "    </tr>\n",
              "    <tr>\n",
              "      <th>freq</th>\n",
              "      <td>1044</td>\n",
              "      <td>1492</td>\n",
              "      <td>6555</td>\n",
              "      <td>10000</td>\n",
              "      <td>1049</td>\n",
              "    </tr>\n",
              "  </tbody>\n",
              "</table>\n",
              "</div>\n",
              "    <div class=\"colab-df-buttons\">\n",
              "\n",
              "  <div class=\"colab-df-container\">\n",
              "    <button class=\"colab-df-convert\" onclick=\"convertToInteractive('df-98c20792-cf36-4435-9c81-ff3427f66cce')\"\n",
              "            title=\"Convert this dataframe to an interactive table.\"\n",
              "            style=\"display:none;\">\n",
              "\n",
              "  <svg xmlns=\"http://www.w3.org/2000/svg\" height=\"24px\" viewBox=\"0 -960 960 960\">\n",
              "    <path d=\"M120-120v-720h720v720H120Zm60-500h600v-160H180v160Zm220 220h160v-160H400v160Zm0 220h160v-160H400v160ZM180-400h160v-160H180v160Zm440 0h160v-160H620v160ZM180-180h160v-160H180v160Zm440 0h160v-160H620v160Z\"/>\n",
              "  </svg>\n",
              "    </button>\n",
              "\n",
              "  <style>\n",
              "    .colab-df-container {\n",
              "      display:flex;\n",
              "      gap: 12px;\n",
              "    }\n",
              "\n",
              "    .colab-df-convert {\n",
              "      background-color: #E8F0FE;\n",
              "      border: none;\n",
              "      border-radius: 50%;\n",
              "      cursor: pointer;\n",
              "      display: none;\n",
              "      fill: #1967D2;\n",
              "      height: 32px;\n",
              "      padding: 0 0 0 0;\n",
              "      width: 32px;\n",
              "    }\n",
              "\n",
              "    .colab-df-convert:hover {\n",
              "      background-color: #E2EBFA;\n",
              "      box-shadow: 0px 1px 2px rgba(60, 64, 67, 0.3), 0px 1px 3px 1px rgba(60, 64, 67, 0.15);\n",
              "      fill: #174EA6;\n",
              "    }\n",
              "\n",
              "    .colab-df-buttons div {\n",
              "      margin-bottom: 4px;\n",
              "    }\n",
              "\n",
              "    [theme=dark] .colab-df-convert {\n",
              "      background-color: #3B4455;\n",
              "      fill: #D2E3FC;\n",
              "    }\n",
              "\n",
              "    [theme=dark] .colab-df-convert:hover {\n",
              "      background-color: #434B5C;\n",
              "      box-shadow: 0px 1px 3px 1px rgba(0, 0, 0, 0.15);\n",
              "      filter: drop-shadow(0px 1px 2px rgba(0, 0, 0, 0.3));\n",
              "      fill: #FFFFFF;\n",
              "    }\n",
              "  </style>\n",
              "\n",
              "    <script>\n",
              "      const buttonEl =\n",
              "        document.querySelector('#df-98c20792-cf36-4435-9c81-ff3427f66cce button.colab-df-convert');\n",
              "      buttonEl.style.display =\n",
              "        google.colab.kernel.accessAllowed ? 'block' : 'none';\n",
              "\n",
              "      async function convertToInteractive(key) {\n",
              "        const element = document.querySelector('#df-98c20792-cf36-4435-9c81-ff3427f66cce');\n",
              "        const dataTable =\n",
              "          await google.colab.kernel.invokeFunction('convertToInteractive',\n",
              "                                                    [key], {});\n",
              "        if (!dataTable) return;\n",
              "\n",
              "        const docLinkHtml = 'Like what you see? Visit the ' +\n",
              "          '<a target=\"_blank\" href=https://colab.research.google.com/notebooks/data_table.ipynb>data table notebook</a>'\n",
              "          + ' to learn more about interactive tables.';\n",
              "        element.innerHTML = '';\n",
              "        dataTable['output_type'] = 'display_data';\n",
              "        await google.colab.output.renderOutput(dataTable, element);\n",
              "        const docLink = document.createElement('div');\n",
              "        docLink.innerHTML = docLinkHtml;\n",
              "        element.appendChild(docLink);\n",
              "      }\n",
              "    </script>\n",
              "  </div>\n",
              "\n",
              "\n",
              "<div id=\"df-77cd18d4-6e9c-41e8-a35f-7b4b38fd56bd\">\n",
              "  <button class=\"colab-df-quickchart\" onclick=\"quickchart('df-77cd18d4-6e9c-41e8-a35f-7b4b38fd56bd')\"\n",
              "            title=\"Suggest charts\"\n",
              "            style=\"display:none;\">\n",
              "\n",
              "<svg xmlns=\"http://www.w3.org/2000/svg\" height=\"24px\"viewBox=\"0 0 24 24\"\n",
              "     width=\"24px\">\n",
              "    <g>\n",
              "        <path d=\"M19 3H5c-1.1 0-2 .9-2 2v14c0 1.1.9 2 2 2h14c1.1 0 2-.9 2-2V5c0-1.1-.9-2-2-2zM9 17H7v-7h2v7zm4 0h-2V7h2v10zm4 0h-2v-4h2v4z\"/>\n",
              "    </g>\n",
              "</svg>\n",
              "  </button>\n",
              "\n",
              "<style>\n",
              "  .colab-df-quickchart {\n",
              "      --bg-color: #E8F0FE;\n",
              "      --fill-color: #1967D2;\n",
              "      --hover-bg-color: #E2EBFA;\n",
              "      --hover-fill-color: #174EA6;\n",
              "      --disabled-fill-color: #AAA;\n",
              "      --disabled-bg-color: #DDD;\n",
              "  }\n",
              "\n",
              "  [theme=dark] .colab-df-quickchart {\n",
              "      --bg-color: #3B4455;\n",
              "      --fill-color: #D2E3FC;\n",
              "      --hover-bg-color: #434B5C;\n",
              "      --hover-fill-color: #FFFFFF;\n",
              "      --disabled-bg-color: #3B4455;\n",
              "      --disabled-fill-color: #666;\n",
              "  }\n",
              "\n",
              "  .colab-df-quickchart {\n",
              "    background-color: var(--bg-color);\n",
              "    border: none;\n",
              "    border-radius: 50%;\n",
              "    cursor: pointer;\n",
              "    display: none;\n",
              "    fill: var(--fill-color);\n",
              "    height: 32px;\n",
              "    padding: 0;\n",
              "    width: 32px;\n",
              "  }\n",
              "\n",
              "  .colab-df-quickchart:hover {\n",
              "    background-color: var(--hover-bg-color);\n",
              "    box-shadow: 0 1px 2px rgba(60, 64, 67, 0.3), 0 1px 3px 1px rgba(60, 64, 67, 0.15);\n",
              "    fill: var(--button-hover-fill-color);\n",
              "  }\n",
              "\n",
              "  .colab-df-quickchart-complete:disabled,\n",
              "  .colab-df-quickchart-complete:disabled:hover {\n",
              "    background-color: var(--disabled-bg-color);\n",
              "    fill: var(--disabled-fill-color);\n",
              "    box-shadow: none;\n",
              "  }\n",
              "\n",
              "  .colab-df-spinner {\n",
              "    border: 2px solid var(--fill-color);\n",
              "    border-color: transparent;\n",
              "    border-bottom-color: var(--fill-color);\n",
              "    animation:\n",
              "      spin 1s steps(1) infinite;\n",
              "  }\n",
              "\n",
              "  @keyframes spin {\n",
              "    0% {\n",
              "      border-color: transparent;\n",
              "      border-bottom-color: var(--fill-color);\n",
              "      border-left-color: var(--fill-color);\n",
              "    }\n",
              "    20% {\n",
              "      border-color: transparent;\n",
              "      border-left-color: var(--fill-color);\n",
              "      border-top-color: var(--fill-color);\n",
              "    }\n",
              "    30% {\n",
              "      border-color: transparent;\n",
              "      border-left-color: var(--fill-color);\n",
              "      border-top-color: var(--fill-color);\n",
              "      border-right-color: var(--fill-color);\n",
              "    }\n",
              "    40% {\n",
              "      border-color: transparent;\n",
              "      border-right-color: var(--fill-color);\n",
              "      border-top-color: var(--fill-color);\n",
              "    }\n",
              "    60% {\n",
              "      border-color: transparent;\n",
              "      border-right-color: var(--fill-color);\n",
              "    }\n",
              "    80% {\n",
              "      border-color: transparent;\n",
              "      border-right-color: var(--fill-color);\n",
              "      border-bottom-color: var(--fill-color);\n",
              "    }\n",
              "    90% {\n",
              "      border-color: transparent;\n",
              "      border-bottom-color: var(--fill-color);\n",
              "    }\n",
              "  }\n",
              "</style>\n",
              "\n",
              "  <script>\n",
              "    async function quickchart(key) {\n",
              "      const quickchartButtonEl =\n",
              "        document.querySelector('#' + key + ' button');\n",
              "      quickchartButtonEl.disabled = true;  // To prevent multiple clicks.\n",
              "      quickchartButtonEl.classList.add('colab-df-spinner');\n",
              "      try {\n",
              "        const charts = await google.colab.kernel.invokeFunction(\n",
              "            'suggestCharts', [key], {});\n",
              "      } catch (error) {\n",
              "        console.error('Error during call to suggestCharts:', error);\n",
              "      }\n",
              "      quickchartButtonEl.classList.remove('colab-df-spinner');\n",
              "      quickchartButtonEl.classList.add('colab-df-quickchart-complete');\n",
              "    }\n",
              "    (() => {\n",
              "      let quickchartButtonEl =\n",
              "        document.querySelector('#df-77cd18d4-6e9c-41e8-a35f-7b4b38fd56bd button');\n",
              "      quickchartButtonEl.style.display =\n",
              "        google.colab.kernel.accessAllowed ? 'block' : 'none';\n",
              "    })();\n",
              "  </script>\n",
              "</div>\n",
              "\n",
              "    </div>\n",
              "  </div>\n"
            ],
            "text/plain": [
              "       parent_asin                       user_id       title   category  \\\n",
              "count        99520                         99520       99520      99520   \n",
              "unique       77190                         23142       68921         10   \n",
              "top     B079TRNVHX  AFZUK3MTBIBEDQOPAK3OATUOUKLA  Five Stars  Movies_TV   \n",
              "freq          1044                          1492        6555      10000   \n",
              "\n",
              "                                            product_title  \n",
              "count                                               94714  \n",
              "unique                                              72541  \n",
              "top     Tara's All Natural Handcrafted Gourmet Sea Sal...  \n",
              "freq                                                 1049  "
            ]
          },
          "execution_count": 10,
          "metadata": {},
          "output_type": "execute_result"
        }
      ],
      "source": [
        "# object 타입 컬럼에 대해 요약 통계 계산\n",
        "review_df[[\"parent_asin\",\"user_id\",\"title\",\"category\",\"product_title\"]].describe()"
      ]
    },
    {
      "cell_type": "code",
      "execution_count": 11,
      "metadata": {
        "colab": {
          "base_uri": "https://localhost:8080/",
          "height": 300
        },
        "id": "diZBTJfF5NYw",
        "outputId": "2d1eb426-ed94-47d7-c7ca-8741afce8dbc"
      },
      "outputs": [
        {
          "data": {
            "application/vnd.google.colaboratory.intrinsic+json": {
              "summary": "{\n  \"name\": \"review_df[[\\\"rating\\\"]]\",\n  \"rows\": 8,\n  \"fields\": [\n    {\n      \"column\": \"rating\",\n      \"properties\": {\n        \"dtype\": \"number\",\n        \"std\": 35184.34659452278,\n        \"min\": 1.0,\n        \"max\": 99520.0,\n        \"num_unique_values\": 6,\n        \"samples\": [\n          99520.0,\n          4.247176446945337,\n          5.0\n        ],\n        \"semantic_type\": \"\",\n        \"description\": \"\"\n      }\n    }\n  ]\n}",
              "type": "dataframe"
            },
            "text/html": [
              "\n",
              "  <div id=\"df-31b2f412-61ed-4332-9c9a-d0e118f808fe\" class=\"colab-df-container\">\n",
              "    <div>\n",
              "<style scoped>\n",
              "    .dataframe tbody tr th:only-of-type {\n",
              "        vertical-align: middle;\n",
              "    }\n",
              "\n",
              "    .dataframe tbody tr th {\n",
              "        vertical-align: top;\n",
              "    }\n",
              "\n",
              "    .dataframe thead th {\n",
              "        text-align: right;\n",
              "    }\n",
              "</style>\n",
              "<table border=\"1\" class=\"dataframe\">\n",
              "  <thead>\n",
              "    <tr style=\"text-align: right;\">\n",
              "      <th></th>\n",
              "      <th>rating</th>\n",
              "    </tr>\n",
              "  </thead>\n",
              "  <tbody>\n",
              "    <tr>\n",
              "      <th>count</th>\n",
              "      <td>99520.000000</td>\n",
              "    </tr>\n",
              "    <tr>\n",
              "      <th>mean</th>\n",
              "      <td>4.247176</td>\n",
              "    </tr>\n",
              "    <tr>\n",
              "      <th>std</th>\n",
              "      <td>1.231659</td>\n",
              "    </tr>\n",
              "    <tr>\n",
              "      <th>min</th>\n",
              "      <td>1.000000</td>\n",
              "    </tr>\n",
              "    <tr>\n",
              "      <th>25%</th>\n",
              "      <td>4.000000</td>\n",
              "    </tr>\n",
              "    <tr>\n",
              "      <th>50%</th>\n",
              "      <td>5.000000</td>\n",
              "    </tr>\n",
              "    <tr>\n",
              "      <th>75%</th>\n",
              "      <td>5.000000</td>\n",
              "    </tr>\n",
              "    <tr>\n",
              "      <th>max</th>\n",
              "      <td>5.000000</td>\n",
              "    </tr>\n",
              "  </tbody>\n",
              "</table>\n",
              "</div>\n",
              "    <div class=\"colab-df-buttons\">\n",
              "\n",
              "  <div class=\"colab-df-container\">\n",
              "    <button class=\"colab-df-convert\" onclick=\"convertToInteractive('df-31b2f412-61ed-4332-9c9a-d0e118f808fe')\"\n",
              "            title=\"Convert this dataframe to an interactive table.\"\n",
              "            style=\"display:none;\">\n",
              "\n",
              "  <svg xmlns=\"http://www.w3.org/2000/svg\" height=\"24px\" viewBox=\"0 -960 960 960\">\n",
              "    <path d=\"M120-120v-720h720v720H120Zm60-500h600v-160H180v160Zm220 220h160v-160H400v160Zm0 220h160v-160H400v160ZM180-400h160v-160H180v160Zm440 0h160v-160H620v160ZM180-180h160v-160H180v160Zm440 0h160v-160H620v160Z\"/>\n",
              "  </svg>\n",
              "    </button>\n",
              "\n",
              "  <style>\n",
              "    .colab-df-container {\n",
              "      display:flex;\n",
              "      gap: 12px;\n",
              "    }\n",
              "\n",
              "    .colab-df-convert {\n",
              "      background-color: #E8F0FE;\n",
              "      border: none;\n",
              "      border-radius: 50%;\n",
              "      cursor: pointer;\n",
              "      display: none;\n",
              "      fill: #1967D2;\n",
              "      height: 32px;\n",
              "      padding: 0 0 0 0;\n",
              "      width: 32px;\n",
              "    }\n",
              "\n",
              "    .colab-df-convert:hover {\n",
              "      background-color: #E2EBFA;\n",
              "      box-shadow: 0px 1px 2px rgba(60, 64, 67, 0.3), 0px 1px 3px 1px rgba(60, 64, 67, 0.15);\n",
              "      fill: #174EA6;\n",
              "    }\n",
              "\n",
              "    .colab-df-buttons div {\n",
              "      margin-bottom: 4px;\n",
              "    }\n",
              "\n",
              "    [theme=dark] .colab-df-convert {\n",
              "      background-color: #3B4455;\n",
              "      fill: #D2E3FC;\n",
              "    }\n",
              "\n",
              "    [theme=dark] .colab-df-convert:hover {\n",
              "      background-color: #434B5C;\n",
              "      box-shadow: 0px 1px 3px 1px rgba(0, 0, 0, 0.15);\n",
              "      filter: drop-shadow(0px 1px 2px rgba(0, 0, 0, 0.3));\n",
              "      fill: #FFFFFF;\n",
              "    }\n",
              "  </style>\n",
              "\n",
              "    <script>\n",
              "      const buttonEl =\n",
              "        document.querySelector('#df-31b2f412-61ed-4332-9c9a-d0e118f808fe button.colab-df-convert');\n",
              "      buttonEl.style.display =\n",
              "        google.colab.kernel.accessAllowed ? 'block' : 'none';\n",
              "\n",
              "      async function convertToInteractive(key) {\n",
              "        const element = document.querySelector('#df-31b2f412-61ed-4332-9c9a-d0e118f808fe');\n",
              "        const dataTable =\n",
              "          await google.colab.kernel.invokeFunction('convertToInteractive',\n",
              "                                                    [key], {});\n",
              "        if (!dataTable) return;\n",
              "\n",
              "        const docLinkHtml = 'Like what you see? Visit the ' +\n",
              "          '<a target=\"_blank\" href=https://colab.research.google.com/notebooks/data_table.ipynb>data table notebook</a>'\n",
              "          + ' to learn more about interactive tables.';\n",
              "        element.innerHTML = '';\n",
              "        dataTable['output_type'] = 'display_data';\n",
              "        await google.colab.output.renderOutput(dataTable, element);\n",
              "        const docLink = document.createElement('div');\n",
              "        docLink.innerHTML = docLinkHtml;\n",
              "        element.appendChild(docLink);\n",
              "      }\n",
              "    </script>\n",
              "  </div>\n",
              "\n",
              "\n",
              "<div id=\"df-66a3abdd-75a6-4602-8003-11bef884f814\">\n",
              "  <button class=\"colab-df-quickchart\" onclick=\"quickchart('df-66a3abdd-75a6-4602-8003-11bef884f814')\"\n",
              "            title=\"Suggest charts\"\n",
              "            style=\"display:none;\">\n",
              "\n",
              "<svg xmlns=\"http://www.w3.org/2000/svg\" height=\"24px\"viewBox=\"0 0 24 24\"\n",
              "     width=\"24px\">\n",
              "    <g>\n",
              "        <path d=\"M19 3H5c-1.1 0-2 .9-2 2v14c0 1.1.9 2 2 2h14c1.1 0 2-.9 2-2V5c0-1.1-.9-2-2-2zM9 17H7v-7h2v7zm4 0h-2V7h2v10zm4 0h-2v-4h2v4z\"/>\n",
              "    </g>\n",
              "</svg>\n",
              "  </button>\n",
              "\n",
              "<style>\n",
              "  .colab-df-quickchart {\n",
              "      --bg-color: #E8F0FE;\n",
              "      --fill-color: #1967D2;\n",
              "      --hover-bg-color: #E2EBFA;\n",
              "      --hover-fill-color: #174EA6;\n",
              "      --disabled-fill-color: #AAA;\n",
              "      --disabled-bg-color: #DDD;\n",
              "  }\n",
              "\n",
              "  [theme=dark] .colab-df-quickchart {\n",
              "      --bg-color: #3B4455;\n",
              "      --fill-color: #D2E3FC;\n",
              "      --hover-bg-color: #434B5C;\n",
              "      --hover-fill-color: #FFFFFF;\n",
              "      --disabled-bg-color: #3B4455;\n",
              "      --disabled-fill-color: #666;\n",
              "  }\n",
              "\n",
              "  .colab-df-quickchart {\n",
              "    background-color: var(--bg-color);\n",
              "    border: none;\n",
              "    border-radius: 50%;\n",
              "    cursor: pointer;\n",
              "    display: none;\n",
              "    fill: var(--fill-color);\n",
              "    height: 32px;\n",
              "    padding: 0;\n",
              "    width: 32px;\n",
              "  }\n",
              "\n",
              "  .colab-df-quickchart:hover {\n",
              "    background-color: var(--hover-bg-color);\n",
              "    box-shadow: 0 1px 2px rgba(60, 64, 67, 0.3), 0 1px 3px 1px rgba(60, 64, 67, 0.15);\n",
              "    fill: var(--button-hover-fill-color);\n",
              "  }\n",
              "\n",
              "  .colab-df-quickchart-complete:disabled,\n",
              "  .colab-df-quickchart-complete:disabled:hover {\n",
              "    background-color: var(--disabled-bg-color);\n",
              "    fill: var(--disabled-fill-color);\n",
              "    box-shadow: none;\n",
              "  }\n",
              "\n",
              "  .colab-df-spinner {\n",
              "    border: 2px solid var(--fill-color);\n",
              "    border-color: transparent;\n",
              "    border-bottom-color: var(--fill-color);\n",
              "    animation:\n",
              "      spin 1s steps(1) infinite;\n",
              "  }\n",
              "\n",
              "  @keyframes spin {\n",
              "    0% {\n",
              "      border-color: transparent;\n",
              "      border-bottom-color: var(--fill-color);\n",
              "      border-left-color: var(--fill-color);\n",
              "    }\n",
              "    20% {\n",
              "      border-color: transparent;\n",
              "      border-left-color: var(--fill-color);\n",
              "      border-top-color: var(--fill-color);\n",
              "    }\n",
              "    30% {\n",
              "      border-color: transparent;\n",
              "      border-left-color: var(--fill-color);\n",
              "      border-top-color: var(--fill-color);\n",
              "      border-right-color: var(--fill-color);\n",
              "    }\n",
              "    40% {\n",
              "      border-color: transparent;\n",
              "      border-right-color: var(--fill-color);\n",
              "      border-top-color: var(--fill-color);\n",
              "    }\n",
              "    60% {\n",
              "      border-color: transparent;\n",
              "      border-right-color: var(--fill-color);\n",
              "    }\n",
              "    80% {\n",
              "      border-color: transparent;\n",
              "      border-right-color: var(--fill-color);\n",
              "      border-bottom-color: var(--fill-color);\n",
              "    }\n",
              "    90% {\n",
              "      border-color: transparent;\n",
              "      border-bottom-color: var(--fill-color);\n",
              "    }\n",
              "  }\n",
              "</style>\n",
              "\n",
              "  <script>\n",
              "    async function quickchart(key) {\n",
              "      const quickchartButtonEl =\n",
              "        document.querySelector('#' + key + ' button');\n",
              "      quickchartButtonEl.disabled = true;  // To prevent multiple clicks.\n",
              "      quickchartButtonEl.classList.add('colab-df-spinner');\n",
              "      try {\n",
              "        const charts = await google.colab.kernel.invokeFunction(\n",
              "            'suggestCharts', [key], {});\n",
              "      } catch (error) {\n",
              "        console.error('Error during call to suggestCharts:', error);\n",
              "      }\n",
              "      quickchartButtonEl.classList.remove('colab-df-spinner');\n",
              "      quickchartButtonEl.classList.add('colab-df-quickchart-complete');\n",
              "    }\n",
              "    (() => {\n",
              "      let quickchartButtonEl =\n",
              "        document.querySelector('#df-66a3abdd-75a6-4602-8003-11bef884f814 button');\n",
              "      quickchartButtonEl.style.display =\n",
              "        google.colab.kernel.accessAllowed ? 'block' : 'none';\n",
              "    })();\n",
              "  </script>\n",
              "</div>\n",
              "\n",
              "    </div>\n",
              "  </div>\n"
            ],
            "text/plain": [
              "             rating\n",
              "count  99520.000000\n",
              "mean       4.247176\n",
              "std        1.231659\n",
              "min        1.000000\n",
              "25%        4.000000\n",
              "50%        5.000000\n",
              "75%        5.000000\n",
              "max        5.000000"
            ]
          },
          "execution_count": 11,
          "metadata": {},
          "output_type": "execute_result"
        }
      ],
      "source": [
        "# float64 타입 컬럼에 대해 요약 통계 계산\n",
        "review_df[[\"rating\"]].describe()"
      ]
    },
    {
      "cell_type": "code",
      "execution_count": 12,
      "metadata": {
        "colab": {
          "base_uri": "https://localhost:8080/"
        },
        "id": "VIsxoYK75NYx",
        "outputId": "ebe20fea-d963-433d-bc7a-2a7aed96329a"
      },
      "outputs": [
        {
          "name": "stdout",
          "output_type": "stream",
          "text": [
            "상위 30개의 인기 아이템:\n",
            "      parent_asin              category  num_reviews_item\n",
            "42539  B079TRNVHX  Grocery_Gourmet_Food              1044\n",
            "51656  B07T771SPH              Software               103\n",
            "22333  B00KDSGIPK              Software                88\n",
            "13361  B005ZXWMUS              Software                84\n",
            "15987  B0094BB4TW              Software                82\n",
            "29382  B017250D16              Software                79\n",
            "19703  B00FAPF5U0              Software                74\n",
            "36163  B01N0BP507              Software                68\n",
            "24320  B00P03D4D2              Software                67\n",
            "15760  B008XG1X18              Software                60\n",
            "23537  B00N28818A              Software                60\n",
            "25892  B00UC7DG6Q              Software                50\n",
            "29938  B018IOV40E              Software                46\n",
            "23061  B00LV4D70O              Software                45\n",
            "13427  B0063IH60K              Software                44\n",
            "34969  B01LXZLEMN              Software                42\n",
            "13502  B0066TUXU6              Software                40\n",
            "27817  B01248YO8E              Software                39\n",
            "15467  B008K6HN8I              Software                38\n",
            "20834  B00HBUOVIO           Video_Games                38\n",
            "34133  B01K8B8YA8           Electronics                37\n",
            "11202  B004FRX0MY              Software                37\n",
            "31270  B01CBV2K8U              Software                37\n",
            "42965  B07BKPFXTJ              Software                37\n",
            "19170  B00E5NH46Q              Software                35\n",
            "24906  B00QW8TYWO              Software                35\n",
            "40400  B075X8471B           Electronics                34\n",
            "56864  B085BB7B1M                Beauty                34\n",
            "38888  B0739V781Z              Software                33\n",
            "38699  B072M565NX              Software                31\n"
          ]
        }
      ],
      "source": [
        "popular_items = (\n",
        "    review_df.groupby([\"parent_asin\",\"category\"])[\"user_id\"]\n",
        "    .count()\n",
        "    .reset_index(name=\"num_reviews_item\")\n",
        "    .sort_values(by=\"num_reviews_item\", ascending=False)\n",
        ")\n",
        "\n",
        "print(\"상위 30개의 인기 아이템:\")\n",
        "print(popular_items.head(30))"
      ]
    },
    {
      "cell_type": "code",
      "execution_count": 13,
      "metadata": {
        "colab": {
          "base_uri": "https://localhost:8080/",
          "height": 607
        },
        "id": "sij5mqLm5NYx",
        "outputId": "faeff70a-989f-4b98-ecc2-4bc2dd1cd9aa"
      },
      "outputs": [
        {
          "data": {
            "image/png": "[encoded data removed]",
            "text/plain": [
              "<Figure size 1200x600 with 2 Axes>"
            ]
          },
          "metadata": {},
          "output_type": "display_data"
        }
      ],
      "source": [
        "import matplotlib.pyplot as plt\n",
        "\n",
        "fig, axes = plt.subplots(1, 2, figsize=(12, 6), sharey=True)\n",
        "\n",
        "x_min = 0\n",
        "x_max = 100\n",
        "bins = range(x_min, x_max + 1)\n",
        "\n",
        "# 첫 번째 플롯 (X <= 100)\n",
        "axes[0].hist(popular_items['num_reviews_item'], bins=1000)\n",
        "axes[0].set_title(\"Distribution of Number of Reviews per Item\")\n",
        "axes[0].set_xlim(0, 100)\n",
        "axes[0].set_xlabel(\"Number of Reviews\")\n",
        "axes[0].set_ylabel(\"Count of Items\")\n",
        "\n",
        "# 두 번째 플롯 (X <= 20)\n",
        "axes[1].hist(popular_items['num_reviews_item'], bins=bins)\n",
        "axes[1].set_title(\"Distribution of Number of Reviews per Item\")\n",
        "axes[1].set_xlim(0, 20)\n",
        "axes[1].set_xlabel(\"Number of Reviews\")\n",
        "\n",
        "plt.tight_layout()\n",
        "plt.show()"
      ]
    },
    {
      "cell_type": "code",
      "execution_count": 14,
      "metadata": {
        "colab": {
          "base_uri": "https://localhost:8080/"
        },
        "id": "L4kJwLjf5NYx",
        "outputId": "b2f36c4e-e34f-418f-ab60-e86395385297"
      },
      "outputs": [
        {
          "name": "stdout",
          "output_type": "stream",
          "text": [
            "상위 20명의 사용자 활동:\n",
            "                            user_id  num_reviews_user\n",
            "11432  AFZUK3MTBIBEDQOPAK3OATUOUKLA              1492\n",
            "8474   AFJBKPK5W56XWSNPQU2WW66ISWYQ              1054\n",
            "22279  AHV6QCNBJNSGLATP56JAWJ3C4G2A               942\n",
            "10983  AFXF3EGQTQDXMRLDWFU7UBFQZB7Q               847\n",
            "12404  AG73BVBKUOH22USSFJA5ZWL7AKXA               665\n",
            "8710   AFKMX6JZ655VPVYHBTATZQS4IBOQ               632\n",
            "21270  AHPOHKN4PU4W3V5PGFL7AGTAD2AA               597\n",
            "9817   AFQQQ5LGNSQUEBGDCYBAZZE5T3DA               467\n",
            "17345  AGZZXSMMS4WRHHJRBUJZI4FZDHKQ               454\n",
            "8946   AFLX66DKF6R3H6OEOC3TIVAYXZIQ               396\n",
            "7873   AFFZVSTUS3U2ZD22A2NPZSKOCPGQ               376\n",
            "18601  AHATA6X6MYTC3VNBFJ3WIYVK257A               362\n",
            "20170  AHJQPUQLSQZE6LMIUMY7WNRXCQQQ               322\n",
            "16092  AGSXMEKFKM2HDFZ4UNE676O6D5LQ               315\n",
            "21226  AHPFHP43AXWRYZZ4HPNCW7I7J3ZQ               307\n",
            "5415   AEYGPUCRKH7G4VM22FM3VAKSQ23Q               301\n",
            "5758   AF2BLE54TEMGZ546U763ZHZRXC4A               277\n",
            "7423   AFDMZ4TRX3HXQQUGWAHJQTIF65BQ               276\n",
            "2490   AEICZD35OTDYVWA2KPYWN4PDZ2SA               267\n",
            "11763  AG3S4FROO422V5KP7DJCBXVUQLJQ               259\n"
          ]
        }
      ],
      "source": [
        "user_activity_df = (\n",
        "    review_df.groupby(\"user_id\")[\"parent_asin\"]\n",
        "    .count()\n",
        "    .reset_index(name=\"num_reviews_user\")\n",
        "    .sort_values(by=\"num_reviews_user\", ascending=False)\n",
        ")\n",
        "\n",
        "print(\"상위 20명의 사용자 활동:\")\n",
        "print(user_activity_df.head(20))"
      ]
    },
    {
      "cell_type": "code",
      "execution_count": 15,
      "metadata": {
        "colab": {
          "base_uri": "https://localhost:8080/",
          "height": 607
        },
        "id": "D0R218eZ9JLw",
        "outputId": "bb1b3d31-a028-4a4e-d625-f059b3fd7bd5"
      },
      "outputs": [
        {
          "data": {
            "image/png": "[encoded data removed]",
            "text/plain": [
              "<Figure size 1200x600 with 2 Axes>"
            ]
          },
          "metadata": {},
          "output_type": "display_data"
        }
      ],
      "source": [
        "import matplotlib.pyplot as plt\n",
        "\n",
        "fig, axes = plt.subplots(1, 2, figsize=(12, 6), sharey=True)\n",
        "\n",
        "x_min = 0\n",
        "x_max = 100\n",
        "bins = range(x_min, x_max + 1)\n",
        "\n",
        "# 첫 번째 플롯 (X <= 100)\n",
        "axes[0].hist(user_activity_df['num_reviews_user'], bins=1000)\n",
        "axes[0].set_title(\"Distribution of Number of Reviews per User\")\n",
        "axes[0].set_xlim(0, 100)\n",
        "axes[0].set_xlabel(\"Number of Reviews\")\n",
        "axes[0].set_ylabel(\"Count of Items\")\n",
        "\n",
        "# 두 번째 플롯 (X <= 20)\n",
        "axes[1].hist(user_activity_df['num_reviews_user'], bins=bins)\n",
        "axes[1].set_title(\"Distribution of Number of Reviews per User\")\n",
        "axes[1].set_xlim(0, 20)\n",
        "axes[1].set_xlabel(\"Number of Reviews\")\n",
        "\n",
        "plt.tight_layout()\n",
        "plt.show()"
      ]
    },
    {
      "cell_type": "code",
      "execution_count": 16,
      "metadata": {
        "colab": {
          "base_uri": "https://localhost:8080/"
        },
        "id": "8JqVe1DG5NYx",
        "outputId": "be452941-4c4a-46c0-f391-aca24f353bdc"
      },
      "outputs": [
        {
          "name": "stdout",
          "output_type": "stream",
          "text": [
            "rating별 리뷰 개수:\n",
            "   rating  count\n",
            "0       1   7430\n",
            "1       2   4549\n",
            "2       3   7998\n",
            "3       4  15558\n",
            "4       5  63985\n"
          ]
        }
      ],
      "source": [
        "rating_counts = (\n",
        "    review_df.groupby(\"rating\")\n",
        "    .size()\n",
        "    .reset_index(name=\"count\")\n",
        "    .sort_values(by=\"rating\")\n",
        ")\n",
        "\n",
        "print(\"rating별 리뷰 개수:\")\n",
        "print(rating_counts)"
      ]
    },
    {
      "cell_type": "code",
      "execution_count": 17,
      "metadata": {
        "colab": {
          "base_uri": "https://localhost:8080/",
          "height": 607
        },
        "id": "CbFB_fY35NYx",
        "outputId": "841eb418-e178-4fa6-9eb8-fd84097bf3b6"
      },
      "outputs": [
        {
          "data": {
            "image/png": "[encoded data removed]",
            "text/plain": [
              "<Figure size 1000x600 with 1 Axes>"
            ]
          },
          "metadata": {},
          "output_type": "display_data"
        }
      ],
      "source": [
        "def visualize_category_distribution(result_df):\n",
        "    \"\"\"\n",
        "    result_df에서 고유한 category의 분포를 시각화.\n",
        "    \"\"\"\n",
        "    # 카테고리별 개수 집계 및 정렬\n",
        "    category_counts = (\n",
        "        result_df.groupby(\"category\")\n",
        "        .size()\n",
        "        .reset_index(name=\"count\")\n",
        "        .sort_values(by=\"count\", ascending=False)\n",
        "    )\n",
        "\n",
        "    # 시각화\n",
        "    plt.figure(figsize=(10, 6))\n",
        "    plt.barh(category_counts[\"category\"], category_counts[\"count\"], color=\"skyblue\")\n",
        "    plt.xlabel(\"Number of Items\")\n",
        "    plt.ylabel(\"Main Category\")\n",
        "    plt.title(\"Distribution of Main Categories\")\n",
        "    plt.gca().invert_yaxis()  # 카테고리를 내림차순으로 정렬\n",
        "    plt.tight_layout()\n",
        "    plt.show()\n",
        "\n",
        "# 함수 호출\n",
        "visualize_category_distribution(review_df)"
      ]
    },
    {
      "cell_type": "code",
      "execution_count": 19,
      "metadata": {
        "colab": {
          "base_uri": "https://localhost:8080/",
          "height": 656
        },
        "id": "rnXXamhrAYe8",
        "outputId": "af3c501b-9b11-42d6-96bc-b631e40daac9"
      },
      "outputs": [
        {
          "name": "stderr",
          "output_type": "stream",
          "text": [
            "/usr/local/lib/python3.10/dist-packages/scipy/stats/_axis_nan_policy.py:531: UserWarning: scipy.stats.shapiro: For N > 5000, computed p-value may not be accurate. Current N is 99520.\n",
            "  res = hypotest_fun_out(*samples, **kwds)\n"
          ]
        },
        {
          "name": "stdout",
          "output_type": "stream",
          "text": [
            "Mean Rating: 4.247176446945337\n",
            "Variance Rating: 1.5169837576899237\n",
            "Normality Test Result: Not Normal (p-value: 6.121360160809493e-149)\n"
          ]
        },
        {
          "data": {
            "image/png": "[encoded data removed]",
            "text/plain": [
              "<Figure size 1000x600 with 1 Axes>"
            ]
          },
          "metadata": {},
          "output_type": "display_data"
        }
      ],
      "source": [
        "import seaborn as sns\n",
        "from scipy.stats import shapiro\n",
        "\n",
        "def analyze_and_visualize(result_df):\n",
        "    # Basic Statistics\n",
        "    mean_rating = result_df['rating'].mean()\n",
        "    var_rating = result_df['rating'].var()\n",
        "\n",
        "    # Normality Test\n",
        "    shapiro_stat, shapiro_p = shapiro(result_df['rating'])\n",
        "    normality_result = \"Normal\" if shapiro_p > 0.05 else \"Not Normal\"\n",
        "\n",
        "    # Print statistics\n",
        "    print(\"Mean Rating:\", mean_rating)\n",
        "    print(\"Variance Rating:\", var_rating)\n",
        "    print(f\"Normality Test Result: {normality_result} (p-value: {shapiro_p})\")\n",
        "\n",
        "    # Visualizations\n",
        "    plt.figure(figsize=(10, 6))\n",
        "\n",
        "    # Histogram/KDE for Rating\n",
        "    sns.histplot(result_df['rating'], kde=True)\n",
        "    plt.title(\"Rating Distribution\")\n",
        "    plt.xlabel(\"Rating\")\n",
        "    plt.ylabel(\"Frequency\")\n",
        "    plt.show()\n",
        "\n",
        "analyze_and_visualize(review_df)"
      ]
    }
  ],
  "metadata": {
    "accelerator": "GPU",
    "colab": {
      "gpuType": "T4",
      "include_colab_link": true,
      "provenance": []
    },
    "kernelspec": {
      "display_name": "base",
      "language": "python",
      "name": "python3"
    },
    "language_info": {
      "codemirror_mode": {
        "name": "ipython",
        "version": 3
      },
      "file_extension": ".py",
      "mimetype": "text/x-python",
      "name": "python",
      "nbconvert_exporter": "python",
      "pygments_lexer": "ipython3",
      "version": "3.12.7"
    }
  },
  "nbformat": 4,
  "nbformat_minor": 0
}
