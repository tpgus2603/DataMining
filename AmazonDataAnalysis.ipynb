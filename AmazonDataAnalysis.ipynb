{
 "cells": [
  {
   "cell_type": "code",
   "execution_count": 71,
   "metadata": {
    "colab": {
     "base_uri": "https://localhost:8080/"
    },
    "id": "ay6Ao3xBAsqe",
    "outputId": "12ad1be6-7e69-4d6f-e0c9-0bb493d1116e"
   },
   "outputs": [],
   "source": [
    "# local에 padnas, numpy, matplotlib 설치필요\n",
    "import pandas as pd\n",
    "import numpy as np\n",
    "import matplotlib.pyplot as plt\n",
    "%matplotlib inline"
   ]
  },
  {
   "cell_type": "markdown",
   "metadata": {
    "id": "1NPRwxMPT1pL"
   },
   "source": [
    "# 1. Amazon Data"
   ]
  },
  {
   "cell_type": "markdown",
   "metadata": {
    "id": "Y03QwxMbd5kJ"
   },
   "source": [
    "**1-1. Used Data**\n",
    "\n",
    "*   https://amazon-reviews-2023.github.io/\n",
    "\n",
    "\n",
    "\n",
    "\n"
   ]
  },
  {
   "cell_type": "code",
   "execution_count": 72,
   "metadata": {
    "id": "fyhGAnbHyY62"
   },
   "outputs": [],
   "source": [
    "def preprocess_review(review_path):\n",
    "    try:\n",
    "      review_df = pd.read_json(review_path,lines=True)\n",
    "      filtered_review_df = review_df[[\"asin\", \"rating\", \"user_id\", \"title\", \"category\"]]\n",
    "      distinct_review_df = filtered_review_df.drop_duplicates(subset=[\"user_id\", \"asin\"])\n",
    "      return distinct_review_df\n",
    "    except Exception as e:\n",
    "        print(f\"Error in preprocess_review: {e}\")\n",
    "        raise"
   ]
  },
  {
   "cell_type": "code",
   "execution_count": 73,
   "metadata": {
    "colab": {
     "base_uri": "https://localhost:8080/"
    },
    "id": "Y4zAQdgFT0mO",
    "outputId": "ec2bd5e8-87d4-4055-8b8d-bab6ec88a7ca"
   },
   "outputs": [],
   "source": [
    "import os\n",
    "\n",
    "# 로컬 파일 경로 지정\n",
    "review_path = os.path.abspath(\"./Data/Amazon/Review/combined_data2.json\")\n",
    "review_df = preprocess_review(review_path)"
   ]
  },
  {
   "cell_type": "code",
   "execution_count": 74,
   "metadata": {},
   "outputs": [
    {
     "name": "stdout",
     "output_type": "stream",
     "text": [
      "<class 'pandas.core.frame.DataFrame'>\n",
      "Index: 74394 entries, 0 to 77188\n",
      "Data columns (total 5 columns):\n",
      " #   Column    Non-Null Count  Dtype \n",
      "---  ------    --------------  ----- \n",
      " 0   asin      74394 non-null  object\n",
      " 1   rating    74394 non-null  int64 \n",
      " 2   user_id   74394 non-null  object\n",
      " 3   title     74394 non-null  object\n",
      " 4   category  74394 non-null  object\n",
      "dtypes: int64(1), object(4)\n",
      "memory usage: 3.4+ MB\n"
     ]
    }
   ],
   "source": [
    "review_df.info()"
   ]
  },
  {
   "cell_type": "code",
   "execution_count": 75,
   "metadata": {},
   "outputs": [
    {
     "data": {
      "text/html": [
       "<div>\n",
       "<style scoped>\n",
       "    .dataframe tbody tr th:only-of-type {\n",
       "        vertical-align: middle;\n",
       "    }\n",
       "\n",
       "    .dataframe tbody tr th {\n",
       "        vertical-align: top;\n",
       "    }\n",
       "\n",
       "    .dataframe thead th {\n",
       "        text-align: right;\n",
       "    }\n",
       "</style>\n",
       "<table border=\"1\" class=\"dataframe\">\n",
       "  <thead>\n",
       "    <tr style=\"text-align: right;\">\n",
       "      <th></th>\n",
       "      <th>asin</th>\n",
       "      <th>user_id</th>\n",
       "      <th>title</th>\n",
       "      <th>category</th>\n",
       "    </tr>\n",
       "  </thead>\n",
       "  <tbody>\n",
       "    <tr>\n",
       "      <th>count</th>\n",
       "      <td>74394</td>\n",
       "      <td>74394</td>\n",
       "      <td>74394</td>\n",
       "      <td>74394</td>\n",
       "    </tr>\n",
       "    <tr>\n",
       "      <th>unique</th>\n",
       "      <td>59136</td>\n",
       "      <td>21567</td>\n",
       "      <td>51940</td>\n",
       "      <td>10</td>\n",
       "    </tr>\n",
       "    <tr>\n",
       "      <th>top</th>\n",
       "      <td>B079TRNVHX</td>\n",
       "      <td>AFZUK3MTBIBEDQOPAK3OATUOUKLA</td>\n",
       "      <td>Five Stars</td>\n",
       "      <td>Movies_TV</td>\n",
       "    </tr>\n",
       "    <tr>\n",
       "      <th>freq</th>\n",
       "      <td>1044</td>\n",
       "      <td>942</td>\n",
       "      <td>5407</td>\n",
       "      <td>9998</td>\n",
       "    </tr>\n",
       "  </tbody>\n",
       "</table>\n",
       "</div>"
      ],
      "text/plain": [
       "              asin                       user_id       title   category\n",
       "count        74394                         74394       74394      74394\n",
       "unique       59136                         21567       51940         10\n",
       "top     B079TRNVHX  AFZUK3MTBIBEDQOPAK3OATUOUKLA  Five Stars  Movies_TV\n",
       "freq          1044                           942        5407       9998"
      ]
     },
     "execution_count": 75,
     "metadata": {},
     "output_type": "execute_result"
    }
   ],
   "source": [
    "# object 타입 컬럼에 대해 요약 통계 계산\n",
    "review_df[[\"asin\",\"user_id\",\"title\",\"category\"]].describe()"
   ]
  },
  {
   "cell_type": "code",
   "execution_count": 76,
   "metadata": {},
   "outputs": [
    {
     "data": {
      "text/html": [
       "<div>\n",
       "<style scoped>\n",
       "    .dataframe tbody tr th:only-of-type {\n",
       "        vertical-align: middle;\n",
       "    }\n",
       "\n",
       "    .dataframe tbody tr th {\n",
       "        vertical-align: top;\n",
       "    }\n",
       "\n",
       "    .dataframe thead th {\n",
       "        text-align: right;\n",
       "    }\n",
       "</style>\n",
       "<table border=\"1\" class=\"dataframe\">\n",
       "  <thead>\n",
       "    <tr style=\"text-align: right;\">\n",
       "      <th></th>\n",
       "      <th>rating</th>\n",
       "    </tr>\n",
       "  </thead>\n",
       "  <tbody>\n",
       "    <tr>\n",
       "      <th>count</th>\n",
       "      <td>74394.000000</td>\n",
       "    </tr>\n",
       "    <tr>\n",
       "      <th>mean</th>\n",
       "      <td>4.216644</td>\n",
       "    </tr>\n",
       "    <tr>\n",
       "      <th>std</th>\n",
       "      <td>1.249528</td>\n",
       "    </tr>\n",
       "    <tr>\n",
       "      <th>min</th>\n",
       "      <td>1.000000</td>\n",
       "    </tr>\n",
       "    <tr>\n",
       "      <th>25%</th>\n",
       "      <td>4.000000</td>\n",
       "    </tr>\n",
       "    <tr>\n",
       "      <th>50%</th>\n",
       "      <td>5.000000</td>\n",
       "    </tr>\n",
       "    <tr>\n",
       "      <th>75%</th>\n",
       "      <td>5.000000</td>\n",
       "    </tr>\n",
       "    <tr>\n",
       "      <th>max</th>\n",
       "      <td>5.000000</td>\n",
       "    </tr>\n",
       "  </tbody>\n",
       "</table>\n",
       "</div>"
      ],
      "text/plain": [
       "             rating\n",
       "count  74394.000000\n",
       "mean       4.216644\n",
       "std        1.249528\n",
       "min        1.000000\n",
       "25%        4.000000\n",
       "50%        5.000000\n",
       "75%        5.000000\n",
       "max        5.000000"
      ]
     },
     "execution_count": 76,
     "metadata": {},
     "output_type": "execute_result"
    }
   ],
   "source": [
    "# float64 타입 컬럼에 대해 요약 통계 계산\n",
    "review_df[[\"rating\"]].describe()"
   ]
  },
  {
   "cell_type": "code",
   "execution_count": 77,
   "metadata": {},
   "outputs": [
    {
     "name": "stdout",
     "output_type": "stream",
     "text": [
      "상위 30개의 인기 아이템:\n",
      "             asin              category  num_reviews\n",
      "38730  B079TRNVHX  Grocery_Gourmet_Food         1044\n",
      "45689  B07T771SPH              Software          103\n",
      "21017  B00KDSGIPK              Software           88\n",
      "12704  B005ZXWMUS              Software           84\n",
      "15151  B0094BB4TW              Software           82\n",
      "27360  B017250D16              Software           79\n",
      "18587  B00FAPF5U0              Software           74\n",
      "33400  B01N0BP507              Software           68\n",
      "22794  B00P03D4D2              Software           67\n",
      "22095  B00N28818A              Software           60\n",
      "14942  B008XG1X18              Software           60\n",
      "27864  B018IOV40E              Software           46\n",
      "21671  B00LV4D70O              Software           45\n",
      "12765  B0063IH60K              Software           44\n",
      "32364  B01LXZLEMN              Software           42\n",
      "12836  B0066TUXU6              Software           40\n",
      "25924  B01248YO8E              Software           39\n",
      "14668  B008K6HN8I              Software           38\n",
      "10724  B004FRX0MY              Software           37\n",
      "29057  B01CBV2K8U              Software           37\n",
      "39071  B07BKPFXTJ              Software           37\n",
      "18092  B00E5NH46Q              Software           35\n",
      "23327  B00QW8TYWO              Software           35\n",
      "35697  B0739V781Z              Software           33\n",
      "35533  B072M565NX              Software           31\n",
      "14334  B00881VLCE              Software           31\n",
      "20174  B00IG2DOKM              Software           30\n",
      "314    5559166928                 Music           30\n",
      "15012  B008Z2NVGK              Software           30\n",
      "21365  B00L0T4VL4              Software           29\n"
     ]
    }
   ],
   "source": [
    "popular_items = (\n",
    "    review_df.groupby([\"asin\",\"category\"])[\"user_id\"]\n",
    "    .count()\n",
    "    .reset_index(name=\"num_reviews\")\n",
    "    .sort_values(by=\"num_reviews\", ascending=False)\n",
    ")\n",
    "\n",
    "# 상위 30개의 결과 출력\n",
    "print(\"상위 30개의 인기 아이템:\")\n",
    "print(popular_items.head(30))"
   ]
  },
  {
   "cell_type": "code",
   "execution_count": 78,
   "metadata": {},
   "outputs": [
    {
     "data": {
      "image/png": "[encoded data removed]",
      "text/plain": [
       "<Figure size 640x480 with 1 Axes>"
      ]
     },
     "metadata": {},
     "output_type": "display_data"
    }
   ],
   "source": [
    "popular_items['num_reviews'].hist(bins=1000)\n",
    "plt.title(\"Distribution of Number of Reviews per Item\")\n",
    "plt.xlim(0, 100)\n",
    "plt.xlabel(\"Number of Reviews\")\n",
    "plt.ylabel(\"Count of Items\")\n",
    "plt.show()"
   ]
  },
  {
   "cell_type": "code",
   "execution_count": 79,
   "metadata": {},
   "outputs": [
    {
     "name": "stdout",
     "output_type": "stream",
     "text": [
      "상위 20명의 사용자 활동:\n",
      "                            user_id  num_reviews\n",
      "10644  AFZUK3MTBIBEDQOPAK3OATUOUKLA          942\n",
      "11550  AG73BVBKUOH22USSFJA5ZWL7AKXA          563\n",
      "7914   AFJBKPK5W56XWSNPQU2WW66ISWYQ          535\n",
      "20762  AHV6QCNBJNSGLATP56JAWJ3C4G2A          532\n",
      "10218  AFXF3EGQTQDXMRLDWFU7UBFQZB7Q          511\n",
      "19818  AHPOHKN4PU4W3V5PGFL7AGTAD2AA          453\n",
      "16185  AGZZXSMMS4WRHHJRBUJZI4FZDHKQ          396\n",
      "8129   AFKMX6JZ655VPVYHBTATZQS4IBOQ          343\n",
      "9155   AFQQQ5LGNSQUEBGDCYBAZZE5T3DA          327\n",
      "8343   AFLX66DKF6R3H6OEOC3TIVAYXZIQ          256\n",
      "15122  AGTMZCWIWBH43TCW7UKG2YV2EKKA          248\n",
      "15019  AGSXMEKFKM2HDFZ4UNE676O6D5LQ          247\n",
      "17413  AHBCXD3IW2OEP3JZXKKEWCAQWYRQ          246\n",
      "10953  AG3S4FROO422V5KP7DJCBXVUQLJQ          244\n",
      "17340  AHATA6X6MYTC3VNBFJ3WIYVK257A          219\n",
      "7354   AFFZVSTUS3U2ZD22A2NPZSKOCPGQ          210\n",
      "5376   AF2BLE54TEMGZ546U763ZHZRXC4A          207\n",
      "19780  AHPFHP43AXWRYZZ4HPNCW7I7J3ZQ          197\n",
      "10257  AFXMJCVLRCGRAEC7P37FZHEB24UQ          196\n",
      "20562  AHU2GG5RF6YAEWUFNLH3QH5RHDNQ          195\n"
     ]
    }
   ],
   "source": [
    "# user_id별 asin 개수를 집계하고 num_reviews 컬럼으로 이름 설정\n",
    "user_activity_df = (\n",
    "    review_df.groupby(\"user_id\")[\"asin\"]\n",
    "    .count()\n",
    "    .reset_index(name=\"num_reviews\")\n",
    "    .sort_values(by=\"num_reviews\", ascending=False)\n",
    ")\n",
    "\n",
    "# 상위 20개 결과 출력\n",
    "print(\"상위 20명의 사용자 활동:\")\n",
    "print(user_activity_df.head(20))\n"
   ]
  },
  {
   "cell_type": "code",
   "execution_count": 80,
   "metadata": {},
   "outputs": [
    {
     "name": "stdout",
     "output_type": "stream",
     "text": [
      "rating별 리뷰 개수:\n",
      "   rating  count\n",
      "0       1   5804\n",
      "1       2   3563\n",
      "2       3   6250\n",
      "3       4  11872\n",
      "4       5  46905\n"
     ]
    }
   ],
   "source": [
    "# rating별 개수를 집계하고 정렬\n",
    "rating_counts = (\n",
    "    review_df.groupby(\"rating\")\n",
    "    .size()  # 각 그룹의 개수를 계산\n",
    "    .reset_index(name=\"count\")  # 결과를 데이터프레임으로 변환\n",
    "    .sort_values(by=\"rating\")  # rating 기준으로 정렬\n",
    ")\n",
    "\n",
    "# 결과 출력\n",
    "print(\"rating별 리뷰 개수:\")\n",
    "print(rating_counts)"
   ]
  },
  {
   "cell_type": "code",
   "execution_count": 81,
   "metadata": {},
   "outputs": [
    {
     "data": {
      "image/png": "[encoded data removed]",
      "text/plain": [
       "<Figure size 1000x600 with 1 Axes>"
      ]
     },
     "metadata": {},
     "output_type": "display_data"
    }
   ],
   "source": [
    "def visualize_category_distribution(result_df):\n",
    "    \"\"\"\n",
    "    result_df에서 고유한 category의 분포를 시각화.\n",
    "    \"\"\"\n",
    "    # 카테고리별 개수 집계 및 정렬\n",
    "    category_counts = (\n",
    "        result_df.groupby(\"category\")\n",
    "        .size()\n",
    "        .reset_index(name=\"count\")\n",
    "        .sort_values(by=\"count\", ascending=False)\n",
    "    )\n",
    "\n",
    "    # 시각화\n",
    "    plt.figure(figsize=(10, 6))\n",
    "    plt.barh(category_counts[\"category\"], category_counts[\"count\"], color=\"skyblue\")\n",
    "    plt.xlabel(\"Number of Items\")\n",
    "    plt.ylabel(\"Main Category\")\n",
    "    plt.title(\"Distribution of Main Categories\")\n",
    "    plt.gca().invert_yaxis()  # 카테고리를 내림차순으로 정렬\n",
    "    plt.tight_layout()\n",
    "    plt.show()\n",
    "\n",
    "# 함수 호출\n",
    "visualize_category_distribution(review_df)"
   ]
  }
 ],
 "metadata": {
  "accelerator": "GPU",
  "colab": {
   "collapsed_sections": [
    "psvfGRIXC_xq"
   ],
   "gpuType": "T4",
   "provenance": []
  },
  "kernelspec": {
   "display_name": "base",
   "language": "python",
   "name": "python3"
  },
  "language_info": {
   "codemirror_mode": {
    "name": "ipython",
    "version": 3
   },
   "file_extension": ".py",
   "mimetype": "text/x-python",
   "name": "python",
   "nbconvert_exporter": "python",
   "pygments_lexer": "ipython3",
   "version": "3.12.7"
  }
 },
 "nbformat": 4,
 "nbformat_minor": 0
}
