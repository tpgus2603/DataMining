{
  "nbformat": 4,
  "nbformat_minor": 0,
  "metadata": {
    "colab": {
      "provenance": [],
      "include_colab_link": true
    },
    "kernelspec": {
      "name": "python3",
      "display_name": "Python 3"
    },
    "language_info": {
      "name": "python"
    }
  },
  "cells": [
    {
      "cell_type": "markdown",
      "metadata": {
        "id": "view-in-github",
        "colab_type": "text"
      },
      "source": [
        "<a href=\"https://colab.research.google.com/github/tpgus2603/DataMining/blob/main/contenbase_forintergeated.ipynb\" target=\"_parent\"><img src=\"https://colab.research.google.com/assets/colab-badge.svg\" alt=\"Open In Colab\"/></a>"
      ]
    },
    {
      "cell_type": "code",
      "execution_count": null,
      "metadata": {
        "colab": {
          "base_uri": "https://localhost:8080/"
        },
        "id": "5lgz0JbmNwxv",
        "outputId": "b95aeaed-57ea-426f-aca5-71ccbd0bd7d5"
      },
      "outputs": [
        {
          "output_type": "stream",
          "name": "stdout",
          "text": [
            "Mounted at /content/drive\n"
          ]
        }
      ],
      "source": [
        "from google.colab import drive\n",
        "drive.mount('/content/drive')"
      ]
    },
    {
      "cell_type": "code",
      "source": [
        "cd ./drive/MyDrive/json_csv_files/amazon_review2"
      ],
      "metadata": {
        "colab": {
          "base_uri": "https://localhost:8080/"
        },
        "id": "Byt5hvPQRjam",
        "outputId": "995edd96-5f91-4afd-8c35-3edea64e4629"
      },
      "execution_count": null,
      "outputs": [
        {
          "output_type": "stream",
          "name": "stdout",
          "text": [
            "[Errno 2] No such file or directory: './drive/MyDrive/json_csv_files/amazone_review2'\n",
            "/content/drive/MyDrive/json_csv_files\n"
          ]
        }
      ]
    },
    {
      "cell_type": "code",
      "source": [
        "cd amazon_review2/"
      ],
      "metadata": {
        "colab": {
          "base_uri": "https://localhost:8080/"
        },
        "id": "E81f4al4Sfpl",
        "outputId": "b8bc22a5-1932-4733-9ff8-39de2cbd7c31"
      },
      "execution_count": null,
      "outputs": [
        {
          "output_type": "stream",
          "name": "stdout",
          "text": [
            "/content/drive/MyDrive/json_csv_files/amazon_review2\n"
          ]
        }
      ]
    },
    {
      "cell_type": "code",
      "source": [],
      "metadata": {
        "colab": {
          "base_uri": "https://localhost:8080/",
          "height": 35
        },
        "id": "UbU8FdwNvU9T",
        "outputId": "330c26ad-8855-4ab1-f721-773e49bf988e"
      },
      "execution_count": null,
      "outputs": [
        {
          "output_type": "execute_result",
          "data": {
            "text/plain": [
              "'/content/drive/MyDrive/json_csv_files/amazon_review2'"
            ],
            "application/vnd.google.colaboratory.intrinsic+json": {
              "type": "string"
            }
          },
          "metadata": {},
          "execution_count": 8
        }
      ]
    },
    {
      "cell_type": "code",
      "source": [
        "# 라이브러리 설치 (필요시)\n",
        "!pip install pandas scikit-learn\n",
        "\n",
        "# 라이브러리 임포트\n",
        "import pandas as pd\n",
        "from sklearn.feature_extraction.text import TfidfVectorizer\n",
        "from sklearn.metrics.pairwise import cosine_similarity"
      ],
      "metadata": {
        "colab": {
          "base_uri": "https://localhost:8080/"
        },
        "id": "8kdze4FbYyzm",
        "outputId": "fefb4fa1-dae7-4a1e-833c-950f21a816f5"
      },
      "execution_count": null,
      "outputs": [
        {
          "output_type": "stream",
          "name": "stdout",
          "text": [
            "Requirement already satisfied: pandas in /usr/local/lib/python3.10/dist-packages (2.2.2)\n",
            "Requirement already satisfied: scikit-learn in /usr/local/lib/python3.10/dist-packages (1.5.2)\n",
            "Requirement already satisfied: numpy>=1.22.4 in /usr/local/lib/python3.10/dist-packages (from pandas) (1.26.4)\n",
            "Requirement already satisfied: python-dateutil>=2.8.2 in /usr/local/lib/python3.10/dist-packages (from pandas) (2.8.2)\n",
            "Requirement already satisfied: pytz>=2020.1 in /usr/local/lib/python3.10/dist-packages (from pandas) (2024.2)\n",
            "Requirement already satisfied: tzdata>=2022.7 in /usr/local/lib/python3.10/dist-packages (from pandas) (2024.2)\n",
            "Requirement already satisfied: scipy>=1.6.0 in /usr/local/lib/python3.10/dist-packages (from scikit-learn) (1.13.1)\n",
            "Requirement already satisfied: joblib>=1.2.0 in /usr/local/lib/python3.10/dist-packages (from scikit-learn) (1.4.2)\n",
            "Requirement already satisfied: threadpoolctl>=3.1.0 in /usr/local/lib/python3.10/dist-packages (from scikit-learn) (3.5.0)\n",
            "Requirement already satisfied: six>=1.5 in /usr/local/lib/python3.10/dist-packages (from python-dateutil>=2.8.2->pandas) (1.16.0)\n"
          ]
        }
      ]
    },
    {
      "cell_type": "markdown",
      "source": [
        "여기서부터 제대로 시작!\n",
        "\n"
      ],
      "metadata": {
        "id": "t9zZ7c3UfZwL"
      }
    },
    {
      "cell_type": "code",
      "source": [
        "pwd"
      ],
      "metadata": {
        "colab": {
          "base_uri": "https://localhost:8080/",
          "height": 35
        },
        "id": "kDrL5UlNYIE6",
        "outputId": "bae4ba5a-1814-4126-fbab-18122e7091c0"
      },
      "execution_count": null,
      "outputs": [
        {
          "output_type": "execute_result",
          "data": {
            "text/plain": [
              "'/content/drive/MyDrive/json_csv_files'"
            ],
            "application/vnd.google.colaboratory.intrinsic+json": {
              "type": "string"
            }
          },
          "metadata": {},
          "execution_count": 6
        }
      ]
    },
    {
      "cell_type": "code",
      "source": [
        "import pandas as pd\n",
        "import numpy as np\n",
        "from sklearn.feature_extraction.text import TfidfVectorizer\n",
        "from sklearn.metrics.pairwise import cosine_similarity\n",
        "from sklearn.model_selection import train_test_split\n",
        "\n",
        "# 상품 데이터 파일 경로\n",
        "products_file_path = './combined_data2.json'  # 실제 경로로 변경\n",
        "products_df = pd.read_json(products_file_path, lines=True)\n",
        "\n",
        "# 원하는 카테고리 목록\n",
        "desired_categories = [ 'Movies_TV', 'Grocery_Gourmet_Food', 'Electronics']\n",
        "\n",
        "# 카테고리 필터링\n",
        "filtered_products_df = products_df[products_df['category'].isin(desired_categories)].copy()\n",
        "filtered_products_df = filtered_products_df[['rating', 'title', 'text', 'helpful_vote',\n",
        "                                             'verified_purchase', 'product_title', 'category', 'parent_asin']]\n",
        "\n",
        "print(\"Filtered Products DataFrame:\")\n",
        "print(filtered_products_df.head())\n",
        "\n",
        "# user_reviews 데이터 로드\n",
        "user_reviews_file_path = './user_reviews.json'  # 실제 경로로 변경\n",
        "user_reviews_df = pd.read_json(user_reviews_file_path, lines=True)\n",
        "user_reviews_df = user_reviews_df[['title', 'text', 'helpful_vote', 'verified_purchase', 'product_title', 'category', 'parent_asin']]\n",
        "user_reviews_df = user_reviews_df[user_reviews_df['category'].isin(desired_categories)].copy()\n",
        "\n",
        "print(\"User Reviews DataFrame:\")\n",
        "print(user_reviews_df.head())"
      ],
      "metadata": {
        "colab": {
          "base_uri": "https://localhost:8080/"
        },
        "id": "e2YI2fTtfb-y",
        "outputId": "81dbdc17-9e1f-43e0-dedc-5b47b050b9ba"
      },
      "execution_count": null,
      "outputs": [
        {
          "output_type": "stream",
          "name": "stdout",
          "text": [
            "Filtered Products DataFrame:\n",
            "       rating                                              title  \\\n",
            "29669       5                                         Five Stars   \n",
            "29670       5                                         Five Stars   \n",
            "29671       3                       Some decent moments...but...   \n",
            "29672       4  Decent Depiction of Lower-Functioning Autism, ...   \n",
            "29673       5                                    What Love Is...   \n",
            "\n",
            "                                                    text  helpful_vote  \\\n",
            "29669           Amazon, please buy the show! I'm hooked!             0   \n",
            "29670                         My Kiddos LOVE this show!!             0   \n",
            "29671  Annabella Sciorra did her character justice wi...             0   \n",
            "29672  ...there should be more of a range of characte...             1   \n",
            "29673  ...isn't always how you expect it to be, but w...             0   \n",
            "\n",
            "       verified_purchase    product_title   category parent_asin  \n",
            "29669                  1      Sneaky Pete  Movies_TV  B013488XFS  \n",
            "29670                  1  Creative Galaxy  Movies_TV  B00CB6VTDS  \n",
            "29671                  1             None  Movies_TV  B096Z8Z3R6  \n",
            "29672                  0             None  Movies_TV  B09M14D9FZ  \n",
            "29673                  1             None  Movies_TV  B001H1SVZC  \n",
            "User Reviews DataFrame:\n",
            "                      title  \\\n",
            "10            Love Actually   \n",
            "11                    Moana   \n",
            "12             Finding Nemo   \n",
            "13                  Encanto   \n",
            "14  disneys christmas carol   \n",
            "\n",
            "                                                 text  helpful_vote  \\\n",
            "10  A sweet, heartwarming story that some consider...             0   \n",
            "11  Moana is a great islander story, but Lilo and ...             0   \n",
            "12  A classic disney - a tender story with a happy...             0   \n",
            "13  One of my favorite Disneys to date.. Encanto. ...             0   \n",
            "14  Disney's Christmas carol with Jim Carey.  This...             0   \n",
            "\n",
            "    verified_purchase product_title   category parent_asin  \n",
            "10                  1          None  Movies_TV  B00AY5B712  \n",
            "11                  1          None  Movies_TV  B07ZWWT77T  \n",
            "12                  1          None  Movies_TV  B07XGPXPRV  \n",
            "13                  1          None  Movies_TV  B0B12GSRKP  \n",
            "14                  1          None  Movies_TV  B00AHGUCNM  \n"
          ]
        }
      ]
    },
    {
      "cell_type": "code",
      "source": [
        "# test_reviews 데이터 로드\n",
        "test_reviews_file_path = './test_reviews.json'  # 실제 경로로 변경\n",
        "test_reviews_df = pd.read_json(test_reviews_file_path, lines=True)\n",
        "test_reviews_df = test_reviews_df[['title', 'text', 'helpful_vote', 'verified_purchase', 'product_title', 'category', 'parent_asin']]\n",
        "test_reviews_df = test_reviews_df[test_reviews_df['category'].isin(desired_categories)].copy()\n",
        "\n",
        "print(\"Test Reviews DataFrame:\")\n",
        "print(test_reviews_df.head())\n",
        "\n",
        "def combine_text(df):\n",
        "    return df['title'].fillna('') + ' ' + df['text'].fillna('') + ' ' + df['product_title'].fillna('')\n",
        "\n",
        "# test_reviews를 Train/Val로 분할 (7:3)\n",
        "train_reviews, val_reviews = train_test_split(test_reviews_df, test_size=0.3, random_state=42)\n",
        "\n",
        "# 카테고리별로 TF-IDF를 계산하기 위해 각 카테고리별로 반복 수행\n",
        "# 사용자 요구사항 상, 각 카테고리별로 같은 로직 수행\n",
        "rating_threshold = 5.0"
      ],
      "metadata": {
        "colab": {
          "base_uri": "https://localhost:8080/"
        },
        "id": "B9WNPRYwfcgi",
        "outputId": "9e5fe0f2-426d-4dba-8797-dbbd265750ec"
      },
      "execution_count": null,
      "outputs": [
        {
          "output_type": "stream",
          "name": "stdout",
          "text": [
            "Test Reviews DataFrame:\n",
            "                                               title  \\\n",
            "0  The chronicles of narnia the lion, witch and w...   \n",
            "1                                     trading places   \n",
            "2                                          Bad Santa   \n",
            "3  The chronicles of narnia: the voyage of the da...   \n",
            "4                                        A bugs life   \n",
            "\n",
            "                                                text  helpful_vote  \\\n",
            "0  7 year old grandson is very into the old serie...             2   \n",
            "1  Trading places is funny film - eddie murphy - ...             2   \n",
            "2  Billy Bob Thornton, super funny, but really ir...             7   \n",
            "3  7 year old grandson is very into this series r...             0   \n",
            "4  An oldie, but a goodie in my opinion.  Fun act...             1   \n",
            "\n",
            "   verified_purchase product_title   category parent_asin  \n",
            "0                  1          None  Movies_TV  B00HMC4NHK  \n",
            "1                  1          None  Movies_TV  B08P7ZGLT3  \n",
            "2                  1          None  Movies_TV  B01NCHA4UW  \n",
            "3                  1          None  Movies_TV  B00A65G7X8  \n",
            "4                  1          None  Movies_TV  B084Z2FXBJ  \n"
          ]
        }
      ]
    },
    {
      "cell_type": "code",
      "source": [],
      "metadata": {
        "id": "adL1w48hi5H5"
      },
      "execution_count": null,
      "outputs": []
    },
    {
      "cell_type": "code",
      "source": [
        "def get_recommendations_based_on_high_rating(user_reviews_df, high_rating_products_df, tfidf_matrix, asin_to_index, category_df, top_n=5):\n",
        "    recommendations = []\n",
        "    reviewed_asins = set(user_reviews_df['parent_asin'])\n",
        "    for _, review in user_reviews_df.iterrows():\n",
        "        asin = review['parent_asin']\n",
        "        if asin not in asin_to_index:\n",
        "            continue\n",
        "        idx = asin_to_index[asin]\n",
        "        cosine_sim = cosine_similarity(tfidf_matrix[idx], tfidf_matrix).flatten()\n",
        "        similar_indices = cosine_sim.argsort()[::-1][1:top_n+1]\n",
        "\n",
        "        similar_products_all = category_df.iloc[similar_indices]\n",
        "        similar_products = similar_products_all[similar_products_all['rating'] == rating_threshold]\n",
        "        recommendations.append(similar_products)\n",
        "\n",
        "    if recommendations:\n",
        "        recommendations_df = pd.concat(recommendations).drop_duplicates()\n",
        "        recommendations_df = recommendations_df[~recommendations_df['parent_asin'].isin(reviewed_asins)]\n",
        "        recommendations_df = recommendations_df.head(top_n)\n",
        "        return recommendations_df\n",
        "    else:\n",
        "        return pd.DataFrame()\n",
        "\n",
        "def get_recommendations_based_on_similarity(user_tfidf, tfidf_matrix, category_df, user_reviews_df, asin_to_index, top_n=5):\n",
        "    cosine_sim_user = cosine_similarity(user_tfidf, tfidf_matrix).flatten()\n",
        "    user_asins = user_reviews_df['parent_asin'].tolist()\n",
        "    user_indices = [asin_to_index[asin] for asin in user_asins if asin in asin_to_index]\n",
        "    sorted_indices = cosine_sim_user.argsort()[::-1]\n",
        "    sorted_indices = [idx for idx in sorted_indices if idx not in user_indices]\n",
        "    top_indices = sorted_indices[:top_n]\n",
        "    recommended_products = category_df.iloc[top_indices]\n",
        "    return recommended_products.head(top_n)\n",
        "\n",
        "\n",
        "def precision_at_k(recommended_asins, val_asins, k=5):\n",
        "    recommended_top_k = recommended_asins[:k]\n",
        "    relevant = [asin for asin in recommended_top_k if asin in val_asins]\n",
        "    precision = len(relevant) / k\n",
        "    return precision\n",
        "\n",
        "def recall_at_k(recommended_asins, val_asins, k=5):\n",
        "    recommended_top_k = recommended_asins[:k]\n",
        "    relevant = [asin for asin in recommended_top_k if asin in val_asins]\n",
        "    recall = len(relevant) / len(val_asins) if len(val_asins) > 0 else 0\n",
        "    return recall"
      ],
      "metadata": {
        "id": "063zzAptflAW"
      },
      "execution_count": null,
      "outputs": []
    },
    {
      "cell_type": "code",
      "source": [
        "print(len(val_reviews))\n",
        "print(len(train_reviews))\n"
      ],
      "metadata": {
        "colab": {
          "base_uri": "https://localhost:8080/"
        },
        "id": "HdfypFZQhBSX",
        "outputId": "406c6748-d5c2-4a81-e27e-977483ab9260"
      },
      "execution_count": null,
      "outputs": [
        {
          "output_type": "stream",
          "name": "stdout",
          "text": [
            "165\n",
            "382\n"
          ]
        }
      ]
    },
    {
      "cell_type": "code",
      "source": [],
      "metadata": {
        "id": "3TVKtojvyQfO"
      },
      "execution_count": null,
      "outputs": []
    },
    {
      "cell_type": "code",
      "source": [
        "top_n = 3  # 여기서 추천 개수를 원하는 값(예:50)으로 변경\n",
        "\n",
        "for target_category in desired_categories:\n",
        "    print(\"\\n\" + \"=\"*50)\n",
        "    print(f\"Category: {target_category}\")\n",
        "    print(\"=\"*50)\n",
        "\n",
        "    category_df = filtered_products_df[filtered_products_df['category'] == target_category].copy()\n",
        "    category_df['combined_text'] = combine_text(category_df)\n",
        "\n",
        "    category_train_reviews = train_reviews[train_reviews['category'] == target_category].copy()\n",
        "    category_val_reviews = val_reviews[val_reviews['category'] == target_category].copy()\n",
        "\n",
        "    category_train_reviews['combined_text'] = combine_text(category_train_reviews)\n",
        "    category_val_reviews['combined_text'] = combine_text(category_val_reviews)\n",
        "\n",
        "    tfidf = TfidfVectorizer(stop_words='english', max_features=5000)\n",
        "    tfidf_matrix = tfidf.fit_transform(category_df['combined_text'])\n",
        "\n",
        "    category_df = category_df.reset_index(drop=True)\n",
        "    category_df['index'] = category_df.index\n",
        "    asin_to_index = pd.Series(category_df.index, index=category_df['parent_asin']).to_dict()\n",
        "\n",
        "    print(\"TF-IDF Matrix Shape:\", tfidf_matrix.shape)\n",
        "\n",
        "    high_rating_products_df = category_df[category_df['rating'] == rating_threshold].copy()\n",
        "    print(f\"Number of products with rating {rating_threshold} in {target_category}: {len(high_rating_products_df)}\")\n",
        "\n",
        "    if len(category_train_reviews) > 0:\n",
        "        user_query = ' '.join(category_train_reviews['combined_text'].tolist())\n",
        "        user_tfidf = tfidf.transform([user_query])\n",
        "    else:\n",
        "        user_query = ''\n",
        "        user_tfidf = tfidf.transform([user_query])\n",
        "\n",
        "    val_asins = category_val_reviews['parent_asin'].unique().tolist()\n",
        "\n",
        "    # 유사도 기반 추천\n",
        "    recommended_products_similarity = get_recommendations_based_on_similarity(\n",
        "        user_tfidf, tfidf_matrix, category_df, category_train_reviews, asin_to_index, top_n=top_n\n",
        "    )\n",
        "    recommended_asins_similarity = recommended_products_similarity['parent_asin'].tolist()\n",
        "    precision_sim = precision_at_k(recommended_asins_similarity, val_asins, k=top_n)\n",
        "    recall_sim = recall_at_k(recommended_asins_similarity, val_asins, k=top_n)\n",
        "\n",
        "    print(\"순수 유사도 기반 추천 성능:\")\n",
        "    print(f\"Precision@{top_n}: {precision_sim}, Recall@{top_n}: {recall_sim}\")\n",
        "\n",
        "    # rating 기반 추천\n",
        "    recommended_products_rating = get_recommendations_based_on_high_rating(\n",
        "        category_train_reviews, high_rating_products_df, tfidf_matrix, asin_to_index, category_df, top_n=top_n\n",
        "    )\n",
        "    if not recommended_products_rating.empty:\n",
        "        recommended_asins_rating = recommended_products_rating['parent_asin'].tolist()\n",
        "        precision_rating = precision_at_k(recommended_asins_rating, val_asins, k=top_n)\n",
        "        recall_rating = recall_at_k(recommended_asins_rating, val_asins, k=top_n)\n",
        "        print(\"평가 +유사도(=rating 기반) 추천 성능:\")\n",
        "        print(f\"Precision@{top_n}: {precision_rating}, Recall@{top_n}: {recall_rating}\")\n",
        "    else:\n",
        "        print(\"평가 +유사도 추천 결과 없음(해당 카테고리에서 rating=5 상품 부재)\")\n"
      ],
      "metadata": {
        "colab": {
          "base_uri": "https://localhost:8080/"
        },
        "id": "IeGiajD9i9jx",
        "outputId": "6362e68e-03f4-4cf0-aa1c-cda501cb8d81"
      },
      "execution_count": null,
      "outputs": [
        {
          "output_type": "stream",
          "name": "stdout",
          "text": [
            "\n",
            "==================================================\n",
            "Category: Movies_TV\n",
            "==================================================\n",
            "TF-IDF Matrix Shape: (9998, 5000)\n",
            "Number of products with rating 5.0 in Movies_TV: 6378\n",
            "순수 유사도 기반 추천 성능:\n",
            "Precision@3: 0.3333333333333333, Recall@3: 0.0136986301369863\n",
            "평가 +유사도(=rating 기반) 추천 성능:\n",
            "Precision@3: 0.0, Recall@3: 0.0\n",
            "\n",
            "==================================================\n",
            "Category: Grocery_Gourmet_Food\n",
            "==================================================\n",
            "TF-IDF Matrix Shape: (4862, 5000)\n",
            "Number of products with rating 5.0 in Grocery_Gourmet_Food: 3187\n",
            "순수 유사도 기반 추천 성능:\n",
            "Precision@3: 0.6666666666666666, Recall@3: 0.027777777777777776\n",
            "평가 +유사도(=rating 기반) 추천 성능:\n",
            "Precision@3: 0.3333333333333333, Recall@3: 0.013888888888888888\n",
            "\n",
            "==================================================\n",
            "Category: Electronics\n",
            "==================================================\n",
            "TF-IDF Matrix Shape: (5471, 5000)\n",
            "Number of products with rating 5.0 in Electronics: 3581\n",
            "순수 유사도 기반 추천 성능:\n",
            "Precision@3: 0.6666666666666666, Recall@3: 0.1\n",
            "평가 +유사도(=rating 기반) 추천 성능:\n",
            "Precision@3: 0.0, Recall@3: 0.0\n"
          ]
        }
      ]
    },
    {
      "cell_type": "code",
      "source": [
        "# 이제 user_review 데이터에 대해서는 성능평가 없이 추천만 수행\n",
        "print(\"\\n\" + \"=\"*50)\n",
        "print(\"User Review 기반 추천 (성능평가 없음)\")\n",
        "print(\"=\"*50)\n",
        "\n",
        "# user_review 기반 추천을 위해 사용자 쿼리 생성\n",
        "# user_reviews_df 전체를 하나의 사용자로 가정 (필요하다면 특정 사용자만 선택 가능)\n",
        "user_reviews_df['combined_text'] = combine_text(user_reviews_df)\n",
        "\n",
        "for target_category in desired_categories:\n",
        "    print(\"\\nCategory:\", target_category)\n",
        "    category_df = filtered_products_df[filtered_products_df['category'] == target_category].copy()\n",
        "    category_df['combined_text'] = combine_text(category_df)\n",
        "\n",
        "    tfidf = TfidfVectorizer(stop_words='english', max_features=5000)\n",
        "    tfidf_matrix = tfidf.fit_transform(category_df['combined_text'])\n",
        "\n",
        "    category_df = category_df.reset_index(drop=True)\n",
        "    category_df['index'] = category_df.index\n",
        "    asin_to_index = pd.Series(category_df.index, index=category_df['parent_asin']).to_dict()\n",
        "\n",
        "    high_rating_products_df = category_df[category_df['rating'] == rating_threshold].copy()\n",
        "\n",
        "    user_query_all = ' '.join(user_reviews_df['combined_text'].tolist())\n",
        "    user_tfidf_all = tfidf.transform([user_query_all])\n",
        "\n",
        "    # rating 기반 추천 (user_review)\n",
        "    recommended_products_rating_user = get_recommendations_based_on_high_rating(user_reviews_df, high_rating_products_df, tfidf_matrix, asin_to_index, category_df, top_n=5)\n",
        "    print(\"User Review 기반 Rating + 유사도 추천 상품:\")\n",
        "    print(recommended_products_rating_user[['parent_asin', 'product_title', 'category']] if not recommended_products_rating_user.empty else \"추천 없음\")\n",
        "\n",
        "    # 유사도 기반 추천 (user_review)\n",
        "    recommended_products_similarity_user = get_recommendations_based_on_similarity(user_tfidf_all, tfidf_matrix, category_df, user_reviews_df, asin_to_index, top_n=5)\n",
        "    print(\"User Review 기반 순수 유사도 추천 상품:\")\n",
        "    print(recommended_products_similarity_user[['parent_asin', 'product_title', 'category']])"
      ],
      "metadata": {
        "colab": {
          "base_uri": "https://localhost:8080/"
        },
        "id": "xyShdZzTfctO",
        "outputId": "7e7e8d2f-bc3b-4316-9b2e-348d1067fc09"
      },
      "execution_count": null,
      "outputs": [
        {
          "output_type": "stream",
          "name": "stdout",
          "text": [
            "\n",
            "==================================================\n",
            "User Review 기반 추천 (성능평가 없음)\n",
            "==================================================\n",
            "\n",
            "Category: Movies_TV\n",
            "User Review 기반 Rating + 유사도 추천 상품:\n",
            "     parent_asin product_title   category\n",
            "211   B00AOB5G3Q          None  Movies_TV\n",
            "210   B084Z2FXBJ          None  Movies_TV\n",
            "3682  B074QWJM76          None  Movies_TV\n",
            "5977  B006JN6D6M          None  Movies_TV\n",
            "5978  B001JGECT4          None  Movies_TV\n",
            "User Review 기반 순수 유사도 추천 상품:\n",
            "    parent_asin product_title   category\n",
            "201  B07ZWWT77T          None  Movies_TV\n",
            "211  B00AOB5G3Q          None  Movies_TV\n",
            "210  B084Z2FXBJ          None  Movies_TV\n",
            "209  B00A65G7X8          None  Movies_TV\n",
            "205  B00HMC4NHK          None  Movies_TV\n",
            "\n",
            "Category: Grocery_Gourmet_Food\n",
            "User Review 기반 Rating + 유사도 추천 상품:\n",
            "    parent_asin                                      product_title  \\\n",
            "526  B00WI0T4HU  Kraft Original Easy Microwavable Macaroni and ...   \n",
            "524  B005F7SQKO  Peppadew Peppers - Mild - Value Bundle of 6 (8...   \n",
            "533  B01MQRSTKC  BUSH'S BEST Canned Reduced Sodium Black Beans ...   \n",
            "535  B0B75QKL5C  Make Your Day Variety, Pop Tarts Frosted Brown...   \n",
            "532  B01M7NO582  Kraft Chicken Stove Top Stuffing Mix (6 oz. bo...   \n",
            "\n",
            "                 category  \n",
            "526  Grocery_Gourmet_Food  \n",
            "524  Grocery_Gourmet_Food  \n",
            "533  Grocery_Gourmet_Food  \n",
            "535  Grocery_Gourmet_Food  \n",
            "532  Grocery_Gourmet_Food  \n",
            "User Review 기반 순수 유사도 추천 상품:\n",
            "    parent_asin                                      product_title  \\\n",
            "533  B01MQRSTKC  BUSH'S BEST Canned Reduced Sodium Black Beans ...   \n",
            "520  B06XKSFW4P  Saltverk Flaky Sea Salt, 3.17 Ounces of Handcr...   \n",
            "524  B005F7SQKO  Peppadew Peppers - Mild - Value Bundle of 6 (8...   \n",
            "526  B00WI0T4HU  Kraft Original Easy Microwavable Macaroni and ...   \n",
            "532  B01M7NO582  Kraft Chicken Stove Top Stuffing Mix (6 oz. bo...   \n",
            "\n",
            "                 category  \n",
            "533  Grocery_Gourmet_Food  \n",
            "520  Grocery_Gourmet_Food  \n",
            "524  Grocery_Gourmet_Food  \n",
            "526  Grocery_Gourmet_Food  \n",
            "532  Grocery_Gourmet_Food  \n",
            "\n",
            "Category: Electronics\n",
            "User Review 기반 Rating + 유사도 추천 상품:\n",
            "     parent_asin                                      product_title  \\\n",
            "4691  B009OVGKTQ  Elegoo EL-KIT-000 37-in-1 Sensor Module Kit fo...   \n",
            "313   B07375RHX1  ivoler USB C Cable (USB 3.0), [3 Pack: 3FTx2 6...   \n",
            "339   B0191GGFY8  ISELECTOR 4-Outlet Surge Protector with 4 USB ...   \n",
            "279   B09B48ZGJV  Memory Foams Pro Active V2.0 Patented Silicone...   \n",
            "5280  B01JAT1F5K  Comply Isolation Noise Cancelling Memory Foam ...   \n",
            "\n",
            "         category  \n",
            "4691  Electronics  \n",
            "313   Electronics  \n",
            "339   Electronics  \n",
            "279   Electronics  \n",
            "5280  Electronics  \n",
            "User Review 기반 순수 유사도 추천 상품:\n",
            "    parent_asin                                      product_title  \\\n",
            "273  B08TBDBQ1C  POLÈNE Bird House Statue,Echo Dot Holder Stand...   \n",
            "339  B0191GGFY8  ISELECTOR 4-Outlet Surge Protector with 4 USB ...   \n",
            "281  B088KTR418  Powerbeats Pro Wireless Earbuds - Apple H1 Hea...   \n",
            "279  B09B48ZGJV  Memory Foams Pro Active V2.0 Patented Silicone...   \n",
            "299  B079RC9338  sephia Sp3060VC Earbuds Wired in Ear Headphone...   \n",
            "\n",
            "        category  \n",
            "273  Electronics  \n",
            "339  Electronics  \n",
            "281  Electronics  \n",
            "279  Electronics  \n",
            "299  Electronics  \n"
          ]
        }
      ]
    }
  ]
}