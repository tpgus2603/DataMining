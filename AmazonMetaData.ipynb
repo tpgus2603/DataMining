{
 "cells": [
  {
   "cell_type": "code",
   "execution_count": 4,
   "metadata": {
    "id": "-LEDL0v0O68i"
   },
   "outputs": [],
   "source": [
    "import gzip\n",
    "import shutil\n",
    "import pandas as pd\n",
    "import os"
   ]
  },
  {
   "cell_type": "code",
   "execution_count": 10,
   "metadata": {
    "id": "wBv8SFYHYwEl"
   },
   "outputs": [],
   "source": [
    "def get_review_data(file_id, category):\n",
    "  file_url = f\"https://drive.google.com/uc?id={file_id}\"\n",
    "  output_file = f\"{category}_review.jsonl\"  # 저장할 파일 이름\n",
    "  gdown.download(file_url, output_file, quiet=False)\n",
    "  return output_file\n",
    "\n",
    "# download from google drive and unzip file\n",
    "def get_meta_data(file_id, category):\n",
    "  file_url = f\"https://drive.google.com/uc?id={file_id}\"\n",
    "  zipped_file = f\"{category}_meta.jsonl.gz\"  # 저장할 파일 이름\n",
    "  gdown.download(file_url, zipped_file, quiet=False)\n",
    "\n",
    "  input_file = zipped_file  # 압축된 파일\n",
    "  output_file = f\"{category}_meta.jsonl\" # 압축 해제된 파일\n",
    "\n",
    "  # 압축 해제\n",
    "  with gzip.open(input_file, 'rb') as f_in:\n",
    "      with open(output_file, 'wb') as f_out:\n",
    "          shutil.copyfileobj(f_in, f_out)\n",
    "\n",
    "  print(f\"압축 해제 완료: {output_file}\")\n",
    "  return output_file\n",
    "\n",
    "def FilterCommonKey(review_file_path,meta_file_path):\n",
    "  reviews_df = pd.read_json(review_file_path, lines=True)\n",
    "  meta_df = pd.read_json(meta_file_path, lines=True)\n",
    "\n",
    "  # 2. 필요한 컬럼만 추출\n",
    "  reviews_df = reviews_df[['asin']].drop_duplicates()  # 중복 제거\n",
    "  meta_df = meta_df[['parent_asin', 'title', 'main_category']]  # 필요한 컬럼만 유지\n",
    "\n",
    "  # 3. 공통된 값을 기준으로 필터링\n",
    "  common_meta_df = meta_df[meta_df['parent_asin'].isin(reviews_df['asin'])]\n",
    "\n",
    "  # 4. 결과 저장 (Optional)\n",
    "  # common_meta_df.to_json(\"filtered_Baby_product_meta.json\", orient=\"records\", lines=True)\n",
    "  return common_meta_df"
   ]
  },
  {
   "cell_type": "code",
   "execution_count": 11,
   "metadata": {},
   "outputs": [],
   "source": [
    "# In local\n",
    "def CombineMetaData(data_array):\n",
    "   combined_meta_df = pd.DataFrame()\n",
    "   for data in data_array:\n",
    "        review_file_path = os.path.abspath(f\"./amazon_review/{data['category']}_50K.json\")\n",
    "        meta_file_path = os.path.abspath(f\"./amazon_meta/meta_{data['category']}.jsonl/meta_{data['category']}.jsonl\")\n",
    "        common_meta_df = FilterCommonKey(review_file_path, meta_file_path)\n",
    "        combined_meta_df = pd.concat([combined_meta_df, common_meta_df], ignore_index=True)\n",
    "   \n",
    "   combined_meta_df.to_json(\"combined_common_meta.json\", orient=\"records\", lines=True)\n",
    "\n",
    "# In Colab\n",
    "def GetTotalMetaData(data_array):\n",
    "    combined_meta_df = pd.DataFrame()\n",
    "\n",
    "    for data in data_array:\n",
    "        review_file_path = get_review_data(data['review_file_id'], data['category'])\n",
    "        meta_file_path = get_meta_data(data['meta_file_id'], data['category'])\n",
    "\n",
    "        common_meta_df = FilterCommonKey(review_file_path, meta_file_path)\n",
    "\n",
    "        combined_meta_df = pd.concat([combined_meta_df, common_meta_df], ignore_index=True)\n",
    "\n",
    "    # 결합된 DataFrame을 파일로 저장\n",
    "    combined_meta_df.to_json(\"combined_common_meta.json\", orient=\"records\", lines=True)"
   ]
  },
  {
   "cell_type": "code",
   "execution_count": null,
   "metadata": {
    "colab": {
     "base_uri": "https://localhost:8080/"
    },
    "id": "mZxtzIfKQPON",
    "outputId": "ba47a021-d8bc-4623-b91a-6c2f6a404701"
   },
   "outputs": [],
   "source": [
    "data_array = [\n",
    "    {\n",
    "      \"review_file_id\": \"1K7YGusyNKYhovzQVvCjKgXc-85snSut2\",\n",
    "      \"meta_file_id\": \"16Jai-R0OiUQTPS5-zq1p2rzTzQcd-nvK\",\n",
    "      \"category\": \"Baby_Products\",\n",
    "    },\n",
    "    {\n",
    "      \"review_file_id\": \"1xR5ZvNcv1RZmGy5INIhAUuj1QeB_bBfx\",\n",
    "      \"meta_file_id\": \"1pBu0mRg5P9Itv0hbS8fCqxWmZnmqeuEP\",\n",
    "      \"category\": \"Amazon_Fashion\",\n",
    "    },\n",
    "    {\n",
    "      \"review_file_id\": \"12JkkFhHXMe4OBgqEr_0FgntHzohhtD0m\",\n",
    "      \"meta_file_id\": \"1bwOOyvAFiCEbBQaj98hOFXeqEtsYYXFF\",\n",
    "      \"category\": \"Arts_Crafts_and_Sewing\",\n",
    "    },\n",
    "    {\n",
    "      \"review_file_id\": \"1I-nUdx-tOBO9aiJLVNjLQ-EhiqWR0R_H\",\n",
    "      \"meta_file_id\": \"1v9ysd8ir3_imQMw8iUn4SajnoFJvDypY\",\n",
    "      \"category\": \"All_Beauty\",\n",
    "    },\n",
    "    {\n",
    "      \"review_file_id\": \"1yXKAIS1BO_FCxOgGsx2JOI8xUcqgxtV-\",\n",
    "      \"meta_file_id\": \"1sW_DQp5azj-y6O5XtLq2Ge6LGlEPNhGe\",\n",
    "      \"category\": \"Video_Games\",\n",
    "    },\n",
    "    {\n",
    "      \"review_file_id\": \"1T0GwVI7cPzuLjSJ9lurNShSmwIAuP-Sd\",\n",
    "      \"meta_file_id\": \"1u2wi6CYsN2OP-30St7cBxX2VjPB5UQNQ\",\n",
    "      \"category\": \"Automotive\",\n",
    "    },\n",
    "    {\n",
    "      \"review_file_id\": \"1x5DvAY4NKsixMBadm1UCrUScJvtU17Dj\",\n",
    "      \"meta_file_id\": \"1pBu0mRg5P9Itv0hbS8fCqxWmZnmqeuEP\",\n",
    "      \"category\": \"Sports_and_Outdoors\",\n",
    "    },\n",
    "]\n",
    "\n",
    "# GetTotalMetaData(data_array)\n",
    "CombineMetaData(data_array)"
   ]
  }
 ],
 "metadata": {
  "colab": {
   "provenance": []
  },
  "kernelspec": {
   "display_name": "base",
   "language": "python",
   "name": "python3"
  },
  "language_info": {
   "codemirror_mode": {
    "name": "ipython",
    "version": 3
   },
   "file_extension": ".py",
   "mimetype": "text/x-python",
   "name": "python",
   "nbconvert_exporter": "python",
   "pygments_lexer": "ipython3",
   "version": "3.12.7"
  }
 },
 "nbformat": 4,
 "nbformat_minor": 0
}
