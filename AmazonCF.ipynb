{
 "cells": [
  {
   "cell_type": "code",
   "execution_count": null,
   "metadata": {
    "colab": {
     "base_uri": "https://localhost:8080/"
    },
    "id": "ay6Ao3xBAsqe",
    "outputId": "12ad1be6-7e69-4d6f-e0c9-0bb493d1116e"
   },
   "outputs": [
    {
     "name": "stdout",
     "output_type": "stream",
     "text": [
      "Requirement already satisfied: pyspark in c:\\users\\pudin\\anaconda3\\lib\\site-packages (3.5.3)\n",
      "Requirement already satisfied: py4j==0.10.9.7 in c:\\users\\pudin\\anaconda3\\lib\\site-packages (from pyspark) (0.10.9.7)\n"
     ]
    }
   ],
   "source": [
    "# local에 padnas, numpy, matplotlib 설치필요\n",
    "import pandas as pd\n",
    "import numpy as np\n",
    "import matplotlib.pyplot as plt\n",
    "%matplotlib inline\n",
    "\n",
    "# local에 pyspark 설치필요\n",
    "!pip install pyspark\n",
    "import pyspark\n",
    "from pyspark.sql.types import StructField, StructType, StringType, DoubleType, FloatType, IntegerType\n",
    "from pyspark.sql.functions import col, count\n",
    "from pyspark.sql import *\n",
    "from pyspark.sql.functions import *\n",
    "from pyspark import SparkContext, SparkConf\n",
    "from sklearn.metrics.pairwise import cosine_similarity\n",
    "\n",
    "# # Spark 세션 생성\n",
    "spark = SparkSession.builder \\\n",
    "    .appName(\"RS_AmazonXTwitter\") \\\n",
    "    .getOrCreate()"
   ]
  },
  {
   "cell_type": "markdown",
   "metadata": {
    "id": "1NPRwxMPT1pL"
   },
   "source": [
    "# 1. Amazon Data"
   ]
  },
  {
   "cell_type": "markdown",
   "metadata": {
    "id": "Y03QwxMbd5kJ"
   },
   "source": [
    "**1-1. Used Data**\n",
    "\n",
    "*   https://amazon-reviews-2023.github.io/\n",
    "\n",
    "\n",
    "\n",
    "\n"
   ]
  },
  {
   "cell_type": "markdown",
   "metadata": {
    "id": "rxL23MklwUhY"
   },
   "source": [
    "# Colaborative Filtering\n"
   ]
  },
  {
   "cell_type": "code",
   "execution_count": 95,
   "metadata": {
    "id": "fyhGAnbHyY62"
   },
   "outputs": [],
   "source": [
    "def preprocess_review(review_path):\n",
    "    try:\n",
    "        # JSON 데이터 읽기\n",
    "        review_df = spark.read.json(review_path)\n",
    "        # 데이터 필터링\n",
    "        filtered_review_df = review_df.select(\"asin\", \"rating\", \"user_id\", \"title\")\n",
    "        filtered_review_df = filtered_review_df.withColumn(\"rating\", col(\"rating\").cast(FloatType()))\n",
    "        # 데이터 타입 강제 변환\n",
    "        # filtered_review_df = filtered_review_df \\\n",
    "        #     .withColumn(\"rating\", col(\"rating\").cast(FloatType()))\n",
    "        # print(\"Schema after casting rating to Float:\")\n",
    "        # filtered_review_df.printSchema()\n",
    "\n",
    "        # 유효한 데이터 필터링\n",
    "        # filtered_review_df = filtered_review_df.filter(\n",
    "        #     col(\"asin\").isNotNull() &\n",
    "        #     col(\"rating\").isNotNull() &\n",
    "        #     col(\"user_id\").isNotNull()\n",
    "        # )\n",
    "\n",
    "        # # 스키마 강제 적용\n",
    "        # review_schema = StructType([\n",
    "        #     StructField(\"asin\", StringType(), False),\n",
    "        #     StructField(\"rating\", FloatType(), False),\n",
    "        #     StructField(\"user_id\", StringType(), False),\n",
    "        # ])\n",
    "        # review_df = spark.createDataFrame(filtered_review_df.rdd, schema=review_schema)\n",
    "        return filtered_review_df\n",
    "    except Exception as e:\n",
    "        print(f\"Error in preprocess_review: {e}\")\n",
    "        raise\n",
    "\n",
    "def sort_review(review_df):\n",
    "  # Step 1: _asin과 user_id 조합의 중복 제거\n",
    "  distinct_review_df = review_df.dropDuplicates([\"user_id\", \"asin\"])\n",
    "  sorted_review_df = distinct_review_df\n",
    "\n",
    "#   # Step 2: user_id 빈도 계산\n",
    "#   user_id_count_df = distinct_review_df \\\n",
    "#       .groupBy(\"user_id\") \\\n",
    "#       .agg(count(\"user_id\").alias(\"user_id_count\"))\n",
    "\n",
    "#   # Step 3: 중복 제거된 데이터와 user_id_count 병합\n",
    "#   sorted_review_df = distinct_review_df \\\n",
    "#       .join(user_id_count_df, on=\"user_id\") \\\n",
    "#       .orderBy(col(\"user_id_count\").desc(), col(\"user_id\").asc()) # user_id_count 내림차순, user_id 오름차순\n",
    "\n",
    "#   # Step 4: 정렬된 데이터에서 user_id_count 제거 (필요하면)\n",
    "#   sorted_review_df = sorted_review_df.drop(\"user_id_count\")\n",
    "  return sorted_review_df\n",
    "\n"
   ]
  },
  {
   "cell_type": "code",
   "execution_count": 96,
   "metadata": {
    "id": "w9kA6Xfv2CBm"
   },
   "outputs": [],
   "source": [
    "def CF_review(review_df):\n",
    "    popular_items = review_df.groupBy(\"asin\").agg(count(\"user_id\").alias(\"num_reviews\"))\n",
    "    popular_items = popular_items.orderBy(col(\"num_reviews\").desc())\n",
    "\n",
    "    # 상위 n개의 인기 아이템 추출\n",
    "    popular_item_asins = [row[\"asin\"] for row in popular_items.limit(5000).collect()]\n",
    "\n",
    "    # 인기 아이템을 포함한 데이터 필터링\n",
    "    sampled_reviews = review_df.filter(col(\"asin\").isin(popular_item_asins))\n",
    "\n",
    "    sampled_df = sampled_reviews.limit(10000)  # 전체 데이터에서 10% 랜덤 샘플링 (최대 10000개)\n",
    "    # 3. 유저-아이템 pivot 테이블 생성\n",
    "    pivot_df = sampled_df.groupBy(\"asin\").pivot(\"user_id\").agg({\"rating\": \"first\"})\n",
    "    pivot_df = pivot_df.fillna(0)\n",
    "\n",
    "    # PySpark DataFrame -> Pandas DataFrame 변환\n",
    "    pivot_pandas = pivot_df.toPandas()\n",
    "\n",
    "    # 'asin' 컬럼 제거 (필요한 경우)\n",
    "    pivot_pandas = pivot_pandas.set_index(\"asin\")\n",
    "\n",
    "    # Null 값을 0으로 대체 (cosine_similarity는 NaN 값을 허용하지 않음)\n",
    "    pivot_pandas = pivot_pandas.fillna(0)\n",
    "\n",
    "    # Pandas DataFrame -> NumPy 배열 변환\n",
    "    pivot_numpy = pivot_pandas.values\n",
    "\n",
    "    # 4. 코사인 유사도 계산\n",
    "    similarity_score = cosine_similarity(pivot_numpy)\n",
    "\n",
    "    # 결과 출력\n",
    "    print(\"Similarity Score Shape:\", similarity_score.shape)\n",
    "\n",
    "    return {\"pivot_pandas\": pivot_pandas, \"similarity_score\": similarity_score}\n",
    "\n",
    "def recommend_items(target_index, similarity_score, pivot_pandas, top_n=5):\n",
    "    similarities = similarity_score[target_index]\n",
    "    similar_items = sorted(enumerate(similarities), key=lambda x: x[1], reverse=True)[1:top_n+1]\n",
    "    recommendations = [(pivot_pandas.index[i], score) for i, score in similar_items]\n",
    "    return recommendations"
   ]
  },
  {
   "cell_type": "code",
   "execution_count": 97,
   "metadata": {
    "colab": {
     "base_uri": "https://localhost:8080/"
    },
    "id": "Y4zAQdgFT0mO",
    "outputId": "ec2bd5e8-87d4-4055-8b8d-bab6ec88a7ca"
   },
   "outputs": [
    {
     "name": "stdout",
     "output_type": "stream",
     "text": [
      "+----------+\n",
      "|      asin|\n",
      "+----------+\n",
      "|B08M2DN7J9|\n",
      "|B0743M24KF|\n",
      "|B00GJY6EPG|\n",
      "|B079H8S5TK|\n",
      "|B0BHY8J7DF|\n",
      "|B09W9MRP7T|\n",
      "|B0918D3FYM|\n",
      "|B08WCPBCCN|\n",
      "|B083W6SWYC|\n",
      "|B08D1TBBP4|\n",
      "|B07X2S2D4F|\n",
      "|B09C1BZPZV|\n",
      "|B01LWSSEVH|\n",
      "|B01049VXFM|\n",
      "|B00FFJ3TJA|\n",
      "|B07VHG51YJ|\n",
      "|B01IL2F3HI|\n",
      "|B07985Z8YN|\n",
      "|B08HDTFLC4|\n",
      "|B08V1KZY26|\n",
      "+----------+\n",
      "only showing top 20 rows\n",
      "\n",
      "+----------+------+--------------------+--------------------+\n",
      "|      asin|rating|             user_id|               title|\n",
      "+----------+------+--------------------+--------------------+\n",
      "|B00O2VRLWI|   3.0|AE22BZ4I2434QRWLO...|Ahhhhhhh...Not So...|\n",
      "|B00L378RZY|   5.0|AE22JH5VGRWT6ABCF...|... this crib fro...|\n",
      "|B005IWM9AO|   5.0|AE22PJ54OVIRX3I6K...|Works well for ou...|\n",
      "|B07D2G6CLG|   4.0|AE22Z3RLVIRU6RT5P...|       KUDOS JOHNSON|\n",
      "|B07H8N7KZ8|   5.0|AE23353TWZHXV74H7...|       Very pleased!|\n",
      "|B0028H3ACS|   5.0|AE23ZLT2QYU6NIHTB...|     Perfect soother|\n",
      "|B00I0NKH7K|   5.0|AE23ZLT2QYU6NIHTB...|       Fits a Chicco|\n",
      "|B00KBGTRAC|   5.0|AE23ZLT2QYU6NIHTB...|             Love it|\n",
      "|B01N5MJVKE|   5.0|AE23ZLT2QYU6NIHTB...| Great on most carts|\n",
      "|B072LTSWND|   5.0|AE23ZLT2QYU6NIHTB...| Great baby play pen|\n",
      "|B00BPGOXBU|   4.0|AE24BH3DIF74ZOF74...|Good product but ...|\n",
      "|B001GODIEE|   5.0|AE24FFSUQHE3J6NYB...|          Five Stars|\n",
      "|B01FC8KRC0|   5.0|AE24VH64NWRELC6FZ...| Best on the market!|\n",
      "|B01I5MPR1G|   5.0|AE27RKN6XBLXOAYDI...|Use instead of co...|\n",
      "|B008DDPLEG|   1.0|AE2AZ2T5LMBV7B55Q...|           USED ITEM|\n",
      "|B074V8PB4Z|   2.0|AE2AZ2T5LMBV7B55Q...|   Tastes like soap!|\n",
      "|B078SQK9XK|   5.0|AE2AZ2T5LMBV7B55Q...|   Highly Recommend!|\n",
      "|B01AEQH0B6|   5.0|AE2BA7WS6WJ5WTO7D...|Wonderful way to ...|\n",
      "|B00GKE6GXU|   5.0|AE2BLXPEH643OUNYU...|Great little baby...|\n",
      "|B00WW020P4|   3.0|AE2CFLR7D3VL62LWZ...|... to put enough...|\n",
      "+----------+------+--------------------+--------------------+\n",
      "only showing top 20 rows\n",
      "\n"
     ]
    }
   ],
   "source": [
    "review_path = os.path.abspath(\"./amazon_review/Baby_Products_50K.json\")\n",
    "review = preprocess_review(review_path)\n",
    "sorted_review = sort_review(review)\n",
    "\n",
    "unique_asins_df = review.select(\"asin\").distinct()\n",
    "\n",
    "# # 결과 확인\n",
    "unique_asins_df.show()\n",
    "sorted_review.show()"
   ]
  },
  {
   "cell_type": "code",
   "execution_count": 98,
   "metadata": {
    "colab": {
     "base_uri": "https://localhost:8080/"
    },
    "id": "9gh-FNEGI0w_",
    "outputId": "a5c7af81-38df-4386-f9a5-598c5c3d4f29"
   },
   "outputs": [
    {
     "name": "stdout",
     "output_type": "stream",
     "text": [
      "Similarity Score Shape: (4104, 4104)\n"
     ]
    }
   ],
   "source": [
    "cf_review = CF_review(sorted_review)\n",
    "pivot_pandas = cf_review[\"pivot_pandas\"]\n",
    "similarity_score = cf_review[\"similarity_score\"]"
   ]
  },
  {
   "cell_type": "code",
   "execution_count": 99,
   "metadata": {
    "colab": {
     "base_uri": "https://localhost:8080/"
    },
    "id": "UUCaJIrZLE4U",
    "outputId": "9fbb55e7-d6f1-4b58-8903-6bef6088d43f"
   },
   "outputs": [
    {
     "name": "stdout",
     "output_type": "stream",
     "text": [
      "Shape of similarity_score: (4104, 4104)\n",
      "Max similarity: 1.0000002\n",
      "Min similarity: 0.0\n",
      "Mean similarity: 0.0039760307\n"
     ]
    }
   ],
   "source": [
    "print(\"Shape of similarity_score:\", similarity_score.shape)\n",
    "print(\"Max similarity:\", similarity_score.max())\n",
    "print(\"Min similarity:\", similarity_score.min())\n",
    "print(\"Mean similarity:\", similarity_score.mean())"
   ]
  },
  {
   "cell_type": "code",
   "execution_count": 108,
   "metadata": {
    "colab": {
     "base_uri": "https://localhost:8080/"
    },
    "id": "W3BAv3KKLVns",
    "outputId": "3303a0af-47b2-4bf0-b0ef-88fff1260fbd"
   },
   "outputs": [
    {
     "name": "stdout",
     "output_type": "stream",
     "text": [
      "Similarities for item at index 0: [1.0000001 0.        0.        ... 0.        0.        0.       ]\n",
      "Top 5 similar items: [(2280, 0.5883484), (1130, 0.5547002), (89, 0.41602516), (351, 0.40794623), (1642, 0.30769232)]\n"
     ]
    }
   ],
   "source": [
    "target_index = 0  # 첫 번째 아이템의 인덱스\n",
    "similarities = similarity_score[target_index]\n",
    "print(\"Similarities for item at index 0:\", similarities)\n",
    "\n",
    "# 상위 5개의 가장 유사한 아이템 (자기 자신 제외)\n",
    "similar_items = sorted(enumerate(similarities), key=lambda x: x[1], reverse=True)[1:6]\n",
    "print(\"Top 5 similar items:\", similar_items)"
   ]
  },
  {
   "cell_type": "code",
   "execution_count": 101,
   "metadata": {
    "colab": {
     "base_uri": "https://localhost:8080/",
     "height": 694
    },
    "id": "VCV0dD4vLlC1",
    "outputId": "019fc9dd-635a-4aaa-bf89-d18ff80b8a77"
   },
   "outputs": [
    {
     "data": {
      "image/png": "[encoded data removed]",
      "text/plain": [
       "<Figure size 1000x800 with 2 Axes>"
      ]
     },
     "metadata": {},
     "output_type": "display_data"
    }
   ],
   "source": [
    "import seaborn as sns\n",
    "import matplotlib.pyplot as plt\n",
    "\n",
    "plt.figure(figsize=(10, 8))\n",
    "sns.heatmap(similarity_score, cmap=\"viridis\", xticklabels=False, yticklabels=False)\n",
    "plt.title(\"Cosine Similarity Heatmap\")\n",
    "plt.xlabel(\"Items\")\n",
    "plt.ylabel(\"Items\")\n",
    "plt.show()"
   ]
  },
  {
   "cell_type": "code",
   "execution_count": 109,
   "metadata": {
    "colab": {
     "base_uri": "https://localhost:8080/"
    },
    "id": "4M7ZO7JaMHZ9",
    "outputId": "031c76a9-9919-48e3-eaf4-75ae1595a781"
   },
   "outputs": [
    {
     "name": "stdout",
     "output_type": "stream",
     "text": [
      "Recommendations for item B075Q21NDJ: [('B01MXZX45V', 0.5883484), ('B07TBPK7P2', 0.5547002), ('B01CJABFL6', 0.41602516), ('B000V44B4G', 0.40794623), ('B00M0DWQYI', 0.30769232)]\n"
     ]
    }
   ],
   "source": [
    "recommendations = recommend_items(0, similarity_score, pivot_pandas)\n",
    "\n",
    "target_asin = pivot_pandas.index[0]\n",
    "\n",
    "print(f\"Recommendations for item {target_asin}:\", recommendations)"
   ]
  }
 ],
 "metadata": {
  "accelerator": "GPU",
  "colab": {
   "collapsed_sections": [
    "psvfGRIXC_xq"
   ],
   "gpuType": "T4",
   "provenance": []
  },
  "kernelspec": {
   "display_name": "base",
   "language": "python",
   "name": "python3"
  },
  "language_info": {
   "codemirror_mode": {
    "name": "ipython",
    "version": 3
   },
   "file_extension": ".py",
   "mimetype": "text/x-python",
   "name": "python",
   "nbconvert_exporter": "python",
   "pygments_lexer": "ipython3",
   "version": "3.12.7"
  }
 },
 "nbformat": 4,
 "nbformat_minor": 0
}
