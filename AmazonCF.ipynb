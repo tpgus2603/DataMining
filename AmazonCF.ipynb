{
  "cells": [
    {
      "cell_type": "code",
      "execution_count": 1,
      "metadata": {
        "colab": {
          "base_uri": "https://localhost:8080/"
        },
        "id": "ay6Ao3xBAsqe",
        "outputId": "729272f5-c2b1-4929-b659-5d65adfa1925"
      },
      "outputs": [
        {
          "output_type": "stream",
          "name": "stdout",
          "text": [
            "Requirement already satisfied: pyspark in /usr/local/lib/python3.10/dist-packages (3.5.3)\n",
            "Requirement already satisfied: py4j==0.10.9.7 in /usr/local/lib/python3.10/dist-packages (from pyspark) (0.10.9.7)\n"
          ]
        }
      ],
      "source": [
        "# local에 padnas, numpy, matplotlib 설치필요\n",
        "import pandas as pd\n",
        "import numpy as np\n",
        "import matplotlib.pyplot as plt\n",
        "%matplotlib inline\n",
        "\n",
        "from pyspark.sql.types import StructField, StructType, StringType, DoubleType, FloatType, IntegerType\n",
        "from pyspark.sql.functions import col\n",
        "\n",
        "# local에 pyspark 설치필요\n",
        "!pip install pyspark\n",
        "import pyspark\n",
        "from pyspark.sql import *\n",
        "from pyspark.sql.functions import *\n",
        "from pyspark import SparkContext, SparkConf\n",
        "\n",
        "# # Spark 세션 생성\n",
        "spark = SparkSession.builder \\\n",
        "    .appName(\"RS_AmazonXTwitter\") \\\n",
        "    .getOrCreate()"
      ]
    },
    {
      "cell_type": "code",
      "source": [
        "import gdown\n",
        "\n",
        "# 파일 ID와 URL 생성\n",
        "# file_id = \"1E3eGva2ZaSTLltOhQ-SDOB4h6dVEM-4E\"\n",
        "# tweet_url = f\"https://drive.google.com/uc?id={file_id}\"\n",
        "# output_file = \"tweet.csv\"  # 저장할 파일 이름\n",
        "# gdown.download(tweet_url, output_file, quiet=False)\n",
        "\n",
        "# 파일 ID와 URL 생성\n",
        "# 공통 상품 코드만 남긴 데이터\n",
        "file_id = \"1GpYNkh6rs0EY9aMQIFvOoVJUEFaKPfMr\"\n",
        "fashion_review_url = f\"https://drive.google.com/uc?id={file_id}\"\n",
        "output_file = \"common_fashion_review.jsonl\"  # 저장할 파일 이름\n",
        "gdown.download(fashion_review_url, output_file, quiet=False)"
      ],
      "metadata": {
        "colab": {
          "base_uri": "https://localhost:8080/",
          "height": 109
        },
        "id": "3rBoRZ4sxAml",
        "outputId": "36d67b64-90e0-4f3c-e35b-315da41d5821"
      },
      "execution_count": 2,
      "outputs": [
        {
          "output_type": "stream",
          "name": "stderr",
          "text": [
            "Downloading...\n",
            "From: https://drive.google.com/uc?id=1GpYNkh6rs0EY9aMQIFvOoVJUEFaKPfMr\n",
            "To: /content/common_fashion_review.jsonl\n",
            "100%|██████████| 9.25M/9.25M [00:00<00:00, 35.5MB/s]\n"
          ]
        },
        {
          "output_type": "execute_result",
          "data": {
            "text/plain": [
              "'common_fashion_review.jsonl'"
            ],
            "application/vnd.google.colaboratory.intrinsic+json": {
              "type": "string"
            }
          },
          "metadata": {},
          "execution_count": 2
        }
      ]
    },
    {
      "cell_type": "markdown",
      "metadata": {
        "id": "psvfGRIXC_xq"
      },
      "source": [
        "# 1. Twitter data"
      ]
    },
    {
      "cell_type": "code",
      "execution_count": 3,
      "metadata": {
        "id": "nFdpqZciA5El"
      },
      "outputs": [],
      "source": [
        "# # file path\n",
        "# input_file = \"/content/tweet.csv\"\n",
        "\n",
        "# # raw data\n",
        "# tw_raw_df = spark.read.format(\"csv\").option(\"header\", \"false\").load(input_file)\n",
        "\n",
        "# # set schema\n",
        "# tw_schema = StructType([\n",
        "#     StructField(\"target\", DoubleType(), True),   # Sentiment (0/1)\n",
        "#     StructField(\"id\", DoubleType(), True),       # Tweet ID\n",
        "#     StructField(\"date\", StringType(), True),     # Date\n",
        "#     StructField(\"query\", StringType(), True),    # Query (if applicable)\n",
        "#     StructField(\"author\", StringType(), True),   # Author/User\n",
        "#     StructField(\"content\", StringType(), True),  # Tweet content\n",
        "# ])\n",
        "\n",
        "# tw_formatted_df = tw_raw_df.toDF(*[field.name for field in tw_schema.fields])\n",
        "\n",
        "# # select needed column\n",
        "# tw_formatted_df = tw_formatted_df.select(\"id\", \"author\", \"content\")\n",
        "\n",
        "# # check data\n",
        "# tw_formatted_df.printSchema()\n",
        "# tw_formatted_df.show(5)\n",
        "\n",
        "# authors = tw_formatted_df.select(\"author\").distinct()\n",
        "\n",
        "# print(\"total count : \",tw_formatted_df.count())\n",
        "# print(\"authors count : \",authors.count())"
      ]
    },
    {
      "cell_type": "markdown",
      "source": [
        "**1.0. Preprocessing**"
      ],
      "metadata": {
        "id": "3kiiVecvgs0R"
      }
    },
    {
      "cell_type": "code",
      "source": [],
      "metadata": {
        "id": "rVVOeDdDg3wd"
      },
      "execution_count": 3,
      "outputs": []
    },
    {
      "cell_type": "markdown",
      "source": [
        "**1-1. Categorized tweet by dictionary**"
      ],
      "metadata": {
        "id": "phYfzH-X0ceC"
      }
    },
    {
      "cell_type": "code",
      "source": [
        "# # from pyspark.sql.functions import col, lower, when, size, array, expr\n",
        "# from pyspark.sql.functions import explode, split, col, lower, count, desc, max\n",
        "\n",
        "# # 입력 파일 경로\n",
        "# input_file = \"/content/training.1600000.processed.noemoticon.csv\"\n",
        "\n",
        "# # 데이터 스키마 정의\n",
        "# tw_schema = StructType([\n",
        "#     StructField(\"target\", DoubleType(), True),\n",
        "#     StructField(\"id\", DoubleType(), True),\n",
        "#     StructField(\"date\", StringType(), True),\n",
        "#     StructField(\"query\", StringType(), True),\n",
        "#     StructField(\"author\", StringType(), True),\n",
        "#     StructField(\"content\", StringType(), True)\n",
        "# ])\n",
        "\n",
        "# # 데이터 로드 및 스키마 적용\n",
        "# tw_raw_df = spark.read.format(\"csv\").option(\"header\", \"false\").load(input_file)\n",
        "# tw_formatted_df = tw_raw_df.toDF(*[field.name for field in tw_schema.fields])\n",
        "\n",
        "# # 데이터 샘플링\n",
        "# categorized_df = tw_formatted_df.select(\"content\").sample(fraction=0.01, seed=42)\n",
        "\n",
        "# # 카테고리 키워드 딕셔너리 정의\n",
        "# category_keywords = {\n",
        "#     \"jewelry\": [\"ring\", \"necklace\", \"bracelet\", \"earrings\", \"pendant\", \"brooch\", \"chain\", \"charm\", \"gold\", \"silver\"],\n",
        "#     \"watch\": [\"watch\", \"timepiece\", \"chronograph\", \"quartz\", \"analog\", \"digital\", \"wristwatch\", \"strap\", \"dial\", \"bezel\"],\n",
        "#     \"drugstore\": [\"pharmacy\", \"medicine\", \"drugs\", \"prescription\", \"pill\", \"vitamin\", \"tablet\", \"pharmacist\", \"aspirin\", \"capsule\"],\n",
        "#     \"pet_products\": [\"pet\", \"dog\", \"cat\", \"fish\", \"bird\", \"hamster\", \"leash\", \"kennel\", \"collar\", \"aquarium\"],\n",
        "#     \"automotive\": [\"car\", \"vehicle\", \"engine\", \"automobile\", \"tire\", \"wheel\", \"battery\", \"transmission\", \"brake\", \"sedan\"],\n",
        "#     \"shoes\": [\"shoe\", \"sneakers\", \"boots\", \"heels\", \"sandals\", \"loafers\", \"oxfords\", \"slippers\", \"cleats\", \"flats\"],\n",
        "#     \"beauty\": [\"beauty\", \"makeup\", \"cosmetics\", \"lipstick\", \"skincare\", \"mascara\", \"foundation\", \"blush\", \"palette\", \"concealer\"],\n",
        "#     \"office_product\": [\"office\", \"stationery\", \"desk\", \"printer\", \"paper\", \"pen\", \"notebook\", \"folder\", \"calculator\", \"stapler\"],\n",
        "#     \"digital_ebook_purchase\": [\"ebook\", \"kindle\", \"digital book\", \"pdf\", \"epub\", \"audiobook\", \"download\", \"reader\", \"publication\", \"novel\"],\n",
        "#     \"lawn_and_garden\": [\"garden\", \"lawn\", \"yard\", \"mower\", \"fertilizer\", \"plant\", \"seeds\", \"shovel\", \"hedge\", \"sprinkler\"],\n",
        "#     \"kitchen\": [\"kitchen\", \"cookware\", \"appliance\", \"utensils\", \"cutlery\", \"oven\", \"stove\", \"pan\", \"mixer\", \"microwave\"],\n",
        "#     \"apparel\": [\"clothing\", \"apparel\", \"dress\", \"shirt\", \"jacket\", \"jeans\", \"skirt\", \"sweater\", \"suit\", \"blouse\"],\n",
        "#     \"industrial_supplies\": [\"industrial\", \"tools\", \"hardware\", \"equipment\", \"machinery\", \"fastener\", \"drill\", \"screwdriver\", \"wrench\", \"saw\"],\n",
        "#     \"wireless\": [\"wireless\", \"network\", \"wifi\", \"router\", \"modem\", \"signal\", \"antenna\", \"hotspot\", \"connectivity\", \"bluetooth\"],\n",
        "#     \"digital_video_download\": [\"video\", \"movie\", \"streaming\", \"download\", \"hd\", \"4k\", \"bluray\", \"rental\", \"cinema\", \"series\"],\n",
        "#     \"grocery\": [\"food\", \"grocery\", \"snacks\", \"vegetables\", \"fruits\", \"bread\", \"milk\", \"meat\", \"cereal\", \"beverage\"],\n",
        "#     \"personal_care_appliances\": [\"care\", \"appliance\", \"shaver\", \"toothbrush\", \"trimmer\", \"hairdryer\", \"curler\", \"straightener\", \"massager\", \"razor\"],\n",
        "#     \"furniture\": [\"furniture\", \"sofa\", \"table\", \"chair\", \"bed\", \"dresser\", \"cabinet\", \"shelf\", \"couch\", \"armchair\"],\n",
        "#     \"baby_product\": [\"baby\", \"infant\", \"crib\", \"diaper\", \"stroller\", \"bottle\", \"pacifier\", \"highchair\", \"blanket\", \"bib\"],\n",
        "#     \"electronics\": [\"electronics\", \"device\", \"gadget\", \"charger\", \"headphones\", \"camera\", \"tablet\", \"speaker\", \"remote\", \"monitor\"],\n",
        "#     \"sports\": [\"sports\", \"equipment\", \"fitness\", \"workout\", \"gear\", \"tennis\", \"soccer\", \"basketball\", \"yoga\", \"cycling\"],\n",
        "#     \"home\": [\"home\", \"house\", \"living\", \"decor\", \"curtains\", \"lighting\", \"rug\", \"pillow\", \"mirror\", \"wall art\"],\n",
        "#     \"pc\": [\"pc\", \"laptop\", \"computer\", \"keyboard\", \"mouse\", \"monitor\", \"cpu\", \"notebook\", \"desktop\", \"hardware\"],\n",
        "#     \"luggage\": [\"luggage\", \"bag\", \"suitcase\", \"backpack\", \"duffle\", \"trolley\", \"pouch\", \"wallet\", \"briefcase\", \"travel\"],\n",
        "#     \"home_improvement\": [\"improvement\", \"renovation\", \"diy\", \"paint\", \"tiles\", \"fixtures\", \"drill\", \"ladder\", \"flooring\", \"cement\"],\n",
        "#     \"toy\": [\"toy\", \"game\", \"doll\", \"lego\", \"puzzle\", \"blocks\", \"teddy\", \"action figure\", \"boardgame\", \"train\"],\n",
        "#     \"camera\": [\"camera\", \"dslr\", \"photo\", \"lens\", \"tripod\", \"shutter\", \"focus\", \"mirrorless\", \"film\", \"flash\"],\n",
        "#     \"book\": [\"book\", \"novel\", \"read\", \"fiction\", \"non-fiction\", \"magazine\", \"literature\", \"paperback\", \"hardcover\", \"author\"],\n",
        "#     \"video_games\": [\"game\", \"console\", \"xbox\", \"playstation\", \"nintendo\", \"pc gaming\", \"joystick\", \"controller\", \"esports\", \"arcade\"],\n",
        "#     \"musical_instruments\": [\"instrument\", \"guitar\", \"piano\", \"violin\", \"drums\", \"flute\", \"keyboard\", \"trumpet\", \"saxophone\", \"harp\"]\n",
        "# }\n",
        "\n",
        "\n",
        "# # 카테고리 키워드 데이터프레임 생성\n",
        "# categories = [(category, keyword) for category, keywords in category_keywords.items() for keyword in keywords]\n",
        "# category_df = spark.createDataFrame(categories, [\"category\", \"keyword\"])\n",
        "\n",
        "# # 트윗 내용을 단어로 분리\n",
        "# words_df = categorized_df.withColumn(\"word\", explode(split(lower(col(\"content\")), \"\\\\W+\")))\n",
        "\n",
        "# # 키워드와 트윗 단어 매칭\n",
        "# matched_df = words_df.join(\n",
        "#     category_df,\n",
        "#     words_df.word == category_df.keyword,\n",
        "#     \"inner\"\n",
        "# ).groupBy(\"content\", \"category\").agg(count(\"keyword\").alias(\"match_count\"))\n",
        "\n",
        "# categorized_df_with_alias = categorized_df.alias(\"categorized\")\n",
        "# matched_df_with_alias = matched_df.alias(\"matched\")\n",
        "\n",
        "# all_matched_df = categorized_df_with_alias.join(\n",
        "#     matched_df_with_alias,\n",
        "#     col(\"categorized.content\") == col(\"matched.content\"),\n",
        "#     \"left_outer\"\n",
        "# ).select(\n",
        "#     col(\"categorized.content\").alias(\"content\"),  # categorized_df의 content 열 선택\n",
        "#     coalesce(col(\"matched.category\"), lit(\"others\")).alias(\"category\"),  # 매칭되지 않은 경우 'others'로 설정\n",
        "#     coalesce(col(\"matched.match_count\"), lit(0)).alias(\"match_count\")   # 매칭되지 않은 경우 0으로 설정\n",
        "# )\n",
        "\n",
        "# # 최종 데이터 출력\n",
        "# all_matched_df.show(truncate=False)"
      ],
      "metadata": {
        "id": "PY8x2_icmGoJ"
      },
      "execution_count": 4,
      "outputs": []
    },
    {
      "cell_type": "code",
      "source": [
        "# # 1. 카테고리별 개수 집계\n",
        "# category_counts = all_matched_df.groupBy(\"category\").count()\n",
        "\n",
        "# # 2. 전체 데이터 개수 계산\n",
        "# total_count = all_matched_df.count()\n",
        "\n",
        "# # 3. 비율 계산 (새로운 컬럼 추가)\n",
        "# category_ratios = category_counts.withColumn(\n",
        "#     \"ratio\", (col(\"count\") / total_count) * 100\n",
        "# )\n",
        "\n",
        "# # 4. Spark DataFrame을 Pandas DataFrame으로 변환\n",
        "# category_ratios_pd = category_ratios.toPandas()\n",
        "\n",
        "# # 5. 시각화: 눈금 조정\n",
        "# plt.figure(figsize=(10, 6))\n",
        "# plt.bar(category_ratios_pd['category'], category_ratios_pd['ratio'], alpha=0.7)\n",
        "# plt.title('Category Ratio Distribution', fontsize=16)\n",
        "# plt.xlabel('Category', fontsize=14)\n",
        "# plt.ylabel('Ratio (%)', fontsize=14)\n",
        "\n",
        "# # Y축 눈금과 범위 설정 (예: 최대값을 50%로 제한)\n",
        "# plt.ylim(0, 50)  # Y축 범위를 0~50으로 설정\n",
        "# plt.yticks(range(0, 51, 10))  # 0부터 50까지 10 단위 눈금\n",
        "\n",
        "# # X축 라벨 설정\n",
        "# plt.xticks(rotation=45)\n",
        "# plt.grid(axis='y', linestyle='--', alpha=0.7)\n",
        "# plt.tight_layout()\n",
        "\n",
        "# # 6. 그래프 출력\n",
        "# plt.show()"
      ],
      "metadata": {
        "id": "7KOe5xPe1D_c"
      },
      "execution_count": 5,
      "outputs": []
    },
    {
      "cell_type": "code",
      "source": [
        "# specific_category = \"automotive\"\n",
        "# filtered_tweets = all_matched_df.filter(col(\"category\") == specific_category)\n",
        "# filtered_tweets.show(truncate=False)"
      ],
      "metadata": {
        "id": "_4riBXpc3dW5"
      },
      "execution_count": 6,
      "outputs": []
    },
    {
      "cell_type": "markdown",
      "source": [
        "**1-2. Categorized tweet by TF-IDF**"
      ],
      "metadata": {
        "id": "GagZ6optgYHX"
      }
    },
    {
      "cell_type": "markdown",
      "source": [
        "# 2. Amazon Data"
      ],
      "metadata": {
        "id": "1NPRwxMPT1pL"
      }
    },
    {
      "cell_type": "markdown",
      "source": [
        "**2-1. Used Data**\n",
        "\n",
        "*   https://amazon-reviews-2023.github.io/\n",
        "\n",
        "\n",
        "\n",
        "\n"
      ],
      "metadata": {
        "id": "Y03QwxMbd5kJ"
      }
    },
    {
      "cell_type": "markdown",
      "source": [
        "# Fashion Review 데이터"
      ],
      "metadata": {
        "id": "kvy3_wnPrM8m"
      }
    },
    {
      "cell_type": "markdown",
      "source": [
        "# Colaborative Filtering\n"
      ],
      "metadata": {
        "id": "rxL23MklwUhY"
      }
    },
    {
      "cell_type": "code",
      "source": [
        "def recommend_collab(product_asin):\n",
        "    # 상품 이름과 인덱스 매핑\n",
        "    if product_asin not in pivot_pandas.index:\n",
        "        print(f\"Product '{product_asin}' not found in pivot table!\")\n",
        "        return\n",
        "\n",
        "    # 특정 상품의 인덱스 찾기\n",
        "    index = np.where(pivot_pandas.index == product_asin)[0][0]\n",
        "\n",
        "    # 해당 상품의 유사도 가져오기\n",
        "    similar_items = sorted(\n",
        "        list(enumerate(similarity_score[index])),\n",
        "        key=lambda x: x[1],\n",
        "        reverse=True\n",
        "    )[1:4]  # 상위 3개의 유사 상품 선택 (자기 자신 제외)\n",
        "\n",
        "    # 유사 상품 이름 출력\n",
        "    print(f\"Recommendations for '{product_asin}':\")\n",
        "    for i in similar_items:\n",
        "        similar_product = pivot_pandas.index[i[0]]\n",
        "        similarity = i[1]\n",
        "        print(f\"Product: {similar_product}, Similarity: {similarity:.4f}\")"
      ],
      "metadata": {
        "id": "WHLCnDzZWcHo"
      },
      "execution_count": 7,
      "outputs": []
    },
    {
      "cell_type": "code",
      "source": [
        "common_fashion_review_path = \"/content/common_fashion_review.jsonl\"\n",
        "\n",
        "common_fashion_review_df = spark.read.json(common_fashion_review_path)\n",
        "common_fashion_review_df.printSchema()\n",
        "\n",
        "common_filtered_review_df = common_fashion_review_df.select(\"asin\",\"rating\",\"user_id\")\n",
        "\n",
        "common_filtered_review_df = common_filtered_review_df \\\n",
        "    .withColumn(\"rating\", col(\"rating\").cast(FloatType()))\\\n",
        "\n",
        "review_schema = StructType([\n",
        "    StructField(\"_asin\", StringType(), False),\n",
        "    StructField(\"rating\", FloatType(), False),\n",
        "    StructField(\"user_id\", StringType(), False),\n",
        "])\n",
        "\n",
        "formatted_common_fashion_review_df = spark.createDataFrame(common_filtered_review_df.rdd, schema=review_schema)\n",
        "\n",
        "formatted_common_fashion_review_df.printSchema()\n",
        "\n",
        "# '_asin' 컬럼에서 고유한 값만 추출\n",
        "unique_asins_df = formatted_common_fashion_review_df.select(\"_asin\").distinct()\n",
        "\n",
        "# 결과 확인\n",
        "unique_asins_df.show()"
      ],
      "metadata": {
        "colab": {
          "base_uri": "https://localhost:8080/"
        },
        "id": "fyhGAnbHyY62",
        "outputId": "db0e9f0c-d3c9-4ae4-de6f-7ff362f2351b"
      },
      "execution_count": 8,
      "outputs": [
        {
          "output_type": "stream",
          "name": "stdout",
          "text": [
            "root\n",
            " |-- asin: string (nullable = true)\n",
            " |-- helpful_vote: long (nullable = true)\n",
            " |-- images: array (nullable = true)\n",
            " |    |-- element: struct (containsNull = true)\n",
            " |    |    |-- attachment_type: string (nullable = true)\n",
            " |    |    |-- large_image_url: string (nullable = true)\n",
            " |    |    |-- medium_image_url: string (nullable = true)\n",
            " |    |    |-- small_image_url: string (nullable = true)\n",
            " |-- parent_asin: string (nullable = true)\n",
            " |-- rating: double (nullable = true)\n",
            " |-- text: string (nullable = true)\n",
            " |-- timestamp: long (nullable = true)\n",
            " |-- title: string (nullable = true)\n",
            " |-- user_id: string (nullable = true)\n",
            " |-- verified_purchase: boolean (nullable = true)\n",
            "\n",
            "root\n",
            " |-- _asin: string (nullable = false)\n",
            " |-- rating: float (nullable = false)\n",
            " |-- user_id: string (nullable = false)\n",
            "\n",
            "+----------+\n",
            "|     _asin|\n",
            "+----------+\n",
            "|B07CZT1ZHH|\n",
            "|B084BSDBLG|\n",
            "|B0882PV16R|\n",
            "|B0B96SNMPL|\n",
            "|B0BBT6W6CW|\n",
            "|B017C52C7Y|\n",
            "|B08KSDRN9Q|\n",
            "|B09XFXF3JS|\n",
            "|B07BQ7XFCW|\n",
            "|B07XSNCFYF|\n",
            "|B09F9N2ZYT|\n",
            "|B00J1POO8E|\n",
            "|B074XBTLWP|\n",
            "|B07996YZPD|\n",
            "|B07G5JXYX3|\n",
            "|B07Q3SBH7L|\n",
            "|B087JJFD3H|\n",
            "|B089768BMW|\n",
            "|B097GLQPGL|\n",
            "|B00ES8KVT0|\n",
            "+----------+\n",
            "only showing top 20 rows\n",
            "\n"
          ]
        }
      ]
    },
    {
      "cell_type": "code",
      "source": [
        "from pyspark.sql.functions import col, count\n",
        "\n",
        "# Step 1: _asin과 user_id 조합의 중복 제거\n",
        "distinct_review_df = formatted_common_fashion_review_df.dropDuplicates([\"user_id\", \"_asin\"])\n",
        "\n",
        "# Step 2: user_id 빈도 계산\n",
        "user_id_count_df = distinct_review_df \\\n",
        "    .groupBy(\"user_id\") \\\n",
        "    .agg(count(\"user_id\").alias(\"user_id_count\"))\n",
        "\n",
        "# Step 3: 중복 제거된 데이터와 user_id_count 병합\n",
        "sorted_review_df = distinct_review_df \\\n",
        "    .join(user_id_count_df, on=\"user_id\") \\\n",
        "    .orderBy(col(\"user_id_count\").desc(), col(\"user_id\").asc()) # user_id_count 내림차순, user_id 오름차순\n",
        "\n",
        "# Step 4: 정렬된 데이터에서 user_id_count 제거 (필요하면)\n",
        "sorted_review_df = sorted_review_df.drop(\"user_id_count\")\n",
        "\n",
        "# 결과 확인\n",
        "sorted_review_df.show()\n"
      ],
      "metadata": {
        "colab": {
          "base_uri": "https://localhost:8080/"
        },
        "id": "Y4zAQdgFT0mO",
        "outputId": "4104f2aa-7be7-4161-c3c8-d4dad5065342"
      },
      "execution_count": 9,
      "outputs": [
        {
          "output_type": "stream",
          "name": "stdout",
          "text": [
            "+--------------------+----------+------+\n",
            "|             user_id|     _asin|rating|\n",
            "+--------------------+----------+------+\n",
            "|AE7ZJ5A3CAMZJ6JF6...|B07WGQKNHP|   2.0|\n",
            "|AE7ZJ5A3CAMZJ6JF6...|B01431E52K|   5.0|\n",
            "|AECHES7YQXQUNNGWI...|B09YCTKJF6|   5.0|\n",
            "|AECHES7YQXQUNNGWI...|B0BF4LVF5X|   5.0|\n",
            "|AEDP2SF5CUL3OHKPZ...|B098D3TSYP|   5.0|\n",
            "|AEDP2SF5CUL3OHKPZ...|B000GAWSDG|   5.0|\n",
            "|AEJNYNLJ2YMIBGNA7...|B087WBBS85|   5.0|\n",
            "|AEJNYNLJ2YMIBGNA7...|B000GAWSDG|   5.0|\n",
            "|AEKZZYS4QRSMASWKF...|B00AC6V0VA|   5.0|\n",
            "|AEKZZYS4QRSMASWKF...|B00ES8KVT0|   5.0|\n",
            "|AERHEGTGLSDB4KRKN...|B08KSDRN9Q|   2.0|\n",
            "|AERHEGTGLSDB4KRKN...|B07P7M18C6|   2.0|\n",
            "|AEVNVUMNKROOD4PUT...|B09V3B6NH6|   3.0|\n",
            "|AEVNVUMNKROOD4PUT...|B000GAWSDG|   5.0|\n",
            "|AF4SOQYKKASVPYCS3...|B07JLXK3B8|   5.0|\n",
            "|AF4SOQYKKASVPYCS3...|B000GAWSDG|   5.0|\n",
            "|AF645HKHKCO626U3M...|B07LBM5LCF|   4.0|\n",
            "|AF645HKHKCO626U3M...|B000GAWSDG|   5.0|\n",
            "|AF7UKMPI2AQPW3XPW...|B095H5BZ65|   2.0|\n",
            "|AF7UKMPI2AQPW3XPW...|B00J4JKPBC|   5.0|\n",
            "+--------------------+----------+------+\n",
            "only showing top 20 rows\n",
            "\n"
          ]
        }
      ]
    },
    {
      "cell_type": "code",
      "source": [
        "sampled_df = sorted_review_df.limit(10000)\n",
        "pivot_df = sampled_df.groupBy(\"_asin\").pivot(\"user_id\").agg({\"rating\": \"first\"})\n",
        "pivot_df = pivot_df.fillna(0)\n",
        "# 결과 출력\n",
        "\n",
        "from sklearn.metrics.pairwise import cosine_similarity\n",
        "\n",
        "# PySpark DataFrame -> Pandas DataFrame 변환\n",
        "pivot_pandas = pivot_df.toPandas()\n",
        "\n",
        "# 'asin' 컬럼 제거 (필요한 경우)\n",
        "pivot_pandas = pivot_pandas.set_index(\"_asin\")\n",
        "\n",
        "# Null 값을 0으로 대체 (cosine_similarity는 NaN 값을 허용하지 않음)\n",
        "pivot_pandas = pivot_pandas.fillna(0)\n",
        "\n",
        "# Pandas DataFrame -> NumPy 배열 변환\n",
        "pivot_numpy = pivot_pandas.values\n",
        "\n",
        "# 코사인 유사도 계산\n",
        "similarity_score = cosine_similarity(pivot_numpy)\n",
        "\n",
        "# 결과 출력\n",
        "# print(similarity_score)"
      ],
      "metadata": {
        "id": "w9kA6Xfv2CBm"
      },
      "execution_count": 11,
      "outputs": []
    },
    {
      "cell_type": "code",
      "source": [
        "print(similarity_score)"
      ],
      "metadata": {
        "colab": {
          "base_uri": "https://localhost:8080/"
        },
        "id": "mr-i0YNLSmo0",
        "outputId": "ee8b6fa2-768f-4084-bade-f50aedf52b0b"
      },
      "execution_count": 12,
      "outputs": [
        {
          "output_type": "stream",
          "name": "stdout",
          "text": [
            "[[0.99999994 0.01000039 0.         ... 0.         0.         0.        ]\n",
            " [0.01000039 1.         0.         ... 0.         0.         0.        ]\n",
            " [0.         0.         1.0000001  ... 0.         0.         0.        ]\n",
            " ...\n",
            " [0.         0.         0.         ... 1.         0.         0.        ]\n",
            " [0.         0.         0.         ... 0.         1.         0.        ]\n",
            " [0.         0.         0.         ... 0.         0.         1.        ]]\n"
          ]
        }
      ]
    },
    {
      "cell_type": "code",
      "source": [
        "recommend_collab(\"B000GAWSDG\")"
      ],
      "metadata": {
        "colab": {
          "base_uri": "https://localhost:8080/"
        },
        "id": "NDU_JWYBRcPm",
        "outputId": "e78f2d75-d1bd-4c96-fb77-0223237c0c9e"
      },
      "execution_count": 15,
      "outputs": [
        {
          "output_type": "stream",
          "name": "stdout",
          "text": [
            "Recommendations for 'B000GAWSDG':\n",
            "Product: B07JLXK3B8, Similarity: 0.0217\n",
            "Product: B098D3TSYP, Similarity: 0.0060\n",
            "Product: B07G5JXYX3, Similarity: 0.0057\n"
          ]
        }
      ]
    }
  ],
  "metadata": {
    "colab": {
      "provenance": [],
      "collapsed_sections": [
        "psvfGRIXC_xq"
      ],
      "gpuType": "T4"
    },
    "kernelspec": {
      "display_name": "Python 3",
      "name": "python3"
    },
    "language_info": {
      "name": "python"
    },
    "accelerator": "GPU"
  },
  "nbformat": 4,
  "nbformat_minor": 0
}