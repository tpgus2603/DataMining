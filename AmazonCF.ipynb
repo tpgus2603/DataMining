{
 "cells": [
  {
   "cell_type": "code",
   "execution_count": 49,
   "metadata": {
    "colab": {
     "base_uri": "https://localhost:8080/"
    },
    "id": "ay6Ao3xBAsqe",
    "outputId": "12ad1be6-7e69-4d6f-e0c9-0bb493d1116e"
   },
   "outputs": [],
   "source": [
    "# local에 padnas, numpy, matplotlib, surprise, sklearn 설치필요\n",
    "import os\n",
    "import pandas as pd\n",
    "import numpy as np\n",
    "import matplotlib.pyplot as plt\n",
    "%matplotlib inline\n",
    "\n",
    "from sklearn.metrics.pairwise import cosine_similarity\n",
    "from sklearn.metrics import mean_squared_error\n",
    "from math import sqrt\n",
    "from sklearn.model_selection import train_test_split\n",
    "from sklearn.model_selection import KFold\n",
    "\n",
    "import seaborn as sns"
   ]
  },
  {
   "cell_type": "markdown",
   "metadata": {
    "id": "1NPRwxMPT1pL"
   },
   "source": [
    "# 1. Amazon Data"
   ]
  },
  {
   "cell_type": "markdown",
   "metadata": {
    "id": "Y03QwxMbd5kJ"
   },
   "source": [
    "**1-1. Used Data**\n",
    "\n",
    "*   https://amazon-reviews-2023.github.io/\n",
    "\n",
    "\n",
    "\n",
    "\n"
   ]
  },
  {
   "cell_type": "code",
   "execution_count": 50,
   "metadata": {},
   "outputs": [],
   "source": [
    "categories = [\n",
    "    \"Electronics\",\n",
    "    \"Movies_TV\",\n",
    "    \"Sports_Outdoors\",\n",
    "    \"Video_Games\",\n",
    "    \"Software\",\n",
    "    \"Fashion\",\n",
    "    \"Grocery_Gourmet_Food\",\n",
    "    \"Car\",\n",
    "    \"Beauty\",\n",
    "    \"Music\"\n",
    "    ]"
   ]
  },
  {
   "cell_type": "markdown",
   "metadata": {
    "id": "rxL23MklwUhY"
   },
   "source": [
    "# Colaborative Filtering"
   ]
  },
  {
   "cell_type": "markdown",
   "metadata": {},
   "source": [
    "전체 상품에 대한 CF"
   ]
  },
  {
   "cell_type": "code",
   "execution_count": 51,
   "metadata": {
    "id": "fyhGAnbHyY62"
   },
   "outputs": [],
   "source": [
    "def preprocess_review(review_path, min_user_cnt, min_review_cnt):\n",
    "    try:\n",
    "        review_df = pd.read_json(review_path, lines=True)\n",
    "        filtered_review_df = review_df[[\"parent_asin\", \"rating\", \"user_id\", \"title\", \"category\", \"product_title\"]]\n",
    "        # filtered_review_df = filtered_review_df[filtered_review_df[\"category\"] == category]\n",
    "        distinct_review_df = filtered_review_df.drop_duplicates(subset=[\"user_id\", \"parent_asin\"])\n",
    "        \n",
    "        review_counts = distinct_review_df[\"parent_asin\"].value_counts()\n",
    "        user_counts = distinct_review_df['user_id'].value_counts()\n",
    "        \n",
    "        result_df = distinct_review_df[(\n",
    "            (distinct_review_df['user_id'].isin(user_counts[user_counts >= min_user_cnt].index)) &\n",
    "            (distinct_review_df['parent_asin'].isin(review_counts[review_counts >= min_review_cnt].index))\n",
    "        )]\n",
    "        \n",
    "        # # 리뷰 개수가 많은 순으로 정렬\n",
    "        # sorted_parent_asin = result_df[\"parent_asin\"].value_counts().index\n",
    "        # result_df = result_df.set_index(\"parent_asin\").loc[sorted_parent_asin].reset_index()\n",
    "        \n",
    "        return result_df\n",
    "    \n",
    "    except Exception as e:\n",
    "        print(f\"An error occurred: {e}\")\n",
    "        return None\n"
   ]
  },
  {
   "cell_type": "code",
   "execution_count": 52,
   "metadata": {},
   "outputs": [],
   "source": [
    "from sklearn.metrics.pairwise import cosine_similarity\n",
    "from sklearn.metrics import mean_squared_error\n",
    "from math import sqrt\n",
    "import numpy as np\n",
    "import pandas as pd\n",
    "from sklearn.model_selection import train_test_split\n",
    "\n",
    "def knn_predict(item_sim_df, train_matrix, k=5):\n",
    "    item_ids = train_matrix.index\n",
    "    user_ids = train_matrix.columns\n",
    "    predictions = np.zeros(train_matrix.shape)\n",
    "    \n",
    "    for item_idx, item in enumerate(item_ids):\n",
    "        for user_idx, user in enumerate(user_ids):\n",
    "            user_ratings = train_matrix.iloc[:, user_idx].values  # 해당 사용자의 모든 평점\n",
    "            relevant_items = item_sim_df.iloc[item_idx].values  # 현재 아이템과 다른 아이템 간 유사도\n",
    "            \n",
    "            # K개의 가장 유사한 이웃 선택\n",
    "            neighbors_idx = np.argsort(relevant_items)[-k:]\n",
    "            neighbors_sim = relevant_items[neighbors_idx]\n",
    "            neighbors_ratings = user_ratings[neighbors_idx]\n",
    "            \n",
    "            # 가중합 계산\n",
    "            weighted_sum = np.dot(neighbors_sim, neighbors_ratings)\n",
    "            sim_sum = np.abs(neighbors_sim).sum()\n",
    "            \n",
    "            if sim_sum > 0:\n",
    "                predictions[item_idx, user_idx] = weighted_sum / sim_sum\n",
    "            else:\n",
    "                # 유사도가 없는 경우 행 평균값으로 대체\n",
    "                row_mean = train_matrix.iloc[item_idx, :].mean()\n",
    "                predictions[item_idx, user_idx] = row_mean\n",
    "    \n",
    "    return predictions\n",
    "\n",
    "def knn_based_cf(df, org_df, k=5):\n",
    "    # 사용자-아이템 행렬 생성\n",
    "    item_user_matrix = df.pivot(index='parent_asin', columns='user_id', values='rating').fillna(0)\n",
    "    item_ids = item_user_matrix.index\n",
    "    user_ids = item_user_matrix.columns\n",
    "    \n",
    "    if df.empty:\n",
    "        return \"Empty\",\"Empty\"\n",
    "    \n",
    "    # 훈련-테스트 데이터 분할\n",
    "    trainset, testset = train_test_split(df, test_size=0.2, random_state=42)\n",
    "    \n",
    "    # 훈련 데이터로 사용자-아이템 행렬 생성\n",
    "    train_matrix = trainset.pivot(index='parent_asin', columns='user_id', values='rating').reindex(index=item_ids, columns=user_ids).fillna(0)\n",
    "    test_matrix = testset.pivot(index='parent_asin', columns='user_id', values='rating').reindex(index=item_ids, columns=user_ids).fillna(0)\n",
    "    \n",
    "    # 아이템 기반 코사인 유사도 계산\n",
    "    item_sim_matrix = cosine_similarity(train_matrix)\n",
    "    np.fill_diagonal(item_sim_matrix, 0)  # 자신과의 유사도는 0으로 설정\n",
    "    item_sim_df = pd.DataFrame(item_sim_matrix, index=item_ids, columns=item_ids)\n",
    "    \n",
    "    # 예측값 생성\n",
    "    predictions = knn_predict(item_sim_df, train_matrix, k)\n",
    "    \n",
    "    # 테스트 세트에서 RMSE 계산\n",
    "    test_actual = test_matrix.values[test_matrix > 0]\n",
    "    test_predicted = predictions[test_matrix > 0]\n",
    "    rmse = sqrt(mean_squared_error(test_actual, test_predicted))\n",
    "    \n",
    "    # 커버리지 계산\n",
    "    total_len = len(org_df['parent_asin'].unique())\n",
    "    non_zero_predictions = np.sum(predictions > 0)\n",
    "    coverage_value = non_zero_predictions / total_len\n",
    "    return rmse, coverage_value"
   ]
  },
  {
   "cell_type": "markdown",
   "metadata": {},
   "source": [
    "# Preprocessing"
   ]
  },
  {
   "cell_type": "markdown",
   "metadata": {},
   "source": [
    "데이터를 전처리 할 때 파라미터로 상품별 최소 리뷰 개수와 사용자별 최소 작성 리뷰 개수를 전달해 데이터를 필터링하였다. 이는 2가지 이유가 있는데, 첫번째는 데이터의 희소성을 줄여 성능 향상을 도모하기 위해서이고, 두번째는 연산 속도를 높이기 위함이었다. 설정한 값은 각각 8로 하였다."
   ]
  },
  {
   "cell_type": "code",
   "execution_count": 53,
   "metadata": {},
   "outputs": [],
   "source": [
    "# 실행\n",
    "review_path = os.path.abspath(\"./Data/Amazon/Review/combined_data2.json\")\n",
    "review_df = pd.read_json(review_path, lines=True)\n",
    "raw_df = review_df[[\"parent_asin\", \"rating\", \"user_id\", \"title\", \"category\", \"product_title\"]]\n",
    "raw_df = raw_df.drop_duplicates(subset=[\"user_id\", \"parent_asin\"])\n",
    "review_df = preprocess_review(review_path,8,8)"
   ]
  },
  {
   "cell_type": "markdown",
   "metadata": {},
   "source": [
    "아이템-사용자 행렬에서 아이템 끼리의 코사인 유사도를 구한 후 K개의 근접한 이웃을 뽑아 평점 예측을 하였다. 성능 지표로는 정확성을 위한 테스트 셋과 예측으로 만들어진 행렬간의 RMSE와 다양성을 위한 전체 상품 수 중 몇 가지를 추천하는지 그 비율을 나타내는 Coverage 2가지를 채택하였다."
   ]
  },
  {
   "cell_type": "markdown",
   "metadata": {},
   "source": [
    "하지만 처음 시도한 결과는 좋지 않았다. RMSE가 4.144와 Coverage가 33% 라는 만족스럽지 못한 수치가 나왔다. 이는 샘플로 입력된 데이터가 편향된 것으로 간주하여 이를 조사하였다."
   ]
  },
  {
   "cell_type": "code",
   "execution_count": 54,
   "metadata": {},
   "outputs": [
    {
     "name": "stdout",
     "output_type": "stream",
     "text": [
      "KNN based\n",
      "RMSE: 4.144\n",
      "Coverage: 33.59%\n"
     ]
    }
   ],
   "source": [
    "# 아이템 기반 CF 실행\n",
    "rmse,coverage_value = knn_based_cf(review_df,raw_df)\n",
    "print(\"KNN based\")\n",
    "print(f\"RMSE: {rmse:.3f}\")\n",
    "print(f\"Coverage: {coverage_value:.2%}\")"
   ]
  },
  {
   "cell_type": "markdown",
   "metadata": {},
   "source": [
    " 작성한 리뷰가 많은 사용자 N명 또는 리뷰가 많았던 상품 N개를 골라 데이터를 조정하여 테스트해보았다. N을 20~50 범위에서 Gridsearch를 이용하여 가장 좋은 성능일 때의 파라미터를 찾았다. 그 결과, 인기 사용자는 25명, 인기 상품은 45개 일때 각각 RMSE가 3.647, 3.743이 나왔다. 하지만 N의 값이 커질수록 coverage는 감소하며 상품 추천의 다양성은 줄어들었다."
   ]
  },
  {
   "cell_type": "code",
   "execution_count": 55,
   "metadata": {},
   "outputs": [
    {
     "name": "stderr",
     "output_type": "stream",
     "text": [
      "C:\\Users\\pudin\\AppData\\Local\\Temp\\ipykernel_3808\\1638074630.py:17: DeprecationWarning: DataFrameGroupBy.apply operated on the grouping columns. This behavior is deprecated, and in a future version of pandas the grouping columns will be excluded from the operation. Either pass `include_groups=False` to exclude the groupings or explicitly select the grouping columns after groupby to silence this warning.\n",
      "  .apply(lambda group: group.head(y))\n",
      "C:\\Users\\pudin\\AppData\\Local\\Temp\\ipykernel_3808\\1638074630.py:17: DeprecationWarning: DataFrameGroupBy.apply operated on the grouping columns. This behavior is deprecated, and in a future version of pandas the grouping columns will be excluded from the operation. Either pass `include_groups=False` to exclude the groupings or explicitly select the grouping columns after groupby to silence this warning.\n",
      "  .apply(lambda group: group.head(y))\n",
      "C:\\Users\\pudin\\AppData\\Local\\Temp\\ipykernel_3808\\1638074630.py:17: DeprecationWarning: DataFrameGroupBy.apply operated on the grouping columns. This behavior is deprecated, and in a future version of pandas the grouping columns will be excluded from the operation. Either pass `include_groups=False` to exclude the groupings or explicitly select the grouping columns after groupby to silence this warning.\n",
      "  .apply(lambda group: group.head(y))\n",
      "C:\\Users\\pudin\\AppData\\Local\\Temp\\ipykernel_3808\\1638074630.py:17: DeprecationWarning: DataFrameGroupBy.apply operated on the grouping columns. This behavior is deprecated, and in a future version of pandas the grouping columns will be excluded from the operation. Either pass `include_groups=False` to exclude the groupings or explicitly select the grouping columns after groupby to silence this warning.\n",
      "  .apply(lambda group: group.head(y))\n",
      "C:\\Users\\pudin\\AppData\\Local\\Temp\\ipykernel_3808\\1638074630.py:17: DeprecationWarning: DataFrameGroupBy.apply operated on the grouping columns. This behavior is deprecated, and in a future version of pandas the grouping columns will be excluded from the operation. Either pass `include_groups=False` to exclude the groupings or explicitly select the grouping columns after groupby to silence this warning.\n",
      "  .apply(lambda group: group.head(y))\n",
      "C:\\Users\\pudin\\AppData\\Local\\Temp\\ipykernel_3808\\1638074630.py:17: DeprecationWarning: DataFrameGroupBy.apply operated on the grouping columns. This behavior is deprecated, and in a future version of pandas the grouping columns will be excluded from the operation. Either pass `include_groups=False` to exclude the groupings or explicitly select the grouping columns after groupby to silence this warning.\n",
      "  .apply(lambda group: group.head(y))\n",
      "C:\\Users\\pudin\\AppData\\Local\\Temp\\ipykernel_3808\\1638074630.py:17: DeprecationWarning: DataFrameGroupBy.apply operated on the grouping columns. This behavior is deprecated, and in a future version of pandas the grouping columns will be excluded from the operation. Either pass `include_groups=False` to exclude the groupings or explicitly select the grouping columns after groupby to silence this warning.\n",
      "  .apply(lambda group: group.head(y))\n",
      "C:\\Users\\pudin\\AppData\\Local\\Temp\\ipykernel_3808\\1638074630.py:17: DeprecationWarning: DataFrameGroupBy.apply operated on the grouping columns. This behavior is deprecated, and in a future version of pandas the grouping columns will be excluded from the operation. Either pass `include_groups=False` to exclude the groupings or explicitly select the grouping columns after groupby to silence this warning.\n",
      "  .apply(lambda group: group.head(y))\n",
      "C:\\Users\\pudin\\AppData\\Local\\Temp\\ipykernel_3808\\1638074630.py:17: DeprecationWarning: DataFrameGroupBy.apply operated on the grouping columns. This behavior is deprecated, and in a future version of pandas the grouping columns will be excluded from the operation. Either pass `include_groups=False` to exclude the groupings or explicitly select the grouping columns after groupby to silence this warning.\n",
      "  .apply(lambda group: group.head(y))\n",
      "C:\\Users\\pudin\\AppData\\Local\\Temp\\ipykernel_3808\\1638074630.py:17: DeprecationWarning: DataFrameGroupBy.apply operated on the grouping columns. This behavior is deprecated, and in a future version of pandas the grouping columns will be excluded from the operation. Either pass `include_groups=False` to exclude the groupings or explicitly select the grouping columns after groupby to silence this warning.\n",
      "  .apply(lambda group: group.head(y))\n",
      "C:\\Users\\pudin\\AppData\\Local\\Temp\\ipykernel_3808\\1638074630.py:17: DeprecationWarning: DataFrameGroupBy.apply operated on the grouping columns. This behavior is deprecated, and in a future version of pandas the grouping columns will be excluded from the operation. Either pass `include_groups=False` to exclude the groupings or explicitly select the grouping columns after groupby to silence this warning.\n",
      "  .apply(lambda group: group.head(y))\n",
      "C:\\Users\\pudin\\AppData\\Local\\Temp\\ipykernel_3808\\1638074630.py:17: DeprecationWarning: DataFrameGroupBy.apply operated on the grouping columns. This behavior is deprecated, and in a future version of pandas the grouping columns will be excluded from the operation. Either pass `include_groups=False` to exclude the groupings or explicitly select the grouping columns after groupby to silence this warning.\n",
      "  .apply(lambda group: group.head(y))\n",
      "C:\\Users\\pudin\\AppData\\Local\\Temp\\ipykernel_3808\\1638074630.py:17: DeprecationWarning: DataFrameGroupBy.apply operated on the grouping columns. This behavior is deprecated, and in a future version of pandas the grouping columns will be excluded from the operation. Either pass `include_groups=False` to exclude the groupings or explicitly select the grouping columns after groupby to silence this warning.\n",
      "  .apply(lambda group: group.head(y))\n",
      "C:\\Users\\pudin\\AppData\\Local\\Temp\\ipykernel_3808\\1638074630.py:17: DeprecationWarning: DataFrameGroupBy.apply operated on the grouping columns. This behavior is deprecated, and in a future version of pandas the grouping columns will be excluded from the operation. Either pass `include_groups=False` to exclude the groupings or explicitly select the grouping columns after groupby to silence this warning.\n",
      "  .apply(lambda group: group.head(y))\n",
      "C:\\Users\\pudin\\AppData\\Local\\Temp\\ipykernel_3808\\1638074630.py:17: DeprecationWarning: DataFrameGroupBy.apply operated on the grouping columns. This behavior is deprecated, and in a future version of pandas the grouping columns will be excluded from the operation. Either pass `include_groups=False` to exclude the groupings or explicitly select the grouping columns after groupby to silence this warning.\n",
      "  .apply(lambda group: group.head(y))\n",
      "C:\\Users\\pudin\\AppData\\Local\\Temp\\ipykernel_3808\\1638074630.py:17: DeprecationWarning: DataFrameGroupBy.apply operated on the grouping columns. This behavior is deprecated, and in a future version of pandas the grouping columns will be excluded from the operation. Either pass `include_groups=False` to exclude the groupings or explicitly select the grouping columns after groupby to silence this warning.\n",
      "  .apply(lambda group: group.head(y))\n",
      "C:\\Users\\pudin\\AppData\\Local\\Temp\\ipykernel_3808\\1638074630.py:17: DeprecationWarning: DataFrameGroupBy.apply operated on the grouping columns. This behavior is deprecated, and in a future version of pandas the grouping columns will be excluded from the operation. Either pass `include_groups=False` to exclude the groupings or explicitly select the grouping columns after groupby to silence this warning.\n",
      "  .apply(lambda group: group.head(y))\n",
      "C:\\Users\\pudin\\AppData\\Local\\Temp\\ipykernel_3808\\1638074630.py:17: DeprecationWarning: DataFrameGroupBy.apply operated on the grouping columns. This behavior is deprecated, and in a future version of pandas the grouping columns will be excluded from the operation. Either pass `include_groups=False` to exclude the groupings or explicitly select the grouping columns after groupby to silence this warning.\n",
      "  .apply(lambda group: group.head(y))\n",
      "C:\\Users\\pudin\\AppData\\Local\\Temp\\ipykernel_3808\\1638074630.py:17: DeprecationWarning: DataFrameGroupBy.apply operated on the grouping columns. This behavior is deprecated, and in a future version of pandas the grouping columns will be excluded from the operation. Either pass `include_groups=False` to exclude the groupings or explicitly select the grouping columns after groupby to silence this warning.\n",
      "  .apply(lambda group: group.head(y))\n",
      "C:\\Users\\pudin\\AppData\\Local\\Temp\\ipykernel_3808\\1638074630.py:17: DeprecationWarning: DataFrameGroupBy.apply operated on the grouping columns. This behavior is deprecated, and in a future version of pandas the grouping columns will be excluded from the operation. Either pass `include_groups=False` to exclude the groupings or explicitly select the grouping columns after groupby to silence this warning.\n",
      "  .apply(lambda group: group.head(y))\n",
      "C:\\Users\\pudin\\AppData\\Local\\Temp\\ipykernel_3808\\1638074630.py:17: DeprecationWarning: DataFrameGroupBy.apply operated on the grouping columns. This behavior is deprecated, and in a future version of pandas the grouping columns will be excluded from the operation. Either pass `include_groups=False` to exclude the groupings or explicitly select the grouping columns after groupby to silence this warning.\n",
      "  .apply(lambda group: group.head(y))\n",
      "C:\\Users\\pudin\\AppData\\Local\\Temp\\ipykernel_3808\\1638074630.py:17: DeprecationWarning: DataFrameGroupBy.apply operated on the grouping columns. This behavior is deprecated, and in a future version of pandas the grouping columns will be excluded from the operation. Either pass `include_groups=False` to exclude the groupings or explicitly select the grouping columns after groupby to silence this warning.\n",
      "  .apply(lambda group: group.head(y))\n",
      "C:\\Users\\pudin\\AppData\\Local\\Temp\\ipykernel_3808\\1638074630.py:17: DeprecationWarning: DataFrameGroupBy.apply operated on the grouping columns. This behavior is deprecated, and in a future version of pandas the grouping columns will be excluded from the operation. Either pass `include_groups=False` to exclude the groupings or explicitly select the grouping columns after groupby to silence this warning.\n",
      "  .apply(lambda group: group.head(y))\n",
      "C:\\Users\\pudin\\AppData\\Local\\Temp\\ipykernel_3808\\1638074630.py:17: DeprecationWarning: DataFrameGroupBy.apply operated on the grouping columns. This behavior is deprecated, and in a future version of pandas the grouping columns will be excluded from the operation. Either pass `include_groups=False` to exclude the groupings or explicitly select the grouping columns after groupby to silence this warning.\n",
      "  .apply(lambda group: group.head(y))\n",
      "C:\\Users\\pudin\\AppData\\Local\\Temp\\ipykernel_3808\\1638074630.py:17: DeprecationWarning: DataFrameGroupBy.apply operated on the grouping columns. This behavior is deprecated, and in a future version of pandas the grouping columns will be excluded from the operation. Either pass `include_groups=False` to exclude the groupings or explicitly select the grouping columns after groupby to silence this warning.\n",
      "  .apply(lambda group: group.head(y))\n",
      "C:\\Users\\pudin\\AppData\\Local\\Temp\\ipykernel_3808\\1638074630.py:17: DeprecationWarning: DataFrameGroupBy.apply operated on the grouping columns. This behavior is deprecated, and in a future version of pandas the grouping columns will be excluded from the operation. Either pass `include_groups=False` to exclude the groupings or explicitly select the grouping columns after groupby to silence this warning.\n",
      "  .apply(lambda group: group.head(y))\n",
      "C:\\Users\\pudin\\AppData\\Local\\Temp\\ipykernel_3808\\1638074630.py:17: DeprecationWarning: DataFrameGroupBy.apply operated on the grouping columns. This behavior is deprecated, and in a future version of pandas the grouping columns will be excluded from the operation. Either pass `include_groups=False` to exclude the groupings or explicitly select the grouping columns after groupby to silence this warning.\n",
      "  .apply(lambda group: group.head(y))\n",
      "C:\\Users\\pudin\\AppData\\Local\\Temp\\ipykernel_3808\\1638074630.py:17: DeprecationWarning: DataFrameGroupBy.apply operated on the grouping columns. This behavior is deprecated, and in a future version of pandas the grouping columns will be excluded from the operation. Either pass `include_groups=False` to exclude the groupings or explicitly select the grouping columns after groupby to silence this warning.\n",
      "  .apply(lambda group: group.head(y))\n",
      "C:\\Users\\pudin\\AppData\\Local\\Temp\\ipykernel_3808\\1638074630.py:17: DeprecationWarning: DataFrameGroupBy.apply operated on the grouping columns. This behavior is deprecated, and in a future version of pandas the grouping columns will be excluded from the operation. Either pass `include_groups=False` to exclude the groupings or explicitly select the grouping columns after groupby to silence this warning.\n",
      "  .apply(lambda group: group.head(y))\n",
      "C:\\Users\\pudin\\AppData\\Local\\Temp\\ipykernel_3808\\1638074630.py:17: DeprecationWarning: DataFrameGroupBy.apply operated on the grouping columns. This behavior is deprecated, and in a future version of pandas the grouping columns will be excluded from the operation. Either pass `include_groups=False` to exclude the groupings or explicitly select the grouping columns after groupby to silence this warning.\n",
      "  .apply(lambda group: group.head(y))\n",
      "C:\\Users\\pudin\\AppData\\Local\\Temp\\ipykernel_3808\\1638074630.py:17: DeprecationWarning: DataFrameGroupBy.apply operated on the grouping columns. This behavior is deprecated, and in a future version of pandas the grouping columns will be excluded from the operation. Either pass `include_groups=False` to exclude the groupings or explicitly select the grouping columns after groupby to silence this warning.\n",
      "  .apply(lambda group: group.head(y))\n"
     ]
    },
    {
     "name": "stdout",
     "output_type": "stream",
     "text": [
      "\n",
      "Best Hyperparameters:\n",
      "x: 25\n",
      "RMSE: 3.647\n",
      "Coverage: 1.56%\n"
     ]
    }
   ],
   "source": [
    "def find_best_hyperparameter_x(review_df, raw_df, y=50, x_range=(20, 50)):\n",
    "    best_rmse = float('inf')\n",
    "    best_params = {'x': None, 'rmse': None, 'coverage': None}\n",
    "    x_values = range(x_range[0], x_range[1] + 1)\n",
    "\n",
    "    for x in x_values:\n",
    "        # 상위 x명의 유저와 각 유저당 y개의 리뷰를 필터링\n",
    "        top_user_id = (\n",
    "            review_df['user_id']\n",
    "            .value_counts()\n",
    "            .head(x)\n",
    "            .index\n",
    "        )\n",
    "        filtered_df = (\n",
    "            review_df[review_df['user_id'].isin(top_user_id)]\n",
    "            .groupby('user_id')\n",
    "            .apply(lambda group: group.head(y))\n",
    "            .reset_index(drop=True)\n",
    "        )\n",
    "\n",
    "        rmse, coverage_value = knn_based_cf(filtered_df, raw_df)\n",
    "        if rmse < best_rmse:\n",
    "            best_rmse = rmse\n",
    "            best_params = {\n",
    "                'x': x,\n",
    "                'rmse': rmse,\n",
    "                'coverage': coverage_value\n",
    "            }\n",
    "\n",
    "    return best_params\n",
    "\n",
    "# 사용 예제\n",
    "best_params = find_best_hyperparameter_x(review_df, raw_df, y=50, x_range=(20, 50))\n",
    "\n",
    "print(\"\\nBest Hyperparameters:\")\n",
    "print(f\"x: {best_params['x']}\")\n",
    "print(f\"RMSE: {best_params['rmse']:.3f}\")\n",
    "print(f\"Coverage: {best_params['coverage']:.2%}\")\n"
   ]
  },
  {
   "cell_type": "code",
   "execution_count": 56,
   "metadata": {},
   "outputs": [
    {
     "name": "stderr",
     "output_type": "stream",
     "text": [
      "C:\\Users\\pudin\\AppData\\Local\\Temp\\ipykernel_3808\\1078688920.py:18: DeprecationWarning: DataFrameGroupBy.apply operated on the grouping columns. This behavior is deprecated, and in a future version of pandas the grouping columns will be excluded from the operation. Either pass `include_groups=False` to exclude the groupings or explicitly select the grouping columns after groupby to silence this warning.\n",
      "  .apply(lambda group: group.head(y))\n",
      "C:\\Users\\pudin\\AppData\\Local\\Temp\\ipykernel_3808\\1078688920.py:18: DeprecationWarning: DataFrameGroupBy.apply operated on the grouping columns. This behavior is deprecated, and in a future version of pandas the grouping columns will be excluded from the operation. Either pass `include_groups=False` to exclude the groupings or explicitly select the grouping columns after groupby to silence this warning.\n",
      "  .apply(lambda group: group.head(y))\n",
      "C:\\Users\\pudin\\AppData\\Local\\Temp\\ipykernel_3808\\1078688920.py:18: DeprecationWarning: DataFrameGroupBy.apply operated on the grouping columns. This behavior is deprecated, and in a future version of pandas the grouping columns will be excluded from the operation. Either pass `include_groups=False` to exclude the groupings or explicitly select the grouping columns after groupby to silence this warning.\n",
      "  .apply(lambda group: group.head(y))\n",
      "C:\\Users\\pudin\\AppData\\Local\\Temp\\ipykernel_3808\\1078688920.py:18: DeprecationWarning: DataFrameGroupBy.apply operated on the grouping columns. This behavior is deprecated, and in a future version of pandas the grouping columns will be excluded from the operation. Either pass `include_groups=False` to exclude the groupings or explicitly select the grouping columns after groupby to silence this warning.\n",
      "  .apply(lambda group: group.head(y))\n",
      "C:\\Users\\pudin\\AppData\\Local\\Temp\\ipykernel_3808\\1078688920.py:18: DeprecationWarning: DataFrameGroupBy.apply operated on the grouping columns. This behavior is deprecated, and in a future version of pandas the grouping columns will be excluded from the operation. Either pass `include_groups=False` to exclude the groupings or explicitly select the grouping columns after groupby to silence this warning.\n",
      "  .apply(lambda group: group.head(y))\n",
      "C:\\Users\\pudin\\AppData\\Local\\Temp\\ipykernel_3808\\1078688920.py:18: DeprecationWarning: DataFrameGroupBy.apply operated on the grouping columns. This behavior is deprecated, and in a future version of pandas the grouping columns will be excluded from the operation. Either pass `include_groups=False` to exclude the groupings or explicitly select the grouping columns after groupby to silence this warning.\n",
      "  .apply(lambda group: group.head(y))\n",
      "C:\\Users\\pudin\\AppData\\Local\\Temp\\ipykernel_3808\\1078688920.py:18: DeprecationWarning: DataFrameGroupBy.apply operated on the grouping columns. This behavior is deprecated, and in a future version of pandas the grouping columns will be excluded from the operation. Either pass `include_groups=False` to exclude the groupings or explicitly select the grouping columns after groupby to silence this warning.\n",
      "  .apply(lambda group: group.head(y))\n",
      "C:\\Users\\pudin\\AppData\\Local\\Temp\\ipykernel_3808\\1078688920.py:18: DeprecationWarning: DataFrameGroupBy.apply operated on the grouping columns. This behavior is deprecated, and in a future version of pandas the grouping columns will be excluded from the operation. Either pass `include_groups=False` to exclude the groupings or explicitly select the grouping columns after groupby to silence this warning.\n",
      "  .apply(lambda group: group.head(y))\n",
      "C:\\Users\\pudin\\AppData\\Local\\Temp\\ipykernel_3808\\1078688920.py:18: DeprecationWarning: DataFrameGroupBy.apply operated on the grouping columns. This behavior is deprecated, and in a future version of pandas the grouping columns will be excluded from the operation. Either pass `include_groups=False` to exclude the groupings or explicitly select the grouping columns after groupby to silence this warning.\n",
      "  .apply(lambda group: group.head(y))\n",
      "C:\\Users\\pudin\\AppData\\Local\\Temp\\ipykernel_3808\\1078688920.py:18: DeprecationWarning: DataFrameGroupBy.apply operated on the grouping columns. This behavior is deprecated, and in a future version of pandas the grouping columns will be excluded from the operation. Either pass `include_groups=False` to exclude the groupings or explicitly select the grouping columns after groupby to silence this warning.\n",
      "  .apply(lambda group: group.head(y))\n",
      "C:\\Users\\pudin\\AppData\\Local\\Temp\\ipykernel_3808\\1078688920.py:18: DeprecationWarning: DataFrameGroupBy.apply operated on the grouping columns. This behavior is deprecated, and in a future version of pandas the grouping columns will be excluded from the operation. Either pass `include_groups=False` to exclude the groupings or explicitly select the grouping columns after groupby to silence this warning.\n",
      "  .apply(lambda group: group.head(y))\n",
      "C:\\Users\\pudin\\AppData\\Local\\Temp\\ipykernel_3808\\1078688920.py:18: DeprecationWarning: DataFrameGroupBy.apply operated on the grouping columns. This behavior is deprecated, and in a future version of pandas the grouping columns will be excluded from the operation. Either pass `include_groups=False` to exclude the groupings or explicitly select the grouping columns after groupby to silence this warning.\n",
      "  .apply(lambda group: group.head(y))\n",
      "C:\\Users\\pudin\\AppData\\Local\\Temp\\ipykernel_3808\\1078688920.py:18: DeprecationWarning: DataFrameGroupBy.apply operated on the grouping columns. This behavior is deprecated, and in a future version of pandas the grouping columns will be excluded from the operation. Either pass `include_groups=False` to exclude the groupings or explicitly select the grouping columns after groupby to silence this warning.\n",
      "  .apply(lambda group: group.head(y))\n",
      "C:\\Users\\pudin\\AppData\\Local\\Temp\\ipykernel_3808\\1078688920.py:18: DeprecationWarning: DataFrameGroupBy.apply operated on the grouping columns. This behavior is deprecated, and in a future version of pandas the grouping columns will be excluded from the operation. Either pass `include_groups=False` to exclude the groupings or explicitly select the grouping columns after groupby to silence this warning.\n",
      "  .apply(lambda group: group.head(y))\n",
      "C:\\Users\\pudin\\AppData\\Local\\Temp\\ipykernel_3808\\1078688920.py:18: DeprecationWarning: DataFrameGroupBy.apply operated on the grouping columns. This behavior is deprecated, and in a future version of pandas the grouping columns will be excluded from the operation. Either pass `include_groups=False` to exclude the groupings or explicitly select the grouping columns after groupby to silence this warning.\n",
      "  .apply(lambda group: group.head(y))\n",
      "C:\\Users\\pudin\\AppData\\Local\\Temp\\ipykernel_3808\\1078688920.py:18: DeprecationWarning: DataFrameGroupBy.apply operated on the grouping columns. This behavior is deprecated, and in a future version of pandas the grouping columns will be excluded from the operation. Either pass `include_groups=False` to exclude the groupings or explicitly select the grouping columns after groupby to silence this warning.\n",
      "  .apply(lambda group: group.head(y))\n",
      "C:\\Users\\pudin\\AppData\\Local\\Temp\\ipykernel_3808\\1078688920.py:18: DeprecationWarning: DataFrameGroupBy.apply operated on the grouping columns. This behavior is deprecated, and in a future version of pandas the grouping columns will be excluded from the operation. Either pass `include_groups=False` to exclude the groupings or explicitly select the grouping columns after groupby to silence this warning.\n",
      "  .apply(lambda group: group.head(y))\n",
      "C:\\Users\\pudin\\AppData\\Local\\Temp\\ipykernel_3808\\1078688920.py:18: DeprecationWarning: DataFrameGroupBy.apply operated on the grouping columns. This behavior is deprecated, and in a future version of pandas the grouping columns will be excluded from the operation. Either pass `include_groups=False` to exclude the groupings or explicitly select the grouping columns after groupby to silence this warning.\n",
      "  .apply(lambda group: group.head(y))\n",
      "C:\\Users\\pudin\\AppData\\Local\\Temp\\ipykernel_3808\\1078688920.py:18: DeprecationWarning: DataFrameGroupBy.apply operated on the grouping columns. This behavior is deprecated, and in a future version of pandas the grouping columns will be excluded from the operation. Either pass `include_groups=False` to exclude the groupings or explicitly select the grouping columns after groupby to silence this warning.\n",
      "  .apply(lambda group: group.head(y))\n",
      "C:\\Users\\pudin\\AppData\\Local\\Temp\\ipykernel_3808\\1078688920.py:18: DeprecationWarning: DataFrameGroupBy.apply operated on the grouping columns. This behavior is deprecated, and in a future version of pandas the grouping columns will be excluded from the operation. Either pass `include_groups=False` to exclude the groupings or explicitly select the grouping columns after groupby to silence this warning.\n",
      "  .apply(lambda group: group.head(y))\n",
      "C:\\Users\\pudin\\AppData\\Local\\Temp\\ipykernel_3808\\1078688920.py:18: DeprecationWarning: DataFrameGroupBy.apply operated on the grouping columns. This behavior is deprecated, and in a future version of pandas the grouping columns will be excluded from the operation. Either pass `include_groups=False` to exclude the groupings or explicitly select the grouping columns after groupby to silence this warning.\n",
      "  .apply(lambda group: group.head(y))\n",
      "C:\\Users\\pudin\\AppData\\Local\\Temp\\ipykernel_3808\\1078688920.py:18: DeprecationWarning: DataFrameGroupBy.apply operated on the grouping columns. This behavior is deprecated, and in a future version of pandas the grouping columns will be excluded from the operation. Either pass `include_groups=False` to exclude the groupings or explicitly select the grouping columns after groupby to silence this warning.\n",
      "  .apply(lambda group: group.head(y))\n",
      "C:\\Users\\pudin\\AppData\\Local\\Temp\\ipykernel_3808\\1078688920.py:18: DeprecationWarning: DataFrameGroupBy.apply operated on the grouping columns. This behavior is deprecated, and in a future version of pandas the grouping columns will be excluded from the operation. Either pass `include_groups=False` to exclude the groupings or explicitly select the grouping columns after groupby to silence this warning.\n",
      "  .apply(lambda group: group.head(y))\n",
      "C:\\Users\\pudin\\AppData\\Local\\Temp\\ipykernel_3808\\1078688920.py:18: DeprecationWarning: DataFrameGroupBy.apply operated on the grouping columns. This behavior is deprecated, and in a future version of pandas the grouping columns will be excluded from the operation. Either pass `include_groups=False` to exclude the groupings or explicitly select the grouping columns after groupby to silence this warning.\n",
      "  .apply(lambda group: group.head(y))\n",
      "C:\\Users\\pudin\\AppData\\Local\\Temp\\ipykernel_3808\\1078688920.py:18: DeprecationWarning: DataFrameGroupBy.apply operated on the grouping columns. This behavior is deprecated, and in a future version of pandas the grouping columns will be excluded from the operation. Either pass `include_groups=False` to exclude the groupings or explicitly select the grouping columns after groupby to silence this warning.\n",
      "  .apply(lambda group: group.head(y))\n",
      "C:\\Users\\pudin\\AppData\\Local\\Temp\\ipykernel_3808\\1078688920.py:18: DeprecationWarning: DataFrameGroupBy.apply operated on the grouping columns. This behavior is deprecated, and in a future version of pandas the grouping columns will be excluded from the operation. Either pass `include_groups=False` to exclude the groupings or explicitly select the grouping columns after groupby to silence this warning.\n",
      "  .apply(lambda group: group.head(y))\n",
      "C:\\Users\\pudin\\AppData\\Local\\Temp\\ipykernel_3808\\1078688920.py:18: DeprecationWarning: DataFrameGroupBy.apply operated on the grouping columns. This behavior is deprecated, and in a future version of pandas the grouping columns will be excluded from the operation. Either pass `include_groups=False` to exclude the groupings or explicitly select the grouping columns after groupby to silence this warning.\n",
      "  .apply(lambda group: group.head(y))\n",
      "C:\\Users\\pudin\\AppData\\Local\\Temp\\ipykernel_3808\\1078688920.py:18: DeprecationWarning: DataFrameGroupBy.apply operated on the grouping columns. This behavior is deprecated, and in a future version of pandas the grouping columns will be excluded from the operation. Either pass `include_groups=False` to exclude the groupings or explicitly select the grouping columns after groupby to silence this warning.\n",
      "  .apply(lambda group: group.head(y))\n",
      "C:\\Users\\pudin\\AppData\\Local\\Temp\\ipykernel_3808\\1078688920.py:18: DeprecationWarning: DataFrameGroupBy.apply operated on the grouping columns. This behavior is deprecated, and in a future version of pandas the grouping columns will be excluded from the operation. Either pass `include_groups=False` to exclude the groupings or explicitly select the grouping columns after groupby to silence this warning.\n",
      "  .apply(lambda group: group.head(y))\n",
      "C:\\Users\\pudin\\AppData\\Local\\Temp\\ipykernel_3808\\1078688920.py:18: DeprecationWarning: DataFrameGroupBy.apply operated on the grouping columns. This behavior is deprecated, and in a future version of pandas the grouping columns will be excluded from the operation. Either pass `include_groups=False` to exclude the groupings or explicitly select the grouping columns after groupby to silence this warning.\n",
      "  .apply(lambda group: group.head(y))\n",
      "C:\\Users\\pudin\\AppData\\Local\\Temp\\ipykernel_3808\\1078688920.py:18: DeprecationWarning: DataFrameGroupBy.apply operated on the grouping columns. This behavior is deprecated, and in a future version of pandas the grouping columns will be excluded from the operation. Either pass `include_groups=False` to exclude the groupings or explicitly select the grouping columns after groupby to silence this warning.\n",
      "  .apply(lambda group: group.head(y))\n"
     ]
    },
    {
     "name": "stdout",
     "output_type": "stream",
     "text": [
      "\n",
      "Best Hyperparameters:\n",
      "x: 45\n",
      "RMSE: 3.743\n",
      "Coverage: 5.82%\n"
     ]
    }
   ],
   "source": [
    "def find_best_hyperparameter_x(review_df, raw_df, y=50, x_range=(20, 50)):\n",
    "    best_rmse = float('inf')\n",
    "    best_params = {'x': None, 'rmse': None, 'coverage': None}\n",
    "    \n",
    "    x_values = range(x_range[0], x_range[1] + 1)\n",
    "\n",
    "    for x in x_values:\n",
    "        # 상위 N개의 상품과 각 상품의 y개를 필터링\n",
    "        top_item_id = (\n",
    "            review_df['parent_asin']\n",
    "            .value_counts()\n",
    "            .head(x)\n",
    "            .index\n",
    "        )\n",
    "        filtered_df = (\n",
    "            review_df[review_df['parent_asin'].isin(top_item_id)]\n",
    "            .groupby('parent_asin')\n",
    "            .apply(lambda group: group.head(y))\n",
    "            .reset_index(drop=True)\n",
    "        )\n",
    "\n",
    "        rmse, coverage_value = knn_based_cf(filtered_df, raw_df)\n",
    "        if rmse < best_rmse:\n",
    "            best_rmse = rmse\n",
    "            best_params = {\n",
    "                'x': x,\n",
    "                'rmse': rmse,\n",
    "                'coverage': coverage_value\n",
    "            }\n",
    "\n",
    "    return best_params\n",
    "\n",
    "# 사용 예제\n",
    "best_params = find_best_hyperparameter_x(review_df, raw_df, y=50, x_range=(20, 50))\n",
    "\n",
    "print(\"\\nBest Hyperparameters:\")\n",
    "print(f\"x: {best_params['x']}\")\n",
    "print(f\"RMSE: {best_params['rmse']:.3f}\")\n",
    "print(f\"Coverage: {best_params['coverage']:.2%}\")\n"
   ]
  },
  {
   "cell_type": "markdown",
   "metadata": {},
   "source": [
    "# surprise 라이브러리 이용\n",
    "\n",
    "GridSearch로도 RMSE에서 좋은 성능을 얻지 못하자 자체 구현한 알고리즘의 최적화 부분에서 문제가 있을 거라는 가설을 세웠다. 그래서 surprise 라이브러리를 사용하여 다시 진행해보았다."
   ]
  },
  {
   "cell_type": "code",
   "execution_count": 95,
   "metadata": {},
   "outputs": [],
   "source": [
    "from surprise import Dataset, Reader, KNNBasic\n",
    "from surprise.model_selection import train_test_split\n",
    "from surprise import accuracy\n",
    "\n",
    "def prepare_data(df):\n",
    "    reader = Reader(rating_scale=(1, 5))  # 평점 범위 지정\n",
    "    data = Dataset.load_from_df(df[[\"user_id\", \"parent_asin\", \"rating\"]], reader)\n",
    "    return data\n",
    "\n",
    "def coverage(predictions, total_len):\n",
    "    recommended_items = set([pred.iid for pred in predictions])\n",
    "    return len(recommended_items) / total_len\n",
    "\n",
    "def knn_based_cf_surprise(df,org_df):\n",
    "    data = prepare_data(df)\n",
    "    trainset, testset = train_test_split(data, test_size=0.2, random_state=42)\n",
    "    \n",
    "    # 코사인 유사도를 사용한 아이템 기반 CF 모델 설정\n",
    "    sim_options = {\n",
    "        \"name\": \"cosine\",\n",
    "        \"user_based\": False,\n",
    "    }\n",
    "    algo = KNNBasic(sim_options=sim_options)\n",
    "    algo.fit(trainset)\n",
    "    \n",
    "    predictions = algo.test(testset)\n",
    "    # RMSE 계산\n",
    "    rmse = accuracy.rmse(predictions)\n",
    "    \n",
    "    # Coverage 계산\n",
    "    total_len = len(org_df['parent_asin'].unique())\n",
    "    coverage_value = coverage(predictions, total_len)\n",
    "    \n",
    "    return rmse,coverage_value,trainset"
   ]
  },
  {
   "cell_type": "markdown",
   "metadata": {},
   "source": [
    "surprise 라이브러리를 사용하니 RMSE가 1.253으로 줄었으나 coverage가 0.32%로 매우 낮아졌다. 이는 처음에 데이터 전처리를 할 때 파라미터(상품별 최소 리뷰 개수, 사용자별 최소 작성 리뷰 개수)를 각각 8개로 설정해 필터링했는데 surprise 라이브러리를 사용하니 다양성이 크게 훼손되었다. 하지만 RMSE 성능이 개선되었고 연산속도가 빨라져 더 큰 데이터를 처리할 수 있다고 판단, 이에 데이터 전처리 과정에서 파라미터를 2,2로 설정하여 성능을 다시 측정하였다. 그 결과 RMSE가 1.253, Coverage가 3.98%라는 좋은 성능을 얻을 수 있었다."
   ]
  },
  {
   "cell_type": "code",
   "execution_count": 96,
   "metadata": {},
   "outputs": [
    {
     "name": "stdout",
     "output_type": "stream",
     "text": [
      "Computing the cosine similarity matrix...\n",
      "Done computing similarity matrix.\n",
      "RMSE: 1.2527\n",
      "KNN based\n",
      "RMSE: 1.253\n",
      "Coverage: 0.32%\n"
     ]
    }
   ],
   "source": [
    "rmse,coverage_value,trainset = knn_based_cf_surprise(review_df,raw_df)\n",
    "print(\"KNN based\")\n",
    "print(f\"RMSE: {rmse:.3f}\")\n",
    "print(f\"Coverage: {coverage_value:.2%}\")"
   ]
  },
  {
   "cell_type": "code",
   "execution_count": 97,
   "metadata": {},
   "outputs": [
    {
     "name": "stdout",
     "output_type": "stream",
     "text": [
      "Computing the cosine similarity matrix...\n",
      "Done computing similarity matrix.\n",
      "RMSE: 1.2659\n",
      "KNN based\n",
      "RMSE: 1.266\n",
      "Coverage: 3.98%\n"
     ]
    }
   ],
   "source": [
    "new_review_df = preprocess_review(review_path,2,2)\n",
    "rmse,coverage_value,trainset = knn_based_cf_surprise(new_review_df,raw_df)\n",
    "print(\"KNN based\")\n",
    "print(f\"RMSE: {rmse:.3f}\")\n",
    "print(f\"Coverage: {coverage_value:.2%}\")"
   ]
  },
  {
   "cell_type": "markdown",
   "metadata": {},
   "source": [
    "여기서 성능 개선을 위하여 KNN에 기반한 Memory based 방식의 CF가 아닌, SVD에 기반한 Model based 방식의 CF를 적용해보았다. 그 결과 RMSE가 1.170으로 개선된 것을 확인할 수 있었다. 이는 데이터의 희소성을 해소했기 때문으로 된다."
   ]
  },
  {
   "cell_type": "code",
   "execution_count": 85,
   "metadata": {},
   "outputs": [
    {
     "name": "stdout",
     "output_type": "stream",
     "text": [
      "RMSE: 1.1696\n",
      "SVD based\n",
      "RMSE: 1.170\n",
      "Coverage: 3.98%\n"
     ]
    }
   ],
   "source": [
    "from surprise import SVD\n",
    "\n",
    "def svd_based_cf(df,org_df):\n",
    "    data = prepare_data(df)\n",
    "    trainset, testset = train_test_split(data, test_size=0.2, random_state=42)\n",
    "    \n",
    "    algo = SVD(n_factors=10, random_state=42)\n",
    "    algo.fit(trainset)\n",
    "    predictions = algo.test(testset)\n",
    "    \n",
    "    # RMSE 계산\n",
    "    rmse = accuracy.rmse(predictions)\n",
    "    \n",
    "    # Coverage 계산\n",
    "    total_len = len(org_df['parent_asin'].unique())\n",
    "    coverage_value = coverage(predictions, total_len)\n",
    "    return rmse, coverage_value\n",
    "\n",
    "rmse,coverage_value = svd_based_cf(new_review_df,raw_df)\n",
    "print(\"SVD based\")\n",
    "print(f\"RMSE: {rmse:.3f}\")\n",
    "print(f\"Coverage: {coverage_value:.2%}\")"
   ]
  },
  {
   "cell_type": "markdown",
   "metadata": {},
   "source": [
    "특정 카테고리에서의 CF"
   ]
  },
  {
   "cell_type": "code",
   "execution_count": 60,
   "metadata": {},
   "outputs": [],
   "source": [
    "# def CategoryBasedCF(df,org_df,categories):\n",
    "#     for targetCategory in categories:\n",
    "#         print(targetCategory+\"'s performance\")\n",
    "#         filtered_org_df = org_df[org_df[\"category\"] == targetCategory]\n",
    "#         filtered_df = df[df[\"category\"] == targetCategory]\n",
    "#         rmse, coverage_value = knn_based_cf_surprise(filtered_df,filtered_org_df)\n",
    "#         if rmse == \"Empty\" or coverage_value == \"Empty\":\n",
    "#             print(\"Data is empty\")\n",
    "#         else:\n",
    "#             print(\"KNN based\")\n",
    "#             print(f\"RMSE: {rmse:.3f}\")\n",
    "#             print(f\"Coverage: {coverage_value:.2%}\")\n",
    "#         print(\"\\n\")"
   ]
  },
  {
   "cell_type": "code",
   "execution_count": 61,
   "metadata": {},
   "outputs": [],
   "source": [
    "# CategoryBasedCF(new_review_df,raw_df,categories)"
   ]
  },
  {
   "cell_type": "markdown",
   "metadata": {},
   "source": [
    "실제 시나리오\n",
    "\n",
    "1. 카테고리 입력\n",
    "2. 해당 카테고리 인기 상품 5개 추출\n",
    "3. 5개 상품에 대하여 각각 추천하여 유사도 높은 순으로 정렬"
   ]
  },
  {
   "cell_type": "code",
   "execution_count": 62,
   "metadata": {},
   "outputs": [],
   "source": [
    "# 입력한 카테고리에서 인기 상품을 추천하는 함수\n",
    "def CategoryBasedRecommend(review_df, targetCategory, top_n=5):\n",
    "    \n",
    "    filtered_df = review_df[review_df[\"category\"] == targetCategory]\n",
    "    \n",
    "    if filtered_df.empty:\n",
    "        print(f\"카테고리 '{targetCategory}'에 해당하는 데이터가 없습니다.\")\n",
    "        return pd.DataFrame()\n",
    "\n",
    "    popular_items = (\n",
    "        filtered_df.groupby([\"parent_asin\", \"category\",\"product_title\"])\n",
    "        .agg(avg_rating=(\"rating\", \"mean\"), num_reviews=(\"user_id\", \"count\"))\n",
    "        .reset_index()\n",
    "        .sort_values(by=[\"num_reviews\", \"avg_rating\"], ascending=[False, False])\n",
    "    )\n",
    "    top_items = popular_items.head(top_n)\n",
    "    return top_items"
   ]
  },
  {
   "cell_type": "code",
   "execution_count": 86,
   "metadata": {},
   "outputs": [
    {
     "name": "stdout",
     "output_type": "stream",
     "text": [
      "Top 5 related items to B004RMK5QG category ['Video_Games'] :\n",
      "Item: B01MDKA8EH, Category: Software Title: CBS News - Fire TV, Similarity: 0.42\n",
      "Item: B00FAPF5U0, Category: Software Title: Candy Crush Saga, Similarity: 0.42\n",
      "Item: B076QLVN87, Category: Software Title: BBC America, Similarity: 0.40\n",
      "Item: B00EC5ZFL8, Category: Software Title: House of Fun™️: Free Slots & Casino Slot Machine Games, Similarity: 0.34\n",
      "Item: B01LXOU5PM, Category: Software Title: NFL, Similarity: 0.34\n"
     ]
    }
   ],
   "source": [
    "# 특정 상품과 관련된 추천 5개 생성\n",
    "def recommend_related_items(df, target_item, top_n=5):\n",
    "    data = prepare_data(df)\n",
    "    trainset = data.build_full_trainset()\n",
    "    algo = SVD(n_factors=50, random_state=42)\n",
    "    algo.fit(trainset)\n",
    "    item_factors = algo.qi\n",
    "    item_ids = trainset._raw2inner_id_items.keys()\n",
    "    \n",
    "    item_factors_df = pd.DataFrame(item_factors, index=item_ids)\n",
    "    \n",
    "    if target_item not in item_factors_df.index:\n",
    "        raise ValueError(f\"Target item {target_item} not found in training data.\")\n",
    "    target_vector = item_factors_df.loc[target_item].values.reshape(1, -1)\n",
    "    \n",
    "    # 코사인 유사도 계산\n",
    "    similarities = cosine_similarity(target_vector, item_factors_df.values).flatten()\n",
    "    \n",
    "    # 유사도를 데이터프레임으로 변환\n",
    "    similarity_df = pd.DataFrame({\n",
    "        \"parent_asin\": item_factors_df.index,\n",
    "        \"similarity\": similarities\n",
    "    })\n",
    "    \n",
    "    # 대상 아이템 제외 및 상위 N개 추천\n",
    "    top_related_items = similarity_df[similarity_df[\"parent_asin\"] != target_item] \\\n",
    "        .sort_values(by=\"similarity\", ascending=False) \\\n",
    "        .head(top_n)\n",
    "    \n",
    "    # 추천 결과에 상품 정보 병합\n",
    "    related_items_df = top_related_items.merge(\n",
    "        df[[\"parent_asin\", \"product_title\", \"category\"]].drop_duplicates(), on=\"parent_asin\", how=\"left\"\n",
    "    )\n",
    "    \n",
    "    return related_items_df\n",
    "\n",
    "# 특정 상품에 관련된 추천 5개 생성\n",
    "target_item = \"B004RMK5QG\"  # 예시 상품 ID\n",
    "target_category = review_df[review_df['parent_asin'] == target_item]['category'].unique()\n",
    "related_items_df = recommend_related_items(review_df, target_item, top_n=5)\n",
    "\n",
    "# 추천 결과 출력\n",
    "print(f\"Top 5 related items to {target_item} category {target_category} :\")\n",
    "for _, row in related_items_df.iterrows():\n",
    "    print(f\"Item: {row['parent_asin']}, Category: {row['category']} Title: {row['product_title']}, Similarity: {row['similarity']:.2f}\")\n"
   ]
  },
  {
   "cell_type": "code",
   "execution_count": 87,
   "metadata": {},
   "outputs": [],
   "source": [
    "input_category = \"Video_Games\"\n",
    "top_items = CategoryBasedRecommend(new_review_df,input_category)"
   ]
  },
  {
   "cell_type": "code",
   "execution_count": 88,
   "metadata": {},
   "outputs": [
    {
     "name": "stdout",
     "output_type": "stream",
     "text": [
      "Input Category :  Video_Games \n",
      "\n",
      "Top 5 Recommended Items:\n",
      "Parent ASIN: B00N59BJTY\n",
      "Product Title: Game of Thrones:Complete Seasons 1-2 (DVD)\n",
      "Category: Movies_TV\n",
      "Similarity: 0.485\n",
      "------------------------------\n",
      "Parent ASIN: B00OM8KWDQ\n",
      "Product Title: Bath & Body Works, Signature Collection Body Lotion, Vanilla Bean Noel, 8 Ounce\n",
      "Category: Beauty\n",
      "Similarity: 0.476\n",
      "------------------------------\n",
      "Parent ASIN: B00BWC1UZE\n",
      "Product Title: The 20/20 Experience (Deluxe Edition)\n",
      "Category: Music\n",
      "Similarity: 0.473\n",
      "------------------------------\n",
      "Parent ASIN: B07P91Z4FD\n",
      "Product Title: Orchid Row Women's Straw Hat with Printed Decorative Trim Tan Multi O/S\n",
      "Category: Fashion\n",
      "Similarity: 0.468\n",
      "------------------------------\n",
      "Parent ASIN: B000TJBN6W\n",
      "Product Title: Jingle All the Way (Family Fun Edition)\n",
      "Category: Movies_TV\n",
      "Similarity: 0.466\n",
      "------------------------------\n"
     ]
    }
   ],
   "source": [
    "recommend_result = []\n",
    "for _, row in top_items.iterrows():\n",
    "    target_item = row[\"parent_asin\"]\n",
    "    target_category = row[\"category\"]\n",
    "    result = recommend_related_items(new_review_df, target_item)\n",
    "    for _, recommend_row in result.iterrows():\n",
    "        recommended_asin = recommend_row[\"parent_asin\"]\n",
    "        if recommended_asin not in [item[\"parent_asin\"] for item in recommend_result]:\n",
    "            recommend_result.append({\n",
    "                \"parent_asin\": recommended_asin,\n",
    "                \"product_title\": recommend_row[\"product_title\"],\n",
    "                \"category\": recommend_row[\"category\"],\n",
    "                \"similarity\": recommend_row[\"similarity\"]\n",
    "            })\n",
    "\n",
    "sorted_recommendations = sorted(recommend_result, key=lambda x: x[\"similarity\"], reverse=True)[:5]\n",
    "\n",
    "print(\"Input Category : \",input_category,\"\\n\")\n",
    "\n",
    "print(\"Top 5 Recommended Items:\")\n",
    "for item in sorted_recommendations:\n",
    "    print(f\"Parent ASIN: {item['parent_asin']}\")\n",
    "    print(f\"Product Title: {item['product_title']}\")\n",
    "    print(f\"Category: {item['category']}\")\n",
    "    print(f\"Similarity: {item['similarity']:.3f}\")\n",
    "    print(\"-\" * 30)\n"
   ]
  }
 ],
 "metadata": {
  "accelerator": "GPU",
  "colab": {
   "collapsed_sections": [
    "psvfGRIXC_xq"
   ],
   "gpuType": "T4",
   "provenance": []
  },
  "kernelspec": {
   "display_name": "base",
   "language": "python",
   "name": "python3"
  },
  "language_info": {
   "codemirror_mode": {
    "name": "ipython",
    "version": 3
   },
   "file_extension": ".py",
   "mimetype": "text/x-python",
   "name": "python",
   "nbconvert_exporter": "python",
   "pygments_lexer": "ipython3",
   "version": "3.12.7"
  }
 },
 "nbformat": 4,
 "nbformat_minor": 0
}
