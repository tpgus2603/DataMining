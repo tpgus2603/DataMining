{
  "nbformat": 4,
  "nbformat_minor": 0,
  "metadata": {
    "colab": {
      "provenance": []
    },
    "kernelspec": {
      "name": "python3",
      "display_name": "Python 3"
    },
    "language_info": {
      "name": "python"
    }
  },
  "cells": [
    {
      "source": [
        "!pip install matplotlib seaborn\n",
        "import pandas as pd\n",
        "from sklearn.model_selection import train_test_split\n",
        "from sklearn.feature_extraction.text import TfidfVectorizer\n",
        "from sklearn.naive_bayes import MultinomialNB\n",
        "from sklearn.metrics import accuracy_score\n",
        "import nltk\n",
        "from nltk.corpus import stopwords\n",
        "from nltk.stem import WordNetLemmatizer\n",
        "import re\n",
        "import matplotlib.pyplot as plt\n",
        "import seaborn as sns\n",
        "\n",
        "\n",
        "nltk.download('stopwords')\n",
        "nltk.download('wordnet')"
      ],
      "cell_type": "code",
      "metadata": {
        "colab": {
          "base_uri": "https://localhost:8080/"
        },
        "id": "-Js6DOO4kMYa",
        "outputId": "aeb0772b-065d-4d2d-922b-dc16fdd96153"
      },
      "execution_count": 1,
      "outputs": [
        {
          "output_type": "stream",
          "name": "stdout",
          "text": [
            "Requirement already satisfied: matplotlib in /usr/local/lib/python3.10/dist-packages (3.8.0)\n",
            "Requirement already satisfied: seaborn in /usr/local/lib/python3.10/dist-packages (0.13.2)\n",
            "Requirement already satisfied: contourpy>=1.0.1 in /usr/local/lib/python3.10/dist-packages (from matplotlib) (1.3.1)\n",
            "Requirement already satisfied: cycler>=0.10 in /usr/local/lib/python3.10/dist-packages (from matplotlib) (0.12.1)\n",
            "Requirement already satisfied: fonttools>=4.22.0 in /usr/local/lib/python3.10/dist-packages (from matplotlib) (4.55.1)\n",
            "Requirement already satisfied: kiwisolver>=1.0.1 in /usr/local/lib/python3.10/dist-packages (from matplotlib) (1.4.7)\n",
            "Requirement already satisfied: numpy<2,>=1.21 in /usr/local/lib/python3.10/dist-packages (from matplotlib) (1.26.4)\n",
            "Requirement already satisfied: packaging>=20.0 in /usr/local/lib/python3.10/dist-packages (from matplotlib) (24.2)\n",
            "Requirement already satisfied: pillow>=6.2.0 in /usr/local/lib/python3.10/dist-packages (from matplotlib) (11.0.0)\n",
            "Requirement already satisfied: pyparsing>=2.3.1 in /usr/local/lib/python3.10/dist-packages (from matplotlib) (3.2.0)\n",
            "Requirement already satisfied: python-dateutil>=2.7 in /usr/local/lib/python3.10/dist-packages (from matplotlib) (2.8.2)\n",
            "Requirement already satisfied: pandas>=1.2 in /usr/local/lib/python3.10/dist-packages (from seaborn) (2.2.2)\n",
            "Requirement already satisfied: pytz>=2020.1 in /usr/local/lib/python3.10/dist-packages (from pandas>=1.2->seaborn) (2024.2)\n",
            "Requirement already satisfied: tzdata>=2022.7 in /usr/local/lib/python3.10/dist-packages (from pandas>=1.2->seaborn) (2024.2)\n",
            "Requirement already satisfied: six>=1.5 in /usr/local/lib/python3.10/dist-packages (from python-dateutil>=2.7->matplotlib) (1.16.0)\n"
          ]
        },
        {
          "output_type": "stream",
          "name": "stderr",
          "text": [
            "[nltk_data] Downloading package stopwords to /root/nltk_data...\n",
            "[nltk_data]   Unzipping corpora/stopwords.zip.\n",
            "[nltk_data] Downloading package wordnet to /root/nltk_data...\n"
          ]
        },
        {
          "output_type": "execute_result",
          "data": {
            "text/plain": [
              "True"
            ]
          },
          "metadata": {},
          "execution_count": 1
        }
      ]
    },
    {
      "source": [
        "def preprocess_tweet(tweet):\n",
        "    # Remove URLs, mentions, and hashtags\n",
        "    tweet = re.sub(r'http\\S+|www\\S+|https\\S+', '', tweet, flags=re.MULTILINE)\n",
        "    tweet = re.sub(r'@\\w+|#\\w+', '', tweet)\n",
        "\n",
        "    # Convert to lowercase\n",
        "    tweet = tweet.lower()\n",
        "\n",
        "    # Remove punctuation and special characters\n",
        "    tweet = re.sub(r'[^\\w\\s]', '', tweet)\n",
        "\n",
        "    # Remove stop words and lemmatize\n",
        "    stop_words = set(stopwords.words('english'))\n",
        "    lemmatizer = WordNetLemmatizer()\n",
        "    tweet = ' '.join([lemmatizer.lemmatize(word) for word in tweet.split() if word not in stop_words])\n",
        "\n",
        "    return tweet\n",
        "\n",
        "# Load the tweets dataset, specifying the encoding and no header\n",
        "tweets_df = pd.read_csv('tweet.csv', encoding='latin-1', header=None)  # header=None tells pandas there are no headers\n",
        "\n",
        "# Assign column names\n",
        "tweets_df.columns = ['id', 'timestamp', 'date', 'query', 'user', 'tweet'] # Replace with your actual column order\n",
        "\n",
        "# Apply preprocessing to the 'tweet' column\n",
        "tweets_df['text'] = tweets_df['tweet'].apply(preprocess_tweet)"
      ],
      "cell_type": "code",
      "metadata": {
        "id": "PnDX1PhQkNbY"
      },
      "execution_count": 3,
      "outputs": []
    },
    {
      "source": [
        "def assign_category(tweet):\n",
        "    categories = {\n",
        "        \"All_Beauty\": [\"beauty\", \"makeup\", \"cosmetics\", \"skincare\", \"haircare\", \"fragrance\", \"perfume\", \"nail\", \"salon\", \"spa\", \"lotion\", \"cream\", \"lipstick\", \"eyeliner\", \"mascara\", \"foundation\", \"blush\", \"eyeshadow\", \"shampoo\", \"conditioner\", \"hairstyling\", \"manicure\", \"pedicure\", \"facial\", \"massage\", \"waxing\", \"sephora\", \"ulta\", \"mac\", \"maybelline\", \"loreal\", \"revlon\", \"clinique\", \"este lauder\", \"lancome\"],\n",
        "        \"Amazon_Fashion\": [\"fashion\", \"clothing\", \"shoes\", \"accessories\", \"dress\", \"shirt\", \"pants\", \"jeans\", \"jacket\", \"coat\", \"handbag\", \"jewelry\", \"watch\", \"sunglasses\", \"style\", \"trend\", \"outfit\", \"apparel\", \"footwear\", \"sneaker\", \"heel\", \"boot\", \"sandal\", \"scarf\", \"belt\", \"hat\", \"bag\", \"purse\", \"wallet\", \"necklace\", \"earring\", \"bracelet\", \"ring\", \"nike\", \"adidas\", \"puma\", \"zara\", \"h&m\", \"forever 21\", \"levi's\", \"ralph lauren\", \"gucci\", \"prada\", \"louis vuitton\"],\n",
        "        \"Automotive\": [\"car\", \"vehicle\", \"auto\", \"engine\", \"tire\", \"wheel\", \"brake\", \"repair\", \"maintenance\", \"driving\", \"road\", \"travel\", \"automobile\", \"truck\", \"suv\", \"sedan\", \"coupe\", \"sports car\", \"electric car\", \"hybrid car\", \"gasoline\", \"diesel\", \"mileage\", \"fuel\", \"transmission\", \"steering\", \"suspension\", \"airbag\", \"seatbelt\", \"navigation\", \"gps\", \"tesla\", \"toyota\", \"honda\", \"ford\", \"chevrolet\", \"bmw\", \"mercedes-benz\", \"audi\", \"volkswagen\"],\n",
        "        \"Electronics\": [\"electronics\", \"gadget\", \"phone\", \"laptop\", \"computer\", \"tablet\", \"camera\", \"tv\", \"speaker\", \"headphone\", \"charger\", \"battery\", \"smartphone\", \"android\", \"ios\", \"iphone\", \"samsung\", \"google\", \"apple\", \"dell\", \"hp\", \"lenovo\", \"asus\", \"acer\", \"sony\", \"canon\", \"nikon\", \"bose\", \"jbl\", \"beats\", \"anker\", \"belkin\"],\n",
        "        \"Digital_Music\": [\"music\", \"song\", \"album\", \"artist\", \"band\", \"singer\", \"concert\", \"streaming\", \"spotify\", \"apple music\", \"mp3\", \"audio\", \"playlist\", \"genre\", \"rock\", \"pop\", \"hip hop\", \"classical\", \"jazz\", \"country\", \"electronic\", \"dance\", \"sound\", \"melody\", \"rhythm\", \"instrument\", \"guitar\", \"piano\", \"drums\", \"vocals\", \"microphone\"],\n",
        "        \"Software\": [\"software\", \"program\", \"app\", \"code\", \"development\", \"programming\", \"web\", \"mobile\", \"database\", \"cloud\", \"python\", \"java\", \"application\", \"website\", \"design\", \"coding\", \"algorithm\", \"data\", \"security\", \"cybersecurity\", \"artificial intelligence\", \"machine learning\", \"deep learning\", \"microsoft\", \"google\", \"apple\", \"amazon\", \"facebook\", \"oracle\", \"salesforce\", \"adobe\"],\n",
        "        \"Sports_and_Outdoors\": [\"sport\", \"outdoor\", \"fitness\", \"hiking\", \"running\", \"cycling\", \"swimming\", \"yoga\", \"gym\", \"camping\", \"fishing\", \"hunting\", \"football\", \"basketball\", \"baseball\", \"soccer\", \"tennis\", \"golf\", \"cricket\", \"hockey\", \"volleyball\", \"training\", \"exercise\", \"workout\", \"equipment\", \"gear\", \"apparel\", \"shoes\", \"nike\", \"adidas\", \"under armour\", \"reebok\", \"columbia\", \"patagonia\", \"north face\"],\n",
        "        \"Video_Games\": [\"game\", \"gaming\", \"console\", \"playstation\", \"xbox\", \"nintendo\", \"pc gaming\", \"steam\", \"online\", \"multiplayer\", \"controller\", \"virtual reality\", \"video game\", \"esports\", \"streamer\", \"twitch\", \"youtube\", \"action\", \"adventure\", \"rpg\", \"strategy\", \"shooter\", \"simulation\", \"sports\", \"racing\", \"puzzle\", \"fortnite\", \"call of duty\", \"league of legends\", \"minecraft\", \"grand theft auto\", \"fifa\", \"madden\"],\n",
        "        \"Grocery_and_Gourmet_Food\": [\"food\", \"grocery\", \"gourmet\", \"recipe\", \"cooking\", \"baking\", \"restaurant\", \"cafe\", \"meal\", \"dinner\", \"lunch\", \"breakfast\", \"organic\", \"vegan\", \"vegetarian\", \"produce\", \"meat\", \"seafood\", \"dairy\", \"bakery\", \"snacks\", \"beverages\", \"coffee\", \"tea\", \"wine\", \"beer\", \"chocolate\", \"cheese\", \"pasta\", \"rice\", \"bread\", \"cereal\", \"fruits\", \"vegetables\", \"whole foods\", \"trader joe's\", \"walmart\", \"target\", \"kroger\", \"amazon fresh\", \"instacart\"],\n",
        "        \"Movies_and_TV\": [\"movie\", \"film\", \"tv\", \"series\", \"cinema\", \"netflix\", \"hulu\", \"amazon prime\", \"actor\", \"actress\", \"director\", \"trailer\", \"drama\", \"comedy\", \"action\", \"adventure\", \"sci-fi\", \"fantasy\", \"horror\", \"thriller\", \"romance\", \"documentary\", \"animation\", \"anime\", \"superhero\", \"marvel\", \"dc\", \"disney\", \"pixar\", \"hbo\", \"showtime\", \"starz\", \"amc\", \"fx\", \"cnn\", \"fox\", \"nbc\", \"cbs\", \"abc\"]\n",
        "    }\n",
        "    found_categories = []  # To store found categories for this tweet\n",
        "    for category, keywords in categories.items():\n",
        "        for keyword in keywords:\n",
        "            if keyword in tweet:\n",
        "                found_categories.append(category)  # Add to list if found\n",
        "                # Optional: Add break here if you only want the first match per category\n",
        "    return found_categories or ['Other']  # Return list or 'Other' if none found\n",
        "\n",
        "# Load the tweets dataset using the correct encoding\n",
        "tweets_df = pd.read_csv('tweet.csv', encoding='latin-1', header=None)\n",
        "tweets_df.columns = ['id', 'timestamp', 'date', 'query', 'user', 'tweet']\n",
        "\n",
        "# Preprocess the tweets\n",
        "tweets_df['text'] = tweets_df['tweet'].apply(preprocess_tweet)\n",
        "\n",
        "# Assign categories using the function\n",
        "tweets_df['category'] = tweets_df['text'].apply(assign_category)\n",
        "\n",
        "# Explode the 'category' column to create individual rows for each category\n",
        "tweets_df_exploded = tweets_df.explode('category')\n",
        "\n",
        "# Create a DataFrame with category counts using the exploded DataFrame\n",
        "category_counts = tweets_df_exploded['category'].value_counts().reset_index()\n",
        "category_counts.columns = ['Category', 'Count']\n",
        "\n",
        "# Visualize category counts using Seaborn\n",
        "plt.figure(figsize=(12, 6))\n",
        "sns.barplot(x='Category', y='Count', data=category_counts)\n",
        "plt.xticks(rotation=45, ha='right')\n",
        "plt.title('Distribution of Tweet Categories')\n",
        "plt.tight_layout()\n",
        "plt.show()\n",
        "\n",
        "# Split into training and testing sets (using the exploded DataFrame)\n",
        "X_train, X_test, y_train, y_test = train_test_split(\n",
        "    tweets_df_exploded['text'], tweets_df_exploded['category'], test_size=0.2, random_state=42\n",
        ")\n"
      ],
      "cell_type": "code",
      "metadata": {
        "colab": {
          "base_uri": "https://localhost:8080/",
          "height": 349
        },
        "id": "xQI9Xbr_kOXO",
        "outputId": "d39233ad-cb20-41d4-de4c-cea6d313f96f"
      },
      "execution_count": 8,
      "outputs": [
        {
          "output_type": "display_data",
          "data": {
            "text/plain": [
              "<Figure size 1200x600 with 1 Axes>"
            ],
            "image/png": "[encoded data removed]"
          },
          "metadata": {}
        }
      ]
    },
    {
      "source": [
        "import pandas as pd\n",
        "from collections import defaultdict\n",
        "\n",
        "user_categories = defaultdict(lambda: defaultdict(int))\n",
        "\n",
        "for index, row in tweets_df.iterrows():\n",
        "    user = row['user']\n",
        "    # Access the 'category' column instead of 'categories'\n",
        "    categories = row['category']\n",
        "    for category in categories:\n",
        "        user_categories[user][category] += 1\n",
        "\n",
        "# Convert to DataFrame for easier analysis\n",
        "user_category_df = pd.DataFrame.from_dict(user_categories, orient='index').fillna(0)"
      ],
      "cell_type": "code",
      "metadata": {
        "id": "7ikuCsU2GUDi"
      },
      "execution_count": 9,
      "outputs": []
    },
    {
      "source": [
        "def get_top_categories(user, threshold=2):  # Example threshold\n",
        "    \"\"\"Returns the top categories for a user based on frequency.\"\"\"\n",
        "    # Check if the user exists in the DataFrame index\n",
        "    if user not in user_category_df.index:\n",
        "        print(f\"User '{user}' not found in the dataset.\")\n",
        "        return []  # Or raise an exception if you prefer\n",
        "\n",
        "    category_counts = user_category_df.loc[user].sort_values(ascending=False)\n",
        "    top_categories = category_counts[category_counts >= threshold].index.tolist()\n",
        "    return top_categories\n",
        "\n",
        "# Get a list of actual user IDs from your DataFrame\n",
        "actual_user_ids = tweets_df['user'].unique().tolist()\n",
        "\n",
        "# Print a few user IDs to see their format\n",
        "print(\"Some user IDs in your dataset:\", actual_user_ids[:50])  # Print the first 50\n",
        "\n",
        "# Example usage: Replace 'user1' with an actual user ID from your dataset\n",
        "top_categories_for_user = get_top_categories(actual_user_ids[0])\n",
        "print(f\"Top categories for user {actual_user_ids[0]}: {top_categories_for_user}\")"
      ],
      "cell_type": "code",
      "metadata": {
        "colab": {
          "base_uri": "https://localhost:8080/"
        },
        "id": "bXL6a6m7GXYL",
        "outputId": "de3d74c2-d961-4806-b6bf-136ae7b7c87b"
      },
      "execution_count": 10,
      "outputs": [
        {
          "output_type": "stream",
          "name": "stdout",
          "text": [
            "Some user IDs in your dataset: ['_TheSpecialOne_', 'scotthamilton', 'mattycus', 'ElleCTF', 'Karoli', 'joy_wolf', 'mybirch', 'coZZ', '2Hood4Hollywood', 'mimismo', 'erinx3leannexo', 'pardonlauren', 'TLeC', 'robrobbierobert', 'bayofwolves', 'HairByJess', 'lovesongwriter', 'armotley', 'starkissed', 'gi_gi_bee', 'quanvu', 'swinspeedx', 'cooliodoc', 'viJILLante', 'Ljelli3166', 'ChicagoCubbie', 'KatieAngell', 'gagoo', 'abel209', 'BaptisteTheFool', 'fatkat309', 'EmCDL', 'merisssa', 'Pbearfox', 'jsoo', 'scarletletterm', 'crosland_12', 'ajaxpro', 'Tmttq86', 'Anthony_Nguyen', 'itsanimesh', 'lionslamb', 'kennypham', 'DdubsShellBell', 'hpfangirl94', 'antzpantz', 'labrt2004', 'IrisJumbe', 'peacoats', 'cyantist']\n",
            "Top categories for user _TheSpecialOne_: []\n"
          ]
        }
      ]
    },
    {
      "source": [
        "# Create a TF-IDF vectorizer\n",
        "vectorizer = TfidfVectorizer(max_features=5000)  # Adjust max_features as needed\n",
        "X_train_vec = vectorizer.fit_transform(X_train)\n",
        "X_test_vec = vectorizer.transform(X_test)\n",
        "\n",
        "# Train a Naive Bayes classifier\n",
        "classifier = MultinomialNB()\n",
        "classifier.fit(X_train_vec, y_train)"
      ],
      "cell_type": "code",
      "metadata": {
        "colab": {
          "base_uri": "https://localhost:8080/",
          "height": 80
        },
        "id": "-IYrgMbhkPBE",
        "outputId": "738d6a73-1ecd-4bf8-bc14-35af1c04be7d"
      },
      "execution_count": 11,
      "outputs": [
        {
          "output_type": "execute_result",
          "data": {
            "text/plain": [
              "MultinomialNB()"
            ],
            "text/html": [
              "<style>#sk-container-id-1 {\n",
              "  /* Definition of color scheme common for light and dark mode */\n",
              "  --sklearn-color-text: black;\n",
              "  --sklearn-color-line: gray;\n",
              "  /* Definition of color scheme for unfitted estimators */\n",
              "  --sklearn-color-unfitted-level-0: #fff5e6;\n",
              "  --sklearn-color-unfitted-level-1: #f6e4d2;\n",
              "  --sklearn-color-unfitted-level-2: #ffe0b3;\n",
              "  --sklearn-color-unfitted-level-3: chocolate;\n",
              "  /* Definition of color scheme for fitted estimators */\n",
              "  --sklearn-color-fitted-level-0: #f0f8ff;\n",
              "  --sklearn-color-fitted-level-1: #d4ebff;\n",
              "  --sklearn-color-fitted-level-2: #b3dbfd;\n",
              "  --sklearn-color-fitted-level-3: cornflowerblue;\n",
              "\n",
              "  /* Specific color for light theme */\n",
              "  --sklearn-color-text-on-default-background: var(--sg-text-color, var(--theme-code-foreground, var(--jp-content-font-color1, black)));\n",
              "  --sklearn-color-background: var(--sg-background-color, var(--theme-background, var(--jp-layout-color0, white)));\n",
              "  --sklearn-color-border-box: var(--sg-text-color, var(--theme-code-foreground, var(--jp-content-font-color1, black)));\n",
              "  --sklearn-color-icon: #696969;\n",
              "\n",
              "  @media (prefers-color-scheme: dark) {\n",
              "    /* Redefinition of color scheme for dark theme */\n",
              "    --sklearn-color-text-on-default-background: var(--sg-text-color, var(--theme-code-foreground, var(--jp-content-font-color1, white)));\n",
              "    --sklearn-color-background: var(--sg-background-color, var(--theme-background, var(--jp-layout-color0, #111)));\n",
              "    --sklearn-color-border-box: var(--sg-text-color, var(--theme-code-foreground, var(--jp-content-font-color1, white)));\n",
              "    --sklearn-color-icon: #878787;\n",
              "  }\n",
              "}\n",
              "\n",
              "#sk-container-id-1 {\n",
              "  color: var(--sklearn-color-text);\n",
              "}\n",
              "\n",
              "#sk-container-id-1 pre {\n",
              "  padding: 0;\n",
              "}\n",
              "\n",
              "#sk-container-id-1 input.sk-hidden--visually {\n",
              "  border: 0;\n",
              "  clip: rect(1px 1px 1px 1px);\n",
              "  clip: rect(1px, 1px, 1px, 1px);\n",
              "  height: 1px;\n",
              "  margin: -1px;\n",
              "  overflow: hidden;\n",
              "  padding: 0;\n",
              "  position: absolute;\n",
              "  width: 1px;\n",
              "}\n",
              "\n",
              "#sk-container-id-1 div.sk-dashed-wrapped {\n",
              "  border: 1px dashed var(--sklearn-color-line);\n",
              "  margin: 0 0.4em 0.5em 0.4em;\n",
              "  box-sizing: border-box;\n",
              "  padding-bottom: 0.4em;\n",
              "  background-color: var(--sklearn-color-background);\n",
              "}\n",
              "\n",
              "#sk-container-id-1 div.sk-container {\n",
              "  /* jupyter's `normalize.less` sets `[hidden] { display: none; }`\n",
              "     but bootstrap.min.css set `[hidden] { display: none !important; }`\n",
              "     so we also need the `!important` here to be able to override the\n",
              "     default hidden behavior on the sphinx rendered scikit-learn.org.\n",
              "     See: https://github.com/scikit-learn/scikit-learn/issues/21755 */\n",
              "  display: inline-block !important;\n",
              "  position: relative;\n",
              "}\n",
              "\n",
              "#sk-container-id-1 div.sk-text-repr-fallback {\n",
              "  display: none;\n",
              "}\n",
              "\n",
              "div.sk-parallel-item,\n",
              "div.sk-serial,\n",
              "div.sk-item {\n",
              "  /* draw centered vertical line to link estimators */\n",
              "  background-image: linear-gradient(var(--sklearn-color-text-on-default-background), var(--sklearn-color-text-on-default-background));\n",
              "  background-size: 2px 100%;\n",
              "  background-repeat: no-repeat;\n",
              "  background-position: center center;\n",
              "}\n",
              "\n",
              "/* Parallel-specific style estimator block */\n",
              "\n",
              "#sk-container-id-1 div.sk-parallel-item::after {\n",
              "  content: \"\";\n",
              "  width: 100%;\n",
              "  border-bottom: 2px solid var(--sklearn-color-text-on-default-background);\n",
              "  flex-grow: 1;\n",
              "}\n",
              "\n",
              "#sk-container-id-1 div.sk-parallel {\n",
              "  display: flex;\n",
              "  align-items: stretch;\n",
              "  justify-content: center;\n",
              "  background-color: var(--sklearn-color-background);\n",
              "  position: relative;\n",
              "}\n",
              "\n",
              "#sk-container-id-1 div.sk-parallel-item {\n",
              "  display: flex;\n",
              "  flex-direction: column;\n",
              "}\n",
              "\n",
              "#sk-container-id-1 div.sk-parallel-item:first-child::after {\n",
              "  align-self: flex-end;\n",
              "  width: 50%;\n",
              "}\n",
              "\n",
              "#sk-container-id-1 div.sk-parallel-item:last-child::after {\n",
              "  align-self: flex-start;\n",
              "  width: 50%;\n",
              "}\n",
              "\n",
              "#sk-container-id-1 div.sk-parallel-item:only-child::after {\n",
              "  width: 0;\n",
              "}\n",
              "\n",
              "/* Serial-specific style estimator block */\n",
              "\n",
              "#sk-container-id-1 div.sk-serial {\n",
              "  display: flex;\n",
              "  flex-direction: column;\n",
              "  align-items: center;\n",
              "  background-color: var(--sklearn-color-background);\n",
              "  padding-right: 1em;\n",
              "  padding-left: 1em;\n",
              "}\n",
              "\n",
              "\n",
              "/* Toggleable style: style used for estimator/Pipeline/ColumnTransformer box that is\n",
              "clickable and can be expanded/collapsed.\n",
              "- Pipeline and ColumnTransformer use this feature and define the default style\n",
              "- Estimators will overwrite some part of the style using the `sk-estimator` class\n",
              "*/\n",
              "\n",
              "/* Pipeline and ColumnTransformer style (default) */\n",
              "\n",
              "#sk-container-id-1 div.sk-toggleable {\n",
              "  /* Default theme specific background. It is overwritten whether we have a\n",
              "  specific estimator or a Pipeline/ColumnTransformer */\n",
              "  background-color: var(--sklearn-color-background);\n",
              "}\n",
              "\n",
              "/* Toggleable label */\n",
              "#sk-container-id-1 label.sk-toggleable__label {\n",
              "  cursor: pointer;\n",
              "  display: block;\n",
              "  width: 100%;\n",
              "  margin-bottom: 0;\n",
              "  padding: 0.5em;\n",
              "  box-sizing: border-box;\n",
              "  text-align: center;\n",
              "}\n",
              "\n",
              "#sk-container-id-1 label.sk-toggleable__label-arrow:before {\n",
              "  /* Arrow on the left of the label */\n",
              "  content: \"▸\";\n",
              "  float: left;\n",
              "  margin-right: 0.25em;\n",
              "  color: var(--sklearn-color-icon);\n",
              "}\n",
              "\n",
              "#sk-container-id-1 label.sk-toggleable__label-arrow:hover:before {\n",
              "  color: var(--sklearn-color-text);\n",
              "}\n",
              "\n",
              "/* Toggleable content - dropdown */\n",
              "\n",
              "#sk-container-id-1 div.sk-toggleable__content {\n",
              "  max-height: 0;\n",
              "  max-width: 0;\n",
              "  overflow: hidden;\n",
              "  text-align: left;\n",
              "  /* unfitted */\n",
              "  background-color: var(--sklearn-color-unfitted-level-0);\n",
              "}\n",
              "\n",
              "#sk-container-id-1 div.sk-toggleable__content.fitted {\n",
              "  /* fitted */\n",
              "  background-color: var(--sklearn-color-fitted-level-0);\n",
              "}\n",
              "\n",
              "#sk-container-id-1 div.sk-toggleable__content pre {\n",
              "  margin: 0.2em;\n",
              "  border-radius: 0.25em;\n",
              "  color: var(--sklearn-color-text);\n",
              "  /* unfitted */\n",
              "  background-color: var(--sklearn-color-unfitted-level-0);\n",
              "}\n",
              "\n",
              "#sk-container-id-1 div.sk-toggleable__content.fitted pre {\n",
              "  /* unfitted */\n",
              "  background-color: var(--sklearn-color-fitted-level-0);\n",
              "}\n",
              "\n",
              "#sk-container-id-1 input.sk-toggleable__control:checked~div.sk-toggleable__content {\n",
              "  /* Expand drop-down */\n",
              "  max-height: 200px;\n",
              "  max-width: 100%;\n",
              "  overflow: auto;\n",
              "}\n",
              "\n",
              "#sk-container-id-1 input.sk-toggleable__control:checked~label.sk-toggleable__label-arrow:before {\n",
              "  content: \"▾\";\n",
              "}\n",
              "\n",
              "/* Pipeline/ColumnTransformer-specific style */\n",
              "\n",
              "#sk-container-id-1 div.sk-label input.sk-toggleable__control:checked~label.sk-toggleable__label {\n",
              "  color: var(--sklearn-color-text);\n",
              "  background-color: var(--sklearn-color-unfitted-level-2);\n",
              "}\n",
              "\n",
              "#sk-container-id-1 div.sk-label.fitted input.sk-toggleable__control:checked~label.sk-toggleable__label {\n",
              "  background-color: var(--sklearn-color-fitted-level-2);\n",
              "}\n",
              "\n",
              "/* Estimator-specific style */\n",
              "\n",
              "/* Colorize estimator box */\n",
              "#sk-container-id-1 div.sk-estimator input.sk-toggleable__control:checked~label.sk-toggleable__label {\n",
              "  /* unfitted */\n",
              "  background-color: var(--sklearn-color-unfitted-level-2);\n",
              "}\n",
              "\n",
              "#sk-container-id-1 div.sk-estimator.fitted input.sk-toggleable__control:checked~label.sk-toggleable__label {\n",
              "  /* fitted */\n",
              "  background-color: var(--sklearn-color-fitted-level-2);\n",
              "}\n",
              "\n",
              "#sk-container-id-1 div.sk-label label.sk-toggleable__label,\n",
              "#sk-container-id-1 div.sk-label label {\n",
              "  /* The background is the default theme color */\n",
              "  color: var(--sklearn-color-text-on-default-background);\n",
              "}\n",
              "\n",
              "/* On hover, darken the color of the background */\n",
              "#sk-container-id-1 div.sk-label:hover label.sk-toggleable__label {\n",
              "  color: var(--sklearn-color-text);\n",
              "  background-color: var(--sklearn-color-unfitted-level-2);\n",
              "}\n",
              "\n",
              "/* Label box, darken color on hover, fitted */\n",
              "#sk-container-id-1 div.sk-label.fitted:hover label.sk-toggleable__label.fitted {\n",
              "  color: var(--sklearn-color-text);\n",
              "  background-color: var(--sklearn-color-fitted-level-2);\n",
              "}\n",
              "\n",
              "/* Estimator label */\n",
              "\n",
              "#sk-container-id-1 div.sk-label label {\n",
              "  font-family: monospace;\n",
              "  font-weight: bold;\n",
              "  display: inline-block;\n",
              "  line-height: 1.2em;\n",
              "}\n",
              "\n",
              "#sk-container-id-1 div.sk-label-container {\n",
              "  text-align: center;\n",
              "}\n",
              "\n",
              "/* Estimator-specific */\n",
              "#sk-container-id-1 div.sk-estimator {\n",
              "  font-family: monospace;\n",
              "  border: 1px dotted var(--sklearn-color-border-box);\n",
              "  border-radius: 0.25em;\n",
              "  box-sizing: border-box;\n",
              "  margin-bottom: 0.5em;\n",
              "  /* unfitted */\n",
              "  background-color: var(--sklearn-color-unfitted-level-0);\n",
              "}\n",
              "\n",
              "#sk-container-id-1 div.sk-estimator.fitted {\n",
              "  /* fitted */\n",
              "  background-color: var(--sklearn-color-fitted-level-0);\n",
              "}\n",
              "\n",
              "/* on hover */\n",
              "#sk-container-id-1 div.sk-estimator:hover {\n",
              "  /* unfitted */\n",
              "  background-color: var(--sklearn-color-unfitted-level-2);\n",
              "}\n",
              "\n",
              "#sk-container-id-1 div.sk-estimator.fitted:hover {\n",
              "  /* fitted */\n",
              "  background-color: var(--sklearn-color-fitted-level-2);\n",
              "}\n",
              "\n",
              "/* Specification for estimator info (e.g. \"i\" and \"?\") */\n",
              "\n",
              "/* Common style for \"i\" and \"?\" */\n",
              "\n",
              ".sk-estimator-doc-link,\n",
              "a:link.sk-estimator-doc-link,\n",
              "a:visited.sk-estimator-doc-link {\n",
              "  float: right;\n",
              "  font-size: smaller;\n",
              "  line-height: 1em;\n",
              "  font-family: monospace;\n",
              "  background-color: var(--sklearn-color-background);\n",
              "  border-radius: 1em;\n",
              "  height: 1em;\n",
              "  width: 1em;\n",
              "  text-decoration: none !important;\n",
              "  margin-left: 1ex;\n",
              "  /* unfitted */\n",
              "  border: var(--sklearn-color-unfitted-level-1) 1pt solid;\n",
              "  color: var(--sklearn-color-unfitted-level-1);\n",
              "}\n",
              "\n",
              ".sk-estimator-doc-link.fitted,\n",
              "a:link.sk-estimator-doc-link.fitted,\n",
              "a:visited.sk-estimator-doc-link.fitted {\n",
              "  /* fitted */\n",
              "  border: var(--sklearn-color-fitted-level-1) 1pt solid;\n",
              "  color: var(--sklearn-color-fitted-level-1);\n",
              "}\n",
              "\n",
              "/* On hover */\n",
              "div.sk-estimator:hover .sk-estimator-doc-link:hover,\n",
              ".sk-estimator-doc-link:hover,\n",
              "div.sk-label-container:hover .sk-estimator-doc-link:hover,\n",
              ".sk-estimator-doc-link:hover {\n",
              "  /* unfitted */\n",
              "  background-color: var(--sklearn-color-unfitted-level-3);\n",
              "  color: var(--sklearn-color-background);\n",
              "  text-decoration: none;\n",
              "}\n",
              "\n",
              "div.sk-estimator.fitted:hover .sk-estimator-doc-link.fitted:hover,\n",
              ".sk-estimator-doc-link.fitted:hover,\n",
              "div.sk-label-container:hover .sk-estimator-doc-link.fitted:hover,\n",
              ".sk-estimator-doc-link.fitted:hover {\n",
              "  /* fitted */\n",
              "  background-color: var(--sklearn-color-fitted-level-3);\n",
              "  color: var(--sklearn-color-background);\n",
              "  text-decoration: none;\n",
              "}\n",
              "\n",
              "/* Span, style for the box shown on hovering the info icon */\n",
              ".sk-estimator-doc-link span {\n",
              "  display: none;\n",
              "  z-index: 9999;\n",
              "  position: relative;\n",
              "  font-weight: normal;\n",
              "  right: .2ex;\n",
              "  padding: .5ex;\n",
              "  margin: .5ex;\n",
              "  width: min-content;\n",
              "  min-width: 20ex;\n",
              "  max-width: 50ex;\n",
              "  color: var(--sklearn-color-text);\n",
              "  box-shadow: 2pt 2pt 4pt #999;\n",
              "  /* unfitted */\n",
              "  background: var(--sklearn-color-unfitted-level-0);\n",
              "  border: .5pt solid var(--sklearn-color-unfitted-level-3);\n",
              "}\n",
              "\n",
              ".sk-estimator-doc-link.fitted span {\n",
              "  /* fitted */\n",
              "  background: var(--sklearn-color-fitted-level-0);\n",
              "  border: var(--sklearn-color-fitted-level-3);\n",
              "}\n",
              "\n",
              ".sk-estimator-doc-link:hover span {\n",
              "  display: block;\n",
              "}\n",
              "\n",
              "/* \"?\"-specific style due to the `<a>` HTML tag */\n",
              "\n",
              "#sk-container-id-1 a.estimator_doc_link {\n",
              "  float: right;\n",
              "  font-size: 1rem;\n",
              "  line-height: 1em;\n",
              "  font-family: monospace;\n",
              "  background-color: var(--sklearn-color-background);\n",
              "  border-radius: 1rem;\n",
              "  height: 1rem;\n",
              "  width: 1rem;\n",
              "  text-decoration: none;\n",
              "  /* unfitted */\n",
              "  color: var(--sklearn-color-unfitted-level-1);\n",
              "  border: var(--sklearn-color-unfitted-level-1) 1pt solid;\n",
              "}\n",
              "\n",
              "#sk-container-id-1 a.estimator_doc_link.fitted {\n",
              "  /* fitted */\n",
              "  border: var(--sklearn-color-fitted-level-1) 1pt solid;\n",
              "  color: var(--sklearn-color-fitted-level-1);\n",
              "}\n",
              "\n",
              "/* On hover */\n",
              "#sk-container-id-1 a.estimator_doc_link:hover {\n",
              "  /* unfitted */\n",
              "  background-color: var(--sklearn-color-unfitted-level-3);\n",
              "  color: var(--sklearn-color-background);\n",
              "  text-decoration: none;\n",
              "}\n",
              "\n",
              "#sk-container-id-1 a.estimator_doc_link.fitted:hover {\n",
              "  /* fitted */\n",
              "  background-color: var(--sklearn-color-fitted-level-3);\n",
              "}\n",
              "</style><div id=\"sk-container-id-1\" class=\"sk-top-container\"><div class=\"sk-text-repr-fallback\"><pre>MultinomialNB()</pre><b>In a Jupyter environment, please rerun this cell to show the HTML representation or trust the notebook. <br />On GitHub, the HTML representation is unable to render, please try loading this page with nbviewer.org.</b></div><div class=\"sk-container\" hidden><div class=\"sk-item\"><div class=\"sk-estimator fitted sk-toggleable\"><input class=\"sk-toggleable__control sk-hidden--visually\" id=\"sk-estimator-id-1\" type=\"checkbox\" checked><label for=\"sk-estimator-id-1\" class=\"sk-toggleable__label fitted sk-toggleable__label-arrow fitted\">&nbsp;&nbsp;MultinomialNB<a class=\"sk-estimator-doc-link fitted\" rel=\"noreferrer\" target=\"_blank\" href=\"https://scikit-learn.org/1.5/modules/generated/sklearn.naive_bayes.MultinomialNB.html\">?<span>Documentation for MultinomialNB</span></a><span class=\"sk-estimator-doc-link fitted\">i<span>Fitted</span></span></label><div class=\"sk-toggleable__content fitted\"><pre>MultinomialNB()</pre></div> </div></div></div></div>"
            ]
          },
          "metadata": {},
          "execution_count": 11
        }
      ]
    },
    {
      "source": [
        "# Predict categories for the test set\n",
        "y_pred = classifier.predict(X_test_vec)\n",
        "\n",
        "# Evaluate the model\n",
        "accuracy = accuracy_score(y_test, y_pred)\n",
        "print(\"Accuracy:\", accuracy)"
      ],
      "cell_type": "code",
      "metadata": {
        "colab": {
          "base_uri": "https://localhost:8080/"
        },
        "id": "h_4FqU1gkPao",
        "outputId": "aa9db269-fdda-4228-9b65-c7d5f10b7110"
      },
      "execution_count": 12,
      "outputs": [
        {
          "output_type": "stream",
          "name": "stdout",
          "text": [
            "Accuracy: 0.8305495893872394\n"
          ]
        }
      ]
    },
    {
      "cell_type": "code",
      "source": [
        "# Function to save the model and vectorizer\n",
        "def save_model_and_vectorizer(classifier, vectorizer):\n",
        "  import pickle\n",
        "  with open('tweet_classifier.pkl', 'wb') as f:\n",
        "      pickle.dump(classifier, f)\n",
        "  with open('tfidf_vectorizer.pkl', 'wb') as f:\n",
        "      pickle.dump(vectorizer, f)"
      ],
      "metadata": {
        "id": "5AJDNZ3L4lD2"
      },
      "execution_count": 13,
      "outputs": []
    },
    {
      "cell_type": "code",
      "source": [
        "# Funktion zur Vorhersage der Tweet-Kategorie\n",
        "def predict_tweet_category(tweet):\n",
        "  import pickle\n",
        "  # Lade den Klassifikator und den Vektorisierer\n",
        "  with open('tweet_classifier.pkl', 'rb') as f:\n",
        "      classifier = pickle.load(f)\n",
        "  with open('tfidf_vectorizer.pkl', 'rb') as f:\n",
        "      vectorizer = pickle.load(f)\n",
        "\n",
        "  # Import the preprocess_tweet function if it's in a different file/cell\n",
        "  from IPython.display import display # This line ensures the current cell is displayed\n",
        "                                     # after execution, preventing issues with function\n",
        "                                     # visibility across cells in a notebook environment\n",
        "  from __main__ import preprocess_tweet # This import specifically imports the\n",
        "                                        # preprocess_tweet function that might be defined\n",
        "                                        # earlier in the IPython notebook session.\n",
        "\n",
        "  # Check if the input is a string\n",
        "  if not isinstance(tweet, str):\n",
        "      raise TypeError(\"Input 'tweet' must be a string.\")\n",
        "\n",
        "  # Vorverarbeiten des Tweets, ähnlich wie bei tweets_df['tweet'].apply(preprocess_tweet)\n",
        "  processed_tweet = preprocess_tweet(tweet)\n",
        "\n",
        "  # Transformiere den Tweet mit dem Vektorisierer\n",
        "  tweet_vec = vectorizer.transform([processed_tweet])\n",
        "\n",
        "  # Sage die Kategorie voraus\n",
        "  predicted_category = classifier.predict(tweet_vec)[0]\n",
        "\n",
        "  return predicted_category"
      ],
      "metadata": {
        "id": "BDLLZTZy4pdt"
      },
      "execution_count": 14,
      "outputs": []
    },
    {
      "cell_type": "code",
      "source": [
        "# Call the save function to save your model and vectorizer\n",
        "save_model_and_vectorizer(classifier, vectorizer)\n",
        "\n",
        "# Example usage of the prediction function\n",
        "new_tweet = \"I love this new lipstick!\"\n",
        "predicted_category = predict_tweet_category(new_tweet)\n",
        "print(f\"Predicted category: {predicted_category}\")"
      ],
      "metadata": {
        "colab": {
          "base_uri": "https://localhost:8080/"
        },
        "id": "EZ9Vd1LQ4vIW",
        "outputId": "3e53fec1-2222-4112-ea21-3ff95114831a"
      },
      "execution_count": 15,
      "outputs": [
        {
          "output_type": "stream",
          "name": "stdout",
          "text": [
            "Predicted category: Other\n"
          ]
        }
      ]
    },
    {
      "source": [
        "!pip install datasketch scikit-learn\n",
        "from datasketch import MinHash, MinHashLSH\n",
        "from sklearn.cluster import KMeans\n",
        "import pandas as pd\n",
        "import matplotlib.pyplot as plt\n",
        "import seaborn as sns"
      ],
      "cell_type": "code",
      "metadata": {
        "colab": {
          "base_uri": "https://localhost:8080/"
        },
        "id": "kaRzwqEGXWGq",
        "outputId": "8412fbe9-d33e-46c8-e1e4-39c1bfd754f9"
      },
      "execution_count": 4,
      "outputs": [
        {
          "output_type": "stream",
          "name": "stdout",
          "text": [
            "Collecting datasketch\n",
            "  Downloading datasketch-1.6.5-py3-none-any.whl.metadata (5.8 kB)\n",
            "Requirement already satisfied: scikit-learn in /usr/local/lib/python3.10/dist-packages (1.5.2)\n",
            "Requirement already satisfied: numpy>=1.11 in /usr/local/lib/python3.10/dist-packages (from datasketch) (1.26.4)\n",
            "Requirement already satisfied: scipy>=1.0.0 in /usr/local/lib/python3.10/dist-packages (from datasketch) (1.13.1)\n",
            "Requirement already satisfied: joblib>=1.2.0 in /usr/local/lib/python3.10/dist-packages (from scikit-learn) (1.4.2)\n",
            "Requirement already satisfied: threadpoolctl>=3.1.0 in /usr/local/lib/python3.10/dist-packages (from scikit-learn) (3.5.0)\n",
            "Downloading datasketch-1.6.5-py3-none-any.whl (89 kB)\n",
            "\u001b[?25l   \u001b[90m━━━━━━━━━━━━━━━━━━━━━━━━━━━━━━━━━━━━━━━━\u001b[0m \u001b[32m0.0/89.2 kB\u001b[0m \u001b[31m?\u001b[0m eta \u001b[36m-:--:--\u001b[0m\r\u001b[2K   \u001b[91m━━━━━━━━━━━━━━━━━━━━━━━━━━━━━━━━━━━━\u001b[0m\u001b[91m╸\u001b[0m\u001b[90m━━━\u001b[0m \u001b[32m81.9/89.2 kB\u001b[0m \u001b[31m2.4 MB/s\u001b[0m eta \u001b[36m0:00:01\u001b[0m\r\u001b[2K   \u001b[90m━━━━━━━━━━━━━━━━━━━━━━━━━━━━━━━━━━━━━━━━\u001b[0m \u001b[32m89.2/89.2 kB\u001b[0m \u001b[31m2.0 MB/s\u001b[0m eta \u001b[36m0:00:00\u001b[0m\n",
            "\u001b[?25hInstalling collected packages: datasketch\n",
            "Successfully installed datasketch-1.6.5\n"
          ]
        }
      ]
    },
    {
      "source": [
        "user_tweets = tweets_df.groupby('user')['text'].apply(list).to_dict()\n",
        "\n",
        "user_minhashes = {}\n",
        "for user, tweets in user_tweets.items():\n",
        "    minhash = MinHash(num_perm=64)\n",
        "    for tweet in tweets:\n",
        "        minhash.update(tweet.encode('utf8'))\n",
        "    user_minhashes[user] = minhash"
      ],
      "cell_type": "code",
      "metadata": {
        "id": "3Zsfu-StXZ3O"
      },
      "execution_count": 5,
      "outputs": []
    },
    {
      "source": [
        "lsh = MinHashLSH(threshold=0.5, num_perm=64)\n",
        "for user, minhash in user_minhashes.items():\n",
        "    lsh.insert(user, minhash)\n",
        "\n",
        "# Extract the MinHash signatures (numerical representations)\n",
        "minhash_signatures = [minhash.digest() for minhash in user_minhashes.values()]\n",
        "\n",
        "# Now use minhash_signatures for KMeans clustering\n",
        "kmeans = KMeans(n_clusters=10, random_state=42)\n",
        "cluster_labels = kmeans.fit_predict(minhash_signatures)"
      ],
      "cell_type": "code",
      "metadata": {
        "id": "EPOcnlm3YCEu"
      },
      "execution_count": 6,
      "outputs": []
    },
    {
      "source": [
        "user_clusters = dict(zip(user_minhashes.keys(), cluster_labels))\n",
        "\n",
        "# Create a dataframe with user, cluster, and top categories\n",
        "cluster_df = pd.DataFrame(list(user_clusters.items()), columns=['user', 'cluster'])\n",
        "cluster_df['top_categories'] = cluster_df['user'].apply(get_top_categories)\n",
        "\n",
        "# Display the dataframe\n",
        "display(cluster_df)"
      ],
      "cell_type": "code",
      "metadata": {
        "id": "i4bLF-uiYC5t",
        "colab": {
          "base_uri": "https://localhost:8080/",
          "height": 228
        },
        "outputId": "783caf8a-453c-4b1e-ec45-ac24a1a66ad6"
      },
      "execution_count": 8,
      "outputs": [
        {
          "output_type": "error",
          "ename": "NameError",
          "evalue": "name 'get_top_categories' is not defined",
          "traceback": [
            "\u001b[0;31m---------------------------------------------------------------------------\u001b[0m",
            "\u001b[0;31mNameError\u001b[0m                                 Traceback (most recent call last)",
            "\u001b[0;32m<ipython-input-8-f02b9cd817aa>\u001b[0m in \u001b[0;36m<cell line: 5>\u001b[0;34m()\u001b[0m\n\u001b[1;32m      3\u001b[0m \u001b[0;31m# Create a dataframe with user, cluster, and top categories\u001b[0m\u001b[0;34m\u001b[0m\u001b[0;34m\u001b[0m\u001b[0m\n\u001b[1;32m      4\u001b[0m \u001b[0mcluster_df\u001b[0m \u001b[0;34m=\u001b[0m \u001b[0mpd\u001b[0m\u001b[0;34m.\u001b[0m\u001b[0mDataFrame\u001b[0m\u001b[0;34m(\u001b[0m\u001b[0mlist\u001b[0m\u001b[0;34m(\u001b[0m\u001b[0muser_clusters\u001b[0m\u001b[0;34m.\u001b[0m\u001b[0mitems\u001b[0m\u001b[0;34m(\u001b[0m\u001b[0;34m)\u001b[0m\u001b[0;34m)\u001b[0m\u001b[0;34m,\u001b[0m \u001b[0mcolumns\u001b[0m\u001b[0;34m=\u001b[0m\u001b[0;34m[\u001b[0m\u001b[0;34m'user'\u001b[0m\u001b[0;34m,\u001b[0m \u001b[0;34m'cluster'\u001b[0m\u001b[0;34m]\u001b[0m\u001b[0;34m)\u001b[0m\u001b[0;34m\u001b[0m\u001b[0;34m\u001b[0m\u001b[0m\n\u001b[0;32m----> 5\u001b[0;31m \u001b[0mcluster_df\u001b[0m\u001b[0;34m[\u001b[0m\u001b[0;34m'top_categories'\u001b[0m\u001b[0;34m]\u001b[0m \u001b[0;34m=\u001b[0m \u001b[0mcluster_df\u001b[0m\u001b[0;34m[\u001b[0m\u001b[0;34m'user'\u001b[0m\u001b[0;34m]\u001b[0m\u001b[0;34m.\u001b[0m\u001b[0mapply\u001b[0m\u001b[0;34m(\u001b[0m\u001b[0mget_top_categories\u001b[0m\u001b[0;34m)\u001b[0m\u001b[0;34m\u001b[0m\u001b[0;34m\u001b[0m\u001b[0m\n\u001b[0m\u001b[1;32m      6\u001b[0m \u001b[0;34m\u001b[0m\u001b[0m\n\u001b[1;32m      7\u001b[0m \u001b[0;31m# Display the dataframe\u001b[0m\u001b[0;34m\u001b[0m\u001b[0;34m\u001b[0m\u001b[0m\n",
            "\u001b[0;31mNameError\u001b[0m: name 'get_top_categories' is not defined"
          ]
        }
      ]
    },
    {
      "source": [
        "plt.figure(figsize=(10, 6))\n",
        "sns.countplot(x='cluster', data=cluster_df)\n",
        "plt.title('Distribution of Users Across Clusters')\n",
        "plt.xlabel('Cluster')\n",
        "plt.ylabel('Number of Users')\n",
        "plt.show()"
      ],
      "cell_type": "code",
      "metadata": {
        "id": "gxn2ub3kYDgx",
        "colab": {
          "base_uri": "https://localhost:8080/",
          "height": 435
        },
        "outputId": "e8aafbad-9715-4982-a7b1-c54a4d622c7c"
      },
      "execution_count": 17,
      "outputs": [
        {
          "output_type": "display_data",
          "data": {
            "text/plain": [
              "<Figure size 1000x600 with 1 Axes>"
            ],
            "image/png": "[encoded data removed]"
          },
          "metadata": {}
        }
      ]
    },
    {
      "source": [
        "# Get top categories for each cluster\n",
        "cluster_categories = cluster_df.groupby('cluster')['top_categories'].sum().reset_index()\n",
        "\n",
        "# Explode the 'top_categories' column for visualization\n",
        "cluster_categories_exploded = cluster_categories.explode('top_categories')\n",
        "\n",
        "# Visualize top categories per cluster\n",
        "plt.figure(figsize=(12, 8))\n",
        "sns.countplot(y='top_categories', hue='cluster', data=cluster_categories_exploded,\n",
        "              order=cluster_categories_exploded['top_categories'].value_counts().index)\n",
        "plt.title('Top Categories in Each Cluster')\n",
        "plt.xlabel('Number of Users')\n",
        "plt.ylabel('Category')\n",
        "plt.legend(title='Cluster')\n",
        "plt.show()"
      ],
      "cell_type": "code",
      "metadata": {
        "id": "6gQFzIYTYEGv",
        "colab": {
          "base_uri": "https://localhost:8080/",
          "height": 416
        },
        "outputId": "87bccdc3-7d4c-4398-addf-f2103d82cb26"
      },
      "execution_count": 18,
      "outputs": [
        {
          "output_type": "display_data",
          "data": {
            "text/plain": [
              "<Figure size 1200x800 with 1 Axes>"
            ],
            "image/png": "[encoded data removed]"
          },
          "metadata": {}
        }
      ]
    },
    {
      "source": [
        "import matplotlib.pyplot as plt\n",
        "import numpy as np\n",
        "\n",
        "# Get cluster centers (you might need to calculate these based on your clustering method)\n",
        "cluster_centers = kmeans.cluster_centers_  # Assuming you used KMeans\n",
        "\n",
        "# Plot the data points with cluster assignments\n",
        "plt.figure(figsize=(10, 6))\n",
        "# Assuming 'user' column contains numerical user IDs:\n",
        "plt.scatter(cluster_df['user'], np.zeros_like(cluster_df['user']), c=cluster_df['cluster'], cmap='viridis')\n",
        "\n",
        "# Draw circles around clusters, but only using the first element of the center for x-coordinate\n",
        "for i, center in enumerate(cluster_centers):\n",
        "    radius = 0.5  # Adjust as needed\n",
        "    # Use center[0] to get the first element (x-coordinate) for the circle\n",
        "    circle = plt.Circle((center[0], 0), radius, color='r', fill=False)\n",
        "    plt.gca().add_patch(circle)\n",
        "\n",
        "plt.title('Clusters with Overlapping Data Points')\n",
        "plt.xlabel('User')\n",
        "plt.ylabel('')  # No relevant label for y-axis in this case\n",
        "plt.show()"
      ],
      "cell_type": "code",
      "metadata": {
        "colab": {
          "base_uri": "https://localhost:8080/",
          "height": 263
        },
        "id": "r-XGo1iwLYAK",
        "outputId": "006c07f2-3dc2-4896-9def-7068c9652535"
      },
      "execution_count": 7,
      "outputs": [
        {
          "output_type": "error",
          "ename": "NameError",
          "evalue": "name 'cluster_df' is not defined",
          "traceback": [
            "\u001b[0;31m---------------------------------------------------------------------------\u001b[0m",
            "\u001b[0;31mNameError\u001b[0m                                 Traceback (most recent call last)",
            "\u001b[0;32m<ipython-input-7-518900e51299>\u001b[0m in \u001b[0;36m<cell line: 10>\u001b[0;34m()\u001b[0m\n\u001b[1;32m      8\u001b[0m \u001b[0mplt\u001b[0m\u001b[0;34m.\u001b[0m\u001b[0mfigure\u001b[0m\u001b[0;34m(\u001b[0m\u001b[0mfigsize\u001b[0m\u001b[0;34m=\u001b[0m\u001b[0;34m(\u001b[0m\u001b[0;36m10\u001b[0m\u001b[0;34m,\u001b[0m \u001b[0;36m6\u001b[0m\u001b[0;34m)\u001b[0m\u001b[0;34m)\u001b[0m\u001b[0;34m\u001b[0m\u001b[0;34m\u001b[0m\u001b[0m\n\u001b[1;32m      9\u001b[0m \u001b[0;31m# Assuming 'user' column contains numerical user IDs:\u001b[0m\u001b[0;34m\u001b[0m\u001b[0;34m\u001b[0m\u001b[0m\n\u001b[0;32m---> 10\u001b[0;31m \u001b[0mplt\u001b[0m\u001b[0;34m.\u001b[0m\u001b[0mscatter\u001b[0m\u001b[0;34m(\u001b[0m\u001b[0mcluster_df\u001b[0m\u001b[0;34m[\u001b[0m\u001b[0;34m'user'\u001b[0m\u001b[0;34m]\u001b[0m\u001b[0;34m,\u001b[0m \u001b[0mnp\u001b[0m\u001b[0;34m.\u001b[0m\u001b[0mzeros_like\u001b[0m\u001b[0;34m(\u001b[0m\u001b[0mcluster_df\u001b[0m\u001b[0;34m[\u001b[0m\u001b[0;34m'user'\u001b[0m\u001b[0;34m]\u001b[0m\u001b[0;34m)\u001b[0m\u001b[0;34m,\u001b[0m \u001b[0mc\u001b[0m\u001b[0;34m=\u001b[0m\u001b[0mcluster_df\u001b[0m\u001b[0;34m[\u001b[0m\u001b[0;34m'cluster'\u001b[0m\u001b[0;34m]\u001b[0m\u001b[0;34m,\u001b[0m \u001b[0mcmap\u001b[0m\u001b[0;34m=\u001b[0m\u001b[0;34m'viridis'\u001b[0m\u001b[0;34m)\u001b[0m\u001b[0;34m\u001b[0m\u001b[0;34m\u001b[0m\u001b[0m\n\u001b[0m\u001b[1;32m     11\u001b[0m \u001b[0;34m\u001b[0m\u001b[0m\n\u001b[1;32m     12\u001b[0m \u001b[0;31m# Draw circles around clusters, but only using the first element of the center for x-coordinate\u001b[0m\u001b[0;34m\u001b[0m\u001b[0;34m\u001b[0m\u001b[0m\n",
            "\u001b[0;31mNameError\u001b[0m: name 'cluster_df' is not defined"
          ]
        },
        {
          "output_type": "display_data",
          "data": {
            "text/plain": [
              "<Figure size 1000x600 with 0 Axes>"
            ]
          },
          "metadata": {}
        }
      ]
    },
    {
      "source": [
        "from scipy.spatial.distance import cdist\n",
        "\n",
        "# Calculate distances between data points and cluster centers\n",
        "distances = cdist(cluster_df[['user', 'cluster']], cluster_centers)\n",
        "\n",
        "# Find points within the radius of multiple clusters\n",
        "overlapping_points = np.where(np.sum(distances <= radius, axis=1) > 1)[0]\n",
        "\n",
        "# Print or visualize overlapping points\n",
        "print(\"Overlapping points:\", overlapping_points)"
      ],
      "cell_type": "code",
      "metadata": {
        "colab": {
          "base_uri": "https://localhost:8080/",
          "height": 349
        },
        "id": "lDzyYstDLZ55",
        "outputId": "d331a1ef-94c3-498e-ba4d-9fe04bbe2bb2"
      },
      "execution_count": 9,
      "outputs": [
        {
          "output_type": "error",
          "ename": "ValueError",
          "evalue": "XA and XB must have the same number of columns (i.e. feature dimension.)",
          "traceback": [
            "\u001b[0;31m---------------------------------------------------------------------------\u001b[0m",
            "\u001b[0;31mValueError\u001b[0m                                Traceback (most recent call last)",
            "\u001b[0;32m<ipython-input-9-23e4b39b08d3>\u001b[0m in \u001b[0;36m<cell line: 4>\u001b[0;34m()\u001b[0m\n\u001b[1;32m      2\u001b[0m \u001b[0;34m\u001b[0m\u001b[0m\n\u001b[1;32m      3\u001b[0m \u001b[0;31m# Calculate distances between data points and cluster centers\u001b[0m\u001b[0;34m\u001b[0m\u001b[0;34m\u001b[0m\u001b[0m\n\u001b[0;32m----> 4\u001b[0;31m \u001b[0mdistances\u001b[0m \u001b[0;34m=\u001b[0m \u001b[0mcdist\u001b[0m\u001b[0;34m(\u001b[0m\u001b[0mcluster_df\u001b[0m\u001b[0;34m[\u001b[0m\u001b[0;34m[\u001b[0m\u001b[0;34m'user'\u001b[0m\u001b[0;34m,\u001b[0m \u001b[0;34m'cluster'\u001b[0m\u001b[0;34m]\u001b[0m\u001b[0;34m]\u001b[0m\u001b[0;34m,\u001b[0m \u001b[0mcluster_centers\u001b[0m\u001b[0;34m)\u001b[0m\u001b[0;34m\u001b[0m\u001b[0;34m\u001b[0m\u001b[0m\n\u001b[0m\u001b[1;32m      5\u001b[0m \u001b[0;34m\u001b[0m\u001b[0m\n\u001b[1;32m      6\u001b[0m \u001b[0;31m# Find points within the radius of multiple clusters\u001b[0m\u001b[0;34m\u001b[0m\u001b[0;34m\u001b[0m\u001b[0m\n",
            "\u001b[0;32m/usr/local/lib/python3.10/dist-packages/scipy/spatial/distance.py\u001b[0m in \u001b[0;36mcdist\u001b[0;34m(XA, XB, metric, out, **kwargs)\u001b[0m\n\u001b[1;32m   2959\u001b[0m         \u001b[0;32mraise\u001b[0m \u001b[0mValueError\u001b[0m\u001b[0;34m(\u001b[0m\u001b[0;34m'XB must be a 2-dimensional array.'\u001b[0m\u001b[0;34m)\u001b[0m\u001b[0;34m\u001b[0m\u001b[0;34m\u001b[0m\u001b[0m\n\u001b[1;32m   2960\u001b[0m     \u001b[0;32mif\u001b[0m \u001b[0ms\u001b[0m\u001b[0;34m[\u001b[0m\u001b[0;36m1\u001b[0m\u001b[0;34m]\u001b[0m \u001b[0;34m!=\u001b[0m \u001b[0msB\u001b[0m\u001b[0;34m[\u001b[0m\u001b[0;36m1\u001b[0m\u001b[0;34m]\u001b[0m\u001b[0;34m:\u001b[0m\u001b[0;34m\u001b[0m\u001b[0;34m\u001b[0m\u001b[0m\n\u001b[0;32m-> 2961\u001b[0;31m         raise ValueError('XA and XB must have the same number of columns '\n\u001b[0m\u001b[1;32m   2962\u001b[0m                          '(i.e. feature dimension.)')\n\u001b[1;32m   2963\u001b[0m \u001b[0;34m\u001b[0m\u001b[0m\n",
            "\u001b[0;31mValueError\u001b[0m: XA and XB must have the same number of columns (i.e. feature dimension.)"
          ]
        }
      ]
    },
    {
      "source": [
        "# Save the LSH index\n",
        "import pickle\n",
        "with open('lsh_index.pkl', 'wb') as f:\n",
        "    pickle.dump(lsh, f)\n",
        "\n",
        "# Save any other relevant data, like user_minhashes or cluster_df\n",
        "with open('user_minhashes.pkl', 'wb') as f:\n",
        "    pickle.dump(user_minhashes, f)\n",
        "\n",
        "# ... (save other data as needed)"
      ],
      "cell_type": "code",
      "metadata": {
        "colab": {
          "base_uri": "https://localhost:8080/",
          "height": 211
        },
        "id": "eIAd88t0LaqV",
        "outputId": "75c0c680-b1d4-4dcc-a6dc-2abbd8f705db"
      },
      "execution_count": 11,
      "outputs": [
        {
          "output_type": "error",
          "ename": "KeyboardInterrupt",
          "evalue": "",
          "traceback": [
            "\u001b[0;31m---------------------------------------------------------------------------\u001b[0m",
            "\u001b[0;31mKeyboardInterrupt\u001b[0m                         Traceback (most recent call last)",
            "\u001b[0;32m<ipython-input-11-7783a47cf8c5>\u001b[0m in \u001b[0;36m<cell line: 3>\u001b[0;34m()\u001b[0m\n\u001b[1;32m      2\u001b[0m \u001b[0;32mimport\u001b[0m \u001b[0mpickle\u001b[0m\u001b[0;34m\u001b[0m\u001b[0;34m\u001b[0m\u001b[0m\n\u001b[1;32m      3\u001b[0m \u001b[0;32mwith\u001b[0m \u001b[0mopen\u001b[0m\u001b[0;34m(\u001b[0m\u001b[0;34m'lsh_index.pkl'\u001b[0m\u001b[0;34m,\u001b[0m \u001b[0;34m'wb'\u001b[0m\u001b[0;34m)\u001b[0m \u001b[0;32mas\u001b[0m \u001b[0mf\u001b[0m\u001b[0;34m:\u001b[0m\u001b[0;34m\u001b[0m\u001b[0;34m\u001b[0m\u001b[0m\n\u001b[0;32m----> 4\u001b[0;31m     \u001b[0mpickle\u001b[0m\u001b[0;34m.\u001b[0m\u001b[0mdump\u001b[0m\u001b[0;34m(\u001b[0m\u001b[0mlsh\u001b[0m\u001b[0;34m,\u001b[0m \u001b[0mf\u001b[0m\u001b[0;34m)\u001b[0m\u001b[0;34m\u001b[0m\u001b[0;34m\u001b[0m\u001b[0m\n\u001b[0m\u001b[1;32m      5\u001b[0m \u001b[0;34m\u001b[0m\u001b[0m\n\u001b[1;32m      6\u001b[0m \u001b[0;31m# Save any other relevant data, like user_minhashes or cluster_df\u001b[0m\u001b[0;34m\u001b[0m\u001b[0;34m\u001b[0m\u001b[0m\n",
            "\u001b[0;31mKeyboardInterrupt\u001b[0m: "
          ]
        }
      ]
    },
    {
      "source": [
        "import pickle\n",
        "\n",
        "# Load the LSH index\n",
        "with open('lsh_index.pkl', 'rb') as f:\n",
        "    lsh = pickle.load(f)\n",
        "\n",
        "# Load other saved data\n",
        "with open('user_minhashes.pkl', 'rb') as f:\n",
        "    user_minhashes = pickle.load(f)\n",
        "\n",
        "# ... (load other data as needed)"
      ],
      "cell_type": "code",
      "metadata": {
        "id": "h4rSk848LbZB"
      },
      "execution_count": null,
      "outputs": []
    }
  ]
}